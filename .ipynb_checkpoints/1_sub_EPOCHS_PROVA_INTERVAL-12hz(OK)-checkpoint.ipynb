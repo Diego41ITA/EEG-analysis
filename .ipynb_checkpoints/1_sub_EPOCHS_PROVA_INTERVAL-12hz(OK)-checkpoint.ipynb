{
 "cells": [
  {
   "cell_type": "code",
   "execution_count": 3,
   "id": "portuguese-texture",
   "metadata": {},
   "outputs": [],
   "source": [
    "import mne \n",
    "from glob import glob \n",
    "import os\n",
    "import matplotlib \n",
    "import matplotlib.pyplot as plt\n",
    "from openpyxl import load_workbook\n",
    "import numpy as np\n",
    "import pandas as pd"
   ]
  },
  {
   "cell_type": "code",
   "execution_count": 131,
   "id": "antique-alexander",
   "metadata": {},
   "outputs": [],
   "source": [
    "#matplotlib.use('Qt5Agg') "
   ]
  },
  {
   "cell_type": "code",
   "execution_count": 5,
   "id": "surgical-wallpaper",
   "metadata": {},
   "outputs": [
    {
     "name": "stdout",
     "output_type": "stream",
     "text": [
      "1\n",
      "1\n"
     ]
    }
   ],
   "source": [
    "#quanti soggetti ho nella mia cartella?\n",
    "subs_file_path=glob(\"..\\..\\DATASET PRINCIPALE\\CartellaEEG/*.vhdr\")\n",
    "print(len(subs_file_path))\n",
    "\n",
    "#creo vettore file excel---- !ATTENZIONE FAR RUNNARE IL FILE EXCEL.YPTR per aggiustare gli excel\n",
    "excel_file_path=glob(\"..\\..\\DATASET PRINCIPALE\\Cartellaexcel/*.xlsx\")\n",
    "print(len(excel_file_path))"
   ]
  },
  {
   "cell_type": "code",
   "execution_count": 6,
   "id": "24ecc2b6",
   "metadata": {},
   "outputs": [],
   "source": [
    "#Creo la funzione che legge e processa i dati \n",
    "def prep_data(file_path):\n",
    "    data= mne.io.read_raw_brainvision(file_path, preload=True)\n",
    "    data.set_eeg_reference();                                                    #riferimento rispetto alla media\n",
    "    data.notch_filter(np.arange(10,70,10), filter_length='auto',phase='zero')    #tolta frequenza di rete e ESSVP\n",
    "    data.filter(l_freq=0.1,h_freq=12, filter_length='auto', method='iir')                                            #banda passante\n",
    "    data.resample(250)                                                           #diminuzione dati\n",
    "    return data\n",
    "\n",
    "#Creo la funzione che estrae la matrice delle annotazioni dai file excel \n",
    "def get_vectors(data_path):\n",
    "\n",
    "    book=load_workbook(data_path)\n",
    "    sheet=book.active\n",
    "    \n",
    "    #onset\n",
    "    onset=[]\n",
    "    for row in sheet['a2':'a22249']:\n",
    "        for cel in row:\n",
    "               onset.append(cel.value)\n",
    "                \n",
    "    onset=np.array(onset)\n",
    "    onset=onset*0.001\n",
    "    \n",
    "    #duration \n",
    "    duration=np.ones((22248,), dtype=int)*0.01\n",
    "    \n",
    "    #description \n",
    "    animal=['animal']\n",
    "    human=['human']\n",
    "    food=['food']\n",
    "    vehicles=['vehicles']\n",
    "    tools=['tools']\n",
    "    description=[]\n",
    "    for row in sheet ['e2':'e22249']:\n",
    "        for cel in row:\n",
    "            if(cel.value in animal):\n",
    "                description.append(cel.value)\n",
    "            elif(cel.value in human):\n",
    "                description.append(cel.value)\n",
    "            elif(cel.value in food):\n",
    "                description.append(cel.value)\n",
    "            elif(cel.value in vehicles):\n",
    "                description.append(cel.value)\n",
    "            elif(cel.value in tools):\n",
    "                description.append(cel.value)\n",
    "            else:\n",
    "                description.append('E 1')\n",
    "    return [onset, duration, description] \n",
    "\n",
    "#creo la funzione che applica le annotazioni \n",
    "def fix_events(data_vector, matrix):\n",
    "    myannot=[mne.Annotations(onset=matrix[i][0], duration=matrix[i][1],description=matrix[i][2])for i in range(len(excel_file_path))]\n",
    "    for i in range(len(excel_file_path)):\n",
    "        data_vector[i].set_annotations(myannot[i])\n",
    "    \n",
    "    return data_vector\n",
    "\n",
    "#creo la funzione che estrae le epochs\n",
    "def get_epochs(data):\n",
    "    tmin=-0.100                   #partono 100 millisecondi prima di un evento \n",
    "    tmax=0.5                      #finiscon 500 milli secondo dopo (come da paper dataset, per prendere tutte le latenze ERP)\n",
    "    baseline=(None,0)\n",
    "    epochs=mne.Epochs(data,events=mne.events_from_annotations(data)[0] ,tmin=tmin,tmax=tmax,baseline=baseline, preload=True)\n",
    "    #reject  bad epochs\n",
    "    reject_criteria = dict(eeg=150e-6)\n",
    "    flat_criteria = dict(eeg=1e-6)\n",
    "    epochs.drop_bad(reject=reject_criteria, flat=flat_criteria)\n",
    "\n",
    "    return epochs\n",
    "\n",
    "def prep_data_ica(file_path):\n",
    "    data= mne.io.read_raw_brainvision(file_path, preload=True)\n",
    "    data.set_eeg_reference();                                                  #riferimento rispetto alla media\n",
    "    data.notch_filter(np.arange(10,60,10), filter_length='auto',phase='zero')  #tolta frequenza di rete e ESSVP\n",
    "    data.resample(250)                                                         #diminuzione dati\n",
    "    return data"
   ]
  },
  {
   "cell_type": "code",
   "execution_count": 7,
   "id": "4ccd08c3",
   "metadata": {},
   "outputs": [
    {
     "name": "stdout",
     "output_type": "stream",
     "text": [
      "Extracting parameters from ..\\..\\DATASET PRINCIPALE\\CartellaEEG\\sub-01_task-rsvp_eeg.vhdr...\n",
      "Setting channel info structure...\n",
      "Reading 0 ... 3035739  =      0.000 ...  3035.739 secs...\n",
      "EEG channel type selected for re-referencing\n",
      "Applying average reference.\n",
      "Applying a custom EEG reference.\n",
      "Setting up band-stop filter\n",
      "\n",
      "FIR filter parameters\n",
      "---------------------\n",
      "Designing a one-pass, zero-phase, non-causal bandstop filter:\n",
      "- Windowed time-domain design (firwin) method\n",
      "- Hamming window with 0.0194 passband ripple and 53 dB stopband attenuation\n",
      "- Lower transition bandwidth: 0.50 Hz\n",
      "- Upper transition bandwidth: 0.50 Hz\n",
      "- Filter length: 6601 samples (6.601 sec)\n",
      "\n",
      "Filtering raw data in 1 contiguous segment\n",
      "Setting up band-pass filter from 0.1 - 12 Hz\n",
      "\n",
      "IIR filter parameters\n",
      "---------------------\n",
      "Butterworth bandpass zero-phase (two-pass forward and reverse) non-causal filter:\n",
      "- Filter order 16 (effective, after forward-backward)\n",
      "- Cutoffs at 0.10, 12.00 Hz: -6.02, -6.02 dB\n",
      "\n"
     ]
    }
   ],
   "source": [
    "#funzione preprocessing\n",
    "prep_data_sub_vector= [prep_data(i)for i in subs_file_path]"
   ]
  },
  {
   "cell_type": "code",
   "execution_count": 8,
   "id": "similar-rover",
   "metadata": {},
   "outputs": [
    {
     "name": "stdout",
     "output_type": "stream",
     "text": [
      "Extracting parameters from ..\\..\\DATASET PRINCIPALE\\CartellaEEG\\sub-01_task-rsvp_eeg.vhdr...\n",
      "Setting channel info structure...\n",
      "Reading 0 ... 3035739  =      0.000 ...  3035.739 secs...\n",
      "EEG channel type selected for re-referencing\n",
      "Applying average reference.\n",
      "Applying a custom EEG reference.\n",
      "Setting up band-stop filter\n",
      "\n",
      "FIR filter parameters\n",
      "---------------------\n",
      "Designing a one-pass, zero-phase, non-causal bandstop filter:\n",
      "- Windowed time-domain design (firwin) method\n",
      "- Hamming window with 0.0194 passband ripple and 53 dB stopband attenuation\n",
      "- Lower transition bandwidth: 0.50 Hz\n",
      "- Upper transition bandwidth: 0.50 Hz\n",
      "- Filter length: 6601 samples (6.601 sec)\n",
      "\n",
      "Filtering raw data in 1 contiguous segment\n",
      "Setting up band-pass filter from 1 - 50 Hz\n",
      "\n",
      "FIR filter parameters\n",
      "---------------------\n",
      "Designing a one-pass, zero-phase, non-causal bandpass filter:\n",
      "- Windowed time-domain design (firwin) method\n",
      "- Hamming window with 0.0194 passband ripple and 53 dB stopband attenuation\n",
      "- Lower passband edge: 1.00\n",
      "- Lower transition bandwidth: 1.00 Hz (-6 dB cutoff frequency: 0.50 Hz)\n",
      "- Upper passband edge: 50.00 Hz\n",
      "- Upper transition bandwidth: 12.50 Hz (-6 dB cutoff frequency: 56.25 Hz)\n",
      "- Filter length: 825 samples (3.300 sec)\n",
      "\n"
     ]
    }
   ],
   "source": [
    "#estraggo la matrice delle annotazioni \n",
    "matrix=[]\n",
    "for i in range(len(excel_file_path)):\n",
    "    matrix=[get_vectors(i)for i in excel_file_path]\n",
    "    \n",
    "#sistemo gli eventi \n",
    "data_vector_ok= fix_events(prep_data_sub_vector, matrix)\n",
    "\n",
    "#ICA\n",
    "#applico la ica per visualizzare i picchi di potenza da rimuovere\n",
    "raw_ica = [prep_data_ica(i) for i in subs_file_path]\n",
    "\n",
    "ica = mne.preprocessing.ICA(n_components=0.99999, max_iter=1000,random_state=42)\n",
    "raw_list= [i.filter(1, 50) for  i in raw_ica ]"
   ]
  },
  {
   "cell_type": "code",
   "execution_count": 9,
   "id": "ff34f8b0",
   "metadata": {},
   "outputs": [
    {
     "name": "stdout",
     "output_type": "stream",
     "text": [
      "Fitting ICA to data using 63 channels (please be patient, this may take a while)\n",
      "Selecting by explained variance: 59 components\n",
      "Fitting ICA took 171.0s.\n",
      "Using EOG channels: Fp1, Fp2\n",
      "... filtering ICA sources\n",
      "Setting up band-pass filter from 1 - 10 Hz\n",
      "\n",
      "FIR filter parameters\n",
      "---------------------\n",
      "Designing a two-pass forward and reverse, zero-phase, non-causal bandpass filter:\n",
      "- Windowed frequency-domain design (firwin2) method\n",
      "- Hann window\n",
      "- Lower passband edge: 1.00\n",
      "- Lower transition bandwidth: 0.50 Hz (-12 dB cutoff frequency: 0.75 Hz)\n",
      "- Upper passband edge: 10.00 Hz\n",
      "- Upper transition bandwidth: 0.50 Hz (-12 dB cutoff frequency: 10.25 Hz)\n",
      "- Filter length: 2500 samples (10.000 sec)\n",
      "\n",
      "... filtering target\n",
      "Setting up band-pass filter from 1 - 10 Hz\n",
      "\n",
      "FIR filter parameters\n",
      "---------------------\n",
      "Designing a two-pass forward and reverse, zero-phase, non-causal bandpass filter:\n",
      "- Windowed frequency-domain design (firwin2) method\n",
      "- Hann window\n",
      "- Lower passband edge: 1.00\n",
      "- Lower transition bandwidth: 0.50 Hz (-12 dB cutoff frequency: 0.75 Hz)\n",
      "- Upper passband edge: 10.00 Hz\n",
      "- Upper transition bandwidth: 0.50 Hz (-12 dB cutoff frequency: 10.25 Hz)\n",
      "- Filter length: 2500 samples (10.000 sec)\n",
      "\n",
      "... filtering ICA sources\n",
      "Setting up band-pass filter from 1 - 10 Hz\n",
      "\n",
      "FIR filter parameters\n",
      "---------------------\n",
      "Designing a two-pass forward and reverse, zero-phase, non-causal bandpass filter:\n",
      "- Windowed frequency-domain design (firwin2) method\n",
      "- Hann window\n",
      "- Lower passband edge: 1.00\n",
      "- Lower transition bandwidth: 0.50 Hz (-12 dB cutoff frequency: 0.75 Hz)\n",
      "- Upper passband edge: 10.00 Hz\n",
      "- Upper transition bandwidth: 0.50 Hz (-12 dB cutoff frequency: 10.25 Hz)\n",
      "- Filter length: 2500 samples (10.000 sec)\n",
      "\n",
      "... filtering target\n",
      "Setting up band-pass filter from 1 - 10 Hz\n",
      "\n",
      "FIR filter parameters\n",
      "---------------------\n",
      "Designing a two-pass forward and reverse, zero-phase, non-causal bandpass filter:\n",
      "- Windowed frequency-domain design (firwin2) method\n",
      "- Hann window\n",
      "- Lower passband edge: 1.00\n",
      "- Lower transition bandwidth: 0.50 Hz (-12 dB cutoff frequency: 0.75 Hz)\n",
      "- Upper passband edge: 10.00 Hz\n",
      "- Upper transition bandwidth: 0.50 Hz (-12 dB cutoff frequency: 10.25 Hz)\n",
      "- Filter length: 2500 samples (10.000 sec)\n",
      "\n",
      "Applying ICA to Raw instance\n",
      "    Transforming to ICA space (59 components)\n",
      "    Zeroing out 4 ICA components\n",
      "    Projecting back using 63 PCA components\n"
     ]
    }
   ],
   "source": [
    "#per sistemare il codice bisogna creare nomi1 con i soggetti precedenti al primo di nomi2\n",
    "\n",
    "ica.fit(raw_list[0])\n",
    "bad_idx, scores=ica.find_bads_eog(raw_ica[0],ch_name=['Fp1','Fp2'],threshold=1)\n",
    "ica.exclude=bad_idx\n",
    "data_vector_ok[0]=ica.apply(data_vector_ok[0], exclude=ica.exclude)\n",
    "\n"
   ]
  },
  {
   "cell_type": "code",
   "execution_count": 10,
   "id": "hearing-effect",
   "metadata": {},
   "outputs": [
    {
     "name": "stdout",
     "output_type": "stream",
     "text": [
      "Used Annotations descriptions: ['E 1', 'animal', 'human']\n",
      "Not setting metadata\n",
      "Not setting metadata\n",
      "22248 matching events found\n",
      "Setting baseline interval to [-0.1, 0.0] sec\n",
      "Applying baseline correction (mode: mean)\n",
      "0 projection items activated\n",
      "Loading data for 22248 events and 151 original time points ...\n",
      "0 bad epochs dropped\n",
      "0 bad epochs dropped\n"
     ]
    }
   ],
   "source": [
    "#chiamo la funzione che crei le epochs e le salvi nei file fif\n",
    "epochs_vector=[get_epochs(i)for i in data_vector_ok]"
   ]
  },
  {
   "cell_type": "code",
   "execution_count": 354,
   "id": "planned-sector",
   "metadata": {},
   "outputs": [
    {
     "data": {
      "text/plain": [
       "22248"
      ]
     },
     "execution_count": 354,
     "metadata": {},
     "output_type": "execute_result"
    }
   ],
   "source": [
    "epochs=epochs_vector[0]\n",
    "len(epochs)"
   ]
  },
  {
   "cell_type": "code",
   "execution_count": 376,
   "id": "removable-knight",
   "metadata": {},
   "outputs": [
    {
     "name": "stdout",
     "output_type": "stream",
     "text": [
      "1308\n",
      "(456, 7, 151)\n"
     ]
    }
   ],
   "source": [
    "#10002 e 10004 --> 0.74% acc \n",
    "epochs_a=epochs['10002'].get_data(picks=[15,17,16,45,46,48,47])\n",
    "epochs_u=epochs['10003'].get_data(picks=[15,17,16,45,46,48,47])\n",
    "\n",
    "\n",
    "print(epochs_a.shape[0])\n",
    "print(epochs_u.shape)"
   ]
  },
  {
   "cell_type": "code",
   "execution_count": 377,
   "id": "alternative-lecture",
   "metadata": {},
   "outputs": [],
   "source": [
    "epochs_a_list=[epochs_a[i,:,:]for i in range(epochs_a.shape[0])]\n",
    "epochs_u_list=[epochs_u[i,:,:]for i in range(epochs_u.shape[0])]"
   ]
  },
  {
   "cell_type": "code",
   "execution_count": null,
   "id": "answering-welcome",
   "metadata": {},
   "outputs": [],
   "source": []
  },
  {
   "cell_type": "code",
   "execution_count": 378,
   "id": "close-valuable",
   "metadata": {},
   "outputs": [],
   "source": [
    "#medio i canali \n",
    "EV_a=np.mean(epochs_a, axis=1)\n",
    "EV_u=np.mean(epochs_u, axis=1)\n"
   ]
  },
  {
   "cell_type": "code",
   "execution_count": 379,
   "id": "portuguese-roman",
   "metadata": {},
   "outputs": [
    {
     "data": {
      "text/plain": [
       "(1308, 151)"
      ]
     },
     "execution_count": 379,
     "metadata": {},
     "output_type": "execute_result"
    }
   ],
   "source": [
    "EV_a.shape"
   ]
  },
  {
   "cell_type": "code",
   "execution_count": 380,
   "id": "guided-terrorist",
   "metadata": {},
   "outputs": [
    {
     "data": {
      "text/plain": [
       "<matplotlib.lines.Line2D at 0x2355bd274a8>"
      ]
     },
     "execution_count": 380,
     "metadata": {},
     "output_type": "execute_result"
    },
    {
     "data": {
      "image/png": "[encoded data removed]",
      "text/plain": [
       "<Figure size 864x576 with 1 Axes>"
      ]
     },
     "metadata": {
      "needs_background": "light"
     },
     "output_type": "display_data"
    }
   ],
   "source": [
    "plt.plot(np.linspace(-100,500,151),(((np.mean(EV_a, axis=0))+(np.mean(EV_u, axis=0)))/151))\n",
    "plt.axvline(x = 90, color = 'g')\n",
    "plt.axvline(x = 170, color = 'g')\n",
    "plt.axvline(x = 255, color = 'g')\n",
    "plt.axvline(x = 350, color = 'g')"
   ]
  },
  {
   "cell_type": "code",
   "execution_count": 381,
   "id": "interesting-pipeline",
   "metadata": {},
   "outputs": [
    {
     "name": "stdout",
     "output_type": "stream",
     "text": [
      "0 --- -100.0\n",
      "1 --- -96.0\n",
      "2 --- -92.0\n",
      "3 --- -88.0\n",
      "4 --- -84.0\n",
      "5 --- -80.0\n",
      "6 --- -76.0\n",
      "7 --- -72.0\n",
      "8 --- -68.0\n",
      "9 --- -64.0\n",
      "10 --- -60.0\n",
      "11 --- -56.0\n",
      "12 --- -52.0\n",
      "13 --- -48.0\n",
      "14 --- -44.0\n",
      "15 --- -40.0\n",
      "16 --- -36.0\n",
      "17 --- -32.0\n",
      "18 --- -28.0\n",
      "19 --- -24.0\n",
      "20 --- -20.0\n",
      "21 --- -16.0\n",
      "22 --- -12.0\n",
      "23 --- -8.0\n",
      "24 --- -4.0\n",
      "25 --- 0.0\n",
      "26 --- 4.0\n",
      "27 --- 8.0\n",
      "28 --- 12.0\n",
      "29 --- 16.0\n",
      "30 --- 20.0\n",
      "31 --- 24.0\n",
      "32 --- 28.0\n",
      "33 --- 32.0\n",
      "34 --- 36.0\n",
      "35 --- 40.0\n",
      "36 --- 44.0\n",
      "37 --- 48.0\n",
      "38 --- 52.0\n",
      "39 --- 56.0\n",
      "40 --- 60.0\n",
      "41 --- 64.0\n",
      "42 --- 68.0\n",
      "43 --- 72.0\n",
      "44 --- 76.0\n",
      "45 --- 80.0\n",
      "46 --- 84.0\n",
      "47 --- 88.0\n",
      "48 --- 92.0\n",
      "49 --- 96.0\n",
      "50 --- 100.0\n",
      "51 --- 104.0\n",
      "52 --- 108.0\n",
      "53 --- 112.0\n",
      "54 --- 116.0\n",
      "55 --- 120.0\n",
      "56 --- 124.0\n",
      "57 --- 128.0\n",
      "58 --- 132.0\n",
      "59 --- 136.0\n",
      "60 --- 140.0\n",
      "61 --- 144.0\n",
      "62 --- 148.0\n",
      "63 --- 152.0\n",
      "64 --- 156.0\n",
      "65 --- 160.0\n",
      "66 --- 164.0\n",
      "67 --- 168.0\n",
      "68 --- 172.0\n",
      "69 --- 176.0\n",
      "70 --- 180.0\n",
      "71 --- 184.0\n",
      "72 --- 188.0\n",
      "73 --- 192.0\n",
      "74 --- 196.0\n",
      "75 --- 200.0\n",
      "76 --- 204.0\n",
      "77 --- 208.0\n",
      "78 --- 212.0\n",
      "79 --- 216.0\n",
      "80 --- 220.0\n",
      "81 --- 224.0\n",
      "82 --- 228.0\n",
      "83 --- 232.0\n",
      "84 --- 236.0\n",
      "85 --- 240.0\n",
      "86 --- 244.0\n",
      "87 --- 248.0\n",
      "88 --- 252.0\n",
      "89 --- 256.0\n",
      "90 --- 260.0\n",
      "91 --- 264.0\n",
      "92 --- 268.0\n",
      "93 --- 272.0\n",
      "94 --- 276.0\n",
      "95 --- 280.0\n",
      "96 --- 284.0\n",
      "97 --- 288.0\n",
      "98 --- 292.0\n",
      "99 --- 296.0\n",
      "100 --- 300.0\n",
      "101 --- 304.0\n",
      "102 --- 308.0\n",
      "103 --- 312.0\n",
      "104 --- 316.0\n",
      "105 --- 320.0\n",
      "106 --- 324.0\n",
      "107 --- 328.0\n",
      "108 --- 332.0\n",
      "109 --- 336.0\n",
      "110 --- 340.0\n",
      "111 --- 344.0\n",
      "112 --- 348.0\n",
      "113 --- 352.0\n",
      "114 --- 356.0\n",
      "115 --- 360.0\n",
      "116 --- 364.0\n",
      "117 --- 368.0\n",
      "118 --- 372.0\n",
      "119 --- 376.0\n",
      "120 --- 380.0\n",
      "121 --- 384.0\n",
      "122 --- 388.0\n",
      "123 --- 392.0\n",
      "124 --- 396.0\n",
      "125 --- 400.0\n",
      "126 --- 404.0\n",
      "127 --- 408.0\n",
      "128 --- 412.0\n",
      "129 --- 416.0\n",
      "130 --- 420.0\n",
      "131 --- 424.0\n",
      "132 --- 428.0\n",
      "133 --- 432.0\n",
      "134 --- 436.0\n",
      "135 --- 440.0\n",
      "136 --- 444.0\n",
      "137 --- 448.0\n",
      "138 --- 452.0\n",
      "139 --- 456.0\n",
      "140 --- 460.0\n",
      "141 --- 464.0\n",
      "142 --- 468.0\n",
      "143 --- 472.0\n",
      "144 --- 476.0\n",
      "145 --- 480.0\n",
      "146 --- 484.0\n",
      "147 --- 488.0\n",
      "148 --- 492.0\n",
      "149 --- 496.0\n",
      "150 --- 500.0\n"
     ]
    }
   ],
   "source": [
    "x=np.linspace(-100,500,151)\n",
    "for i in range(len(x)):\n",
    "    print(i,\"---\",x[i])\n",
    "    \n",
    "    \n",
    "#47--> 88 #67 -->168 #89 --> 256 #113 --> 352.0\n"
   ]
  },
  {
   "cell_type": "code",
   "execution_count": 382,
   "id": "stretch-charles",
   "metadata": {},
   "outputs": [],
   "source": [
    "Sid=[47,67,89,113]"
   ]
  },
  {
   "cell_type": "code",
   "execution_count": 388,
   "id": "korean-smith",
   "metadata": {},
   "outputs": [],
   "source": [
    "#eseguo la segmentazione per tutti gli animali e per tutti gli uomini \n",
    "S_a=[[np.take(j,np.arange(Sid[i],Sid[i+1]),axis=1)for  i in range(len(Sid)-1)]for  j in epochs_a_list]\n",
    "S_u=[[np.take(j,np.arange(Sid[i],Sid[i+1]),axis=1)for  i in range(len(Sid)-1)]for  j in epochs_u_list]"
   ]
  },
  {
   "cell_type": "code",
   "execution_count": 389,
   "id": "working-style",
   "metadata": {},
   "outputs": [],
   "source": [
    "S_mean_a=[[np.mean(i,axis=1) for i in S_a[j]]for j in range(len(epochs_a_list))]\n",
    "S_mean_u=[[np.mean(i,axis=1) for i in S_u[j]]for j in range(len(epochs_u_list))]"
   ]
  },
  {
   "cell_type": "code",
   "execution_count": 390,
   "id": "consecutive-vinyl",
   "metadata": {
    "scrolled": true
   },
   "outputs": [],
   "source": [
    "Features_a =[np.concatenate((S_mean_a[i][0][:],S_mean_a[i][1][:],S_mean_a[i][2][:])) for  i in range(len(S_mean_a))]\n",
    "Features_u =[np.concatenate((S_mean_u[i][0][:],S_mean_u[i][1][:],S_mean_u[i][2][:])) for  i in range(len(S_mean_u))]"
   ]
  },
  {
   "cell_type": "code",
   "execution_count": 391,
   "id": "norwegian-payment",
   "metadata": {},
   "outputs": [],
   "source": [
    "a_type=np.zeros(456, dtype=int)\n",
    "u_type=np.ones(456, dtype=int)"
   ]
  },
  {
   "cell_type": "code",
   "execution_count": 392,
   "id": "renewable-setup",
   "metadata": {},
   "outputs": [],
   "source": [
    "labels=np.concatenate((a_type,u_type))"
   ]
  },
  {
   "cell_type": "code",
   "execution_count": 396,
   "id": "southeast-saying",
   "metadata": {},
   "outputs": [],
   "source": [
    "df1 = pd.DataFrame (P1_a).truncate(before=1,after=456)\n",
    "df2 = pd.DataFrame (P1_u)\n",
    "frames = [df1, df2]\n",
    "features = pd.concat(frames)"
   ]
  },
  {
   "cell_type": "code",
   "execution_count": null,
   "id": "boxed-corner",
   "metadata": {},
   "outputs": [],
   "source": []
  },
  {
   "cell_type": "code",
   "execution_count": null,
   "id": "horizontal-while",
   "metadata": {},
   "outputs": [],
   "source": []
  },
  {
   "cell_type": "code",
   "execution_count": null,
   "id": "medium-absence",
   "metadata": {},
   "outputs": [],
   "source": []
  },
  {
   "cell_type": "code",
   "execution_count": 412,
   "id": "spectacular-policy",
   "metadata": {},
   "outputs": [],
   "source": [
    "combinazioni=[\"animali-uomini\"]\n",
    "def SVM_traintest(labels, features,combinazioni):\n",
    "    features_train, features_test, labels_train, labels_test = train_test_split(features,labels, test_size=0.50)\n",
    "    sc_X = StandardScaler()\n",
    "    features_train = sc_X.fit_transform(features_train)\n",
    "    features_test = sc_X.fit_transform(features_test)\n",
    "    clf=OneVsRestClassifier(svm.SVC(kernel='rbf'))\n",
    "    clf.fit(features_train, labels_train)\n",
    "    labels_pred=clf.predict(features_test)\n",
    "    print('ACCURATEZZA', combinazioni) \n",
    "    print(accuracy_score(labels_test, labels_pred))\n",
    "    cm = confusion_matrix(labels_test, labels_pred, labels=clf.classes_)\n",
    "    sns.heatmap(cm, annot=True)\n",
    "    plt.savefig('confusion.png')\n",
    "    print(classification_report(labels_test, labels_pred))\n",
    "    return [accuracy_score(labels_test, labels_pred),cm]"
   ]
  },
  {
   "cell_type": "code",
   "execution_count": 413,
   "id": "accomplished-helping",
   "metadata": {},
   "outputs": [
    {
     "name": "stdout",
     "output_type": "stream",
     "text": [
      "ACCURATEZZA ['animali-uomini']\n",
      "0.5789473684210527\n",
      "              precision    recall  f1-score   support\n",
      "\n",
      "           0       0.53      0.87      0.66       213\n",
      "           1       0.74      0.33      0.45       243\n",
      "\n",
      "    accuracy                           0.58       456\n",
      "   macro avg       0.63      0.60      0.55       456\n",
      "weighted avg       0.64      0.58      0.55       456\n",
      "\n"
     ]
    },
    {
     "data": {
      "text/plain": [
       "[0.5789473684210527,\n",
       " array([[185,  28],\n",
       "        [164,  79]], dtype=int64)]"
      ]
     },
     "execution_count": 413,
     "metadata": {},
     "output_type": "execute_result"
    },
    {
     "data": {
      "image/png": "[encoded data removed]",
      "text/plain": [
       "<Figure size 864x576 with 2 Axes>"
      ]
     },
     "metadata": {
      "needs_background": "light"
     },
     "output_type": "display_data"
    }
   ],
   "source": [
    "from sklearn import svm\n",
    "from sklearn.model_selection import cross_val_score\n",
    "from sklearn.metrics import confusion_matrix\n",
    "from sklearn.model_selection import train_test_split\n",
    "from sklearn.multiclass import OneVsRestClassifier\n",
    "from sklearn.svm import SVC\n",
    "from sklearn.metrics import accuracy_score\n",
    "from sklearn.metrics import classification_report\n",
    "import seaborn as sns\n",
    "SVM_traintest(labels,features,combinazioni)"
   ]
  },
  {
   "cell_type": "code",
   "execution_count": 410,
   "id": "unable-august",
   "metadata": {},
   "outputs": [
    {
     "name": "stdout",
     "output_type": "stream",
     "text": [
      "0.61 accuracy with a standard deviation of 0.05\n"
     ]
    }
   ],
   "source": [
    "from sklearn import svm\n",
    "from sklearn.model_selection import cross_val_score\n",
    "from sklearn.model_selection import KFold\n",
    "clf = svm.SVC(kernel='rbf', C=1)\n",
    "splitter=KFold(n_splits=10, shuffle=True)\n",
    "scores = cross_val_score(clf, features, labels, cv=splitter)\n",
    "print(\"%0.2f accuracy with a standard deviation of %0.2f\" % (scores.mean(),scores.std()))"
   ]
  },
  {
   "cell_type": "code",
   "execution_count": null,
   "id": "addressed-xerox",
   "metadata": {},
   "outputs": [],
   "source": []
  },
  {
   "cell_type": "code",
   "execution_count": null,
   "id": "facial-experiment",
   "metadata": {},
   "outputs": [],
   "source": []
  }
 ],
 "metadata": {
  "kernelspec": {
   "display_name": "Python 3",
   "language": "python",
   "name": "python3"
  },
  "language_info": {
   "codemirror_mode": {
    "name": "ipython",
    "version": 3
   },
   "file_extension": ".py",
   "mimetype": "text/x-python",
   "name": "python",
   "nbconvert_exporter": "python",
   "pygments_lexer": "ipython3",
   "version": "3.7.1"
  }
 },
 "nbformat": 4,
 "nbformat_minor": 5
}
