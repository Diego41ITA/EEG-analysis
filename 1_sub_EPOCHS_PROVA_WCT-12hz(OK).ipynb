{
 "cells": [
  {
   "cell_type": "code",
   "execution_count": 1,
   "id": "portuguese-texture",
   "metadata": {},
   "outputs": [],
   "source": [
    "import mne \n",
    "from glob import glob \n",
    "import os\n",
    "import matplotlib \n",
    "import matplotlib.pyplot as plt\n",
    "from openpyxl import load_workbook\n",
    "import numpy as np\n",
    "import pandas as pd"
   ]
  },
  {
   "cell_type": "code",
   "execution_count": 2,
   "id": "antique-alexander",
   "metadata": {},
   "outputs": [],
   "source": [
    "#matplotlib.use('Qt5Agg') "
   ]
  },
  {
   "cell_type": "code",
   "execution_count": 3,
   "id": "surgical-wallpaper",
   "metadata": {},
   "outputs": [
    {
     "name": "stdout",
     "output_type": "stream",
     "text": [
      "1\n",
      "1\n"
     ]
    }
   ],
   "source": [
    "#quanti soggetti ho nella mia cartella?\n",
    "subs_file_path=glob(\"..\\..\\DATASET PRINCIPALE\\CartellaEEG/*.vhdr\")\n",
    "print(len(subs_file_path))\n",
    "\n",
    "#creo vettore file excel---- !ATTENZIONE FAR RUNNARE IL FILE EXCEL.YPTR per aggiustare gli excel\n",
    "excel_file_path=glob(\"..\\..\\DATASET PRINCIPALE\\Cartellaexcel/*.xlsx\")\n",
    "print(len(excel_file_path))"
   ]
  },
  {
   "cell_type": "code",
   "execution_count": 4,
   "id": "24ecc2b6",
   "metadata": {},
   "outputs": [],
   "source": [
    "#Creo la funzione che legge e processa i dati \n",
    "def prep_data(file_path):\n",
    "    data= mne.io.read_raw_brainvision(file_path, preload=True)\n",
    "    data.set_eeg_reference();                                                    #riferimento rispetto alla media\n",
    "    data.notch_filter(np.arange(10,70,10), filter_length='auto',phase='zero')    #tolta frequenza di rete e ESSVP\n",
    "    data.filter(l_freq=0.1,h_freq=12, filter_length='auto', method='iir')                                            #banda passante\n",
    "    data.resample(250)                                                           #diminuzione dati\n",
    "    return data\n",
    "\n",
    "#Creo la funzione che estrae la matrice delle annotazioni dai file excel \n",
    "def get_vectors(data_path):\n",
    "\n",
    "    book=load_workbook(data_path)\n",
    "    sheet=book.active\n",
    "    \n",
    "    #onset\n",
    "    onset=[]\n",
    "    for row in sheet['a2':'a22249']:\n",
    "        for cel in row:\n",
    "               onset.append(cel.value)\n",
    "                \n",
    "    onset=np.array(onset)\n",
    "    onset=onset*0.001\n",
    "    \n",
    "    #duration \n",
    "    duration=np.ones((22248,), dtype=int)*0.01\n",
    "    \n",
    "    #description \n",
    "    animal=['animal']\n",
    "    human=['human']\n",
    "    food=['food']\n",
    "    vehicles=['vehicles']\n",
    "    tools=['tools']\n",
    "    description=[]\n",
    "    for row in sheet ['e2':'e22249']:\n",
    "        for cel in row:\n",
    "            if(cel.value in animal):\n",
    "                description.append(cel.value)\n",
    "            elif(cel.value in human):\n",
    "                description.append(cel.value)\n",
    "            elif(cel.value in food):\n",
    "                description.append(cel.value)\n",
    "            elif(cel.value in vehicles):\n",
    "                description.append(cel.value)\n",
    "            elif(cel.value in tools):\n",
    "                description.append(cel.value)\n",
    "            else:\n",
    "                description.append('E 1')\n",
    "    return [onset, duration, description] \n",
    "\n",
    "#creo la funzione che applica le annotazioni \n",
    "def fix_events(data_vector, matrix):\n",
    "    myannot=[mne.Annotations(onset=matrix[i][0], duration=matrix[i][1],description=matrix[i][2])for i in range(len(excel_file_path))]\n",
    "    for i in range(len(excel_file_path)):\n",
    "        data_vector[i].set_annotations(myannot[i])\n",
    "    \n",
    "    return data_vector\n",
    "\n",
    "#creo la funzione che estrae le epochs\n",
    "def get_epochs(data):\n",
    "    tmin=-0.100                   #partono 100 millisecondi prima di un evento \n",
    "    tmax=0.5                      #finiscon 500 milli secondo dopo (come da paper dataset, per prendere tutte le latenze ERP)\n",
    "    baseline=(None,0)\n",
    "    epochs=mne.Epochs(data,events=mne.events_from_annotations(data)[0] ,tmin=tmin,tmax=tmax,baseline=baseline, preload=True)\n",
    "    #reject  bad epochs\n",
    "    reject_criteria = dict(eeg=150e-6)\n",
    "    flat_criteria = dict(eeg=1e-6)\n",
    "    epochs.drop_bad(reject=reject_criteria, flat=flat_criteria)\n",
    "\n",
    "    return epochs\n",
    "\n",
    "def prep_data_ica(file_path):\n",
    "    data= mne.io.read_raw_brainvision(file_path, preload=True)\n",
    "    data.set_eeg_reference();                                                  #riferimento rispetto alla media\n",
    "    data.notch_filter(np.arange(10,60,10), filter_length='auto',phase='zero')  #tolta frequenza di rete e ESSVP\n",
    "    data.resample(250)                                                         #diminuzione dati\n",
    "    return data"
   ]
  },
  {
   "cell_type": "code",
   "execution_count": 5,
   "id": "4ccd08c3",
   "metadata": {},
   "outputs": [
    {
     "name": "stdout",
     "output_type": "stream",
     "text": [
      "Extracting parameters from ..\\..\\DATASET PRINCIPALE\\CartellaEEG\\sub-01_task-rsvp_eeg.vhdr...\n",
      "Setting channel info structure...\n",
      "Reading 0 ... 3035739  =      0.000 ...  3035.739 secs...\n",
      "EEG channel type selected for re-referencing\n",
      "Applying average reference.\n",
      "Applying a custom EEG reference.\n",
      "Setting up band-stop filter\n",
      "\n",
      "FIR filter parameters\n",
      "---------------------\n",
      "Designing a one-pass, zero-phase, non-causal bandstop filter:\n",
      "- Windowed time-domain design (firwin) method\n",
      "- Hamming window with 0.0194 passband ripple and 53 dB stopband attenuation\n",
      "- Lower transition bandwidth: 0.50 Hz\n",
      "- Upper transition bandwidth: 0.50 Hz\n",
      "- Filter length: 6601 samples (6.601 sec)\n",
      "\n",
      "Filtering raw data in 1 contiguous segment\n",
      "Setting up band-pass filter from 0.1 - 12 Hz\n",
      "\n",
      "IIR filter parameters\n",
      "---------------------\n",
      "Butterworth bandpass zero-phase (two-pass forward and reverse) non-causal filter:\n",
      "- Filter order 16 (effective, after forward-backward)\n",
      "- Cutoffs at 0.10, 12.00 Hz: -6.02, -6.02 dB\n",
      "\n"
     ]
    }
   ],
   "source": [
    "#funzione preprocessing\n",
    "prep_data_sub_vector= [prep_data(i)for i in subs_file_path]"
   ]
  },
  {
   "cell_type": "code",
   "execution_count": 6,
   "id": "similar-rover",
   "metadata": {},
   "outputs": [
    {
     "name": "stdout",
     "output_type": "stream",
     "text": [
      "Extracting parameters from ..\\..\\DATASET PRINCIPALE\\CartellaEEG\\sub-01_task-rsvp_eeg.vhdr...\n",
      "Setting channel info structure...\n",
      "Reading 0 ... 3035739  =      0.000 ...  3035.739 secs...\n",
      "EEG channel type selected for re-referencing\n",
      "Applying average reference.\n",
      "Applying a custom EEG reference.\n",
      "Setting up band-stop filter\n",
      "\n",
      "FIR filter parameters\n",
      "---------------------\n",
      "Designing a one-pass, zero-phase, non-causal bandstop filter:\n",
      "- Windowed time-domain design (firwin) method\n",
      "- Hamming window with 0.0194 passband ripple and 53 dB stopband attenuation\n",
      "- Lower transition bandwidth: 0.50 Hz\n",
      "- Upper transition bandwidth: 0.50 Hz\n",
      "- Filter length: 6601 samples (6.601 sec)\n",
      "\n",
      "Filtering raw data in 1 contiguous segment\n",
      "Setting up band-pass filter from 1 - 50 Hz\n",
      "\n",
      "FIR filter parameters\n",
      "---------------------\n",
      "Designing a one-pass, zero-phase, non-causal bandpass filter:\n",
      "- Windowed time-domain design (firwin) method\n",
      "- Hamming window with 0.0194 passband ripple and 53 dB stopband attenuation\n",
      "- Lower passband edge: 1.00\n",
      "- Lower transition bandwidth: 1.00 Hz (-6 dB cutoff frequency: 0.50 Hz)\n",
      "- Upper passband edge: 50.00 Hz\n",
      "- Upper transition bandwidth: 12.50 Hz (-6 dB cutoff frequency: 56.25 Hz)\n",
      "- Filter length: 825 samples (3.300 sec)\n",
      "\n"
     ]
    }
   ],
   "source": [
    "#estraggo la matrice delle annotazioni \n",
    "matrix=[]\n",
    "for i in range(len(excel_file_path)):\n",
    "    matrix=[get_vectors(i)for i in excel_file_path]\n",
    "    \n",
    "#sistemo gli eventi \n",
    "data_vector_ok= fix_events(prep_data_sub_vector, matrix)\n",
    "\n",
    "#ICA\n",
    "#applico la ica per visualizzare i picchi di potenza da rimuovere\n",
    "raw_ica = [prep_data_ica(i) for i in subs_file_path]\n",
    "\n",
    "ica = mne.preprocessing.ICA(n_components=0.99999, max_iter=1000,random_state=42)\n",
    "raw_list= [i.filter(1, 50) for  i in raw_ica ]"
   ]
  },
  {
   "cell_type": "code",
   "execution_count": 7,
   "id": "ff34f8b0",
   "metadata": {},
   "outputs": [
    {
     "name": "stdout",
     "output_type": "stream",
     "text": [
      "Fitting ICA to data using 63 channels (please be patient, this may take a while)\n",
      "Selecting by explained variance: 59 components\n",
      "Fitting ICA took 68.1s.\n",
      "Using EOG channels: Fp1, Fp2\n",
      "... filtering ICA sources\n",
      "Setting up band-pass filter from 1 - 10 Hz\n",
      "\n",
      "FIR filter parameters\n",
      "---------------------\n",
      "Designing a two-pass forward and reverse, zero-phase, non-causal bandpass filter:\n",
      "- Windowed frequency-domain design (firwin2) method\n",
      "- Hann window\n",
      "- Lower passband edge: 1.00\n",
      "- Lower transition bandwidth: 0.50 Hz (-12 dB cutoff frequency: 0.75 Hz)\n",
      "- Upper passband edge: 10.00 Hz\n",
      "- Upper transition bandwidth: 0.50 Hz (-12 dB cutoff frequency: 10.25 Hz)\n",
      "- Filter length: 2500 samples (10.000 sec)\n",
      "\n",
      "... filtering target\n",
      "Setting up band-pass filter from 1 - 10 Hz\n",
      "\n",
      "FIR filter parameters\n",
      "---------------------\n",
      "Designing a two-pass forward and reverse, zero-phase, non-causal bandpass filter:\n",
      "- Windowed frequency-domain design (firwin2) method\n",
      "- Hann window\n",
      "- Lower passband edge: 1.00\n",
      "- Lower transition bandwidth: 0.50 Hz (-12 dB cutoff frequency: 0.75 Hz)\n",
      "- Upper passband edge: 10.00 Hz\n",
      "- Upper transition bandwidth: 0.50 Hz (-12 dB cutoff frequency: 10.25 Hz)\n",
      "- Filter length: 2500 samples (10.000 sec)\n",
      "\n",
      "... filtering ICA sources\n",
      "Setting up band-pass filter from 1 - 10 Hz\n",
      "\n",
      "FIR filter parameters\n",
      "---------------------\n",
      "Designing a two-pass forward and reverse, zero-phase, non-causal bandpass filter:\n",
      "- Windowed frequency-domain design (firwin2) method\n",
      "- Hann window\n",
      "- Lower passband edge: 1.00\n",
      "- Lower transition bandwidth: 0.50 Hz (-12 dB cutoff frequency: 0.75 Hz)\n",
      "- Upper passband edge: 10.00 Hz\n",
      "- Upper transition bandwidth: 0.50 Hz (-12 dB cutoff frequency: 10.25 Hz)\n",
      "- Filter length: 2500 samples (10.000 sec)\n",
      "\n",
      "... filtering target\n",
      "Setting up band-pass filter from 1 - 10 Hz\n",
      "\n",
      "FIR filter parameters\n",
      "---------------------\n",
      "Designing a two-pass forward and reverse, zero-phase, non-causal bandpass filter:\n",
      "- Windowed frequency-domain design (firwin2) method\n",
      "- Hann window\n",
      "- Lower passband edge: 1.00\n",
      "- Lower transition bandwidth: 0.50 Hz (-12 dB cutoff frequency: 0.75 Hz)\n",
      "- Upper passband edge: 10.00 Hz\n",
      "- Upper transition bandwidth: 0.50 Hz (-12 dB cutoff frequency: 10.25 Hz)\n",
      "- Filter length: 2500 samples (10.000 sec)\n",
      "\n",
      "Applying ICA to Raw instance\n",
      "    Transforming to ICA space (59 components)\n",
      "    Zeroing out 4 ICA components\n",
      "    Projecting back using 63 PCA components\n"
     ]
    }
   ],
   "source": [
    "#per sistemare il codice bisogna creare nomi1 con i soggetti precedenti al primo di nomi2\n",
    "\n",
    "ica.fit(raw_list[0])\n",
    "bad_idx, scores=ica.find_bads_eog(raw_ica[0],ch_name=['Fp1','Fp2'],threshold=1)\n",
    "ica.exclude=bad_idx\n",
    "data_vector_ok[0]=ica.apply(data_vector_ok[0], exclude=ica.exclude)\n",
    "\n"
   ]
  },
  {
   "cell_type": "code",
   "execution_count": 8,
   "id": "hearing-effect",
   "metadata": {},
   "outputs": [
    {
     "name": "stdout",
     "output_type": "stream",
     "text": [
      "Used Annotations descriptions: ['E 1', 'animal', 'human']\n",
      "Not setting metadata\n",
      "Not setting metadata\n",
      "22248 matching events found\n",
      "Setting baseline interval to [-0.1, 0.0] sec\n",
      "Applying baseline correction (mode: mean)\n",
      "0 projection items activated\n",
      "Loading data for 22248 events and 151 original time points ...\n",
      "0 bad epochs dropped\n",
      "0 bad epochs dropped\n"
     ]
    }
   ],
   "source": [
    "#chiamo la funzione che crei le epochs e le salvi nei file fif\n",
    "epochs_vector=[get_epochs(i)for i in data_vector_ok]"
   ]
  },
  {
   "cell_type": "code",
   "execution_count": 9,
   "id": "planned-sector",
   "metadata": {},
   "outputs": [
    {
     "data": {
      "text/plain": [
       "22248"
      ]
     },
     "execution_count": 9,
     "metadata": {},
     "output_type": "execute_result"
    }
   ],
   "source": [
    "epochs=epochs_vector[0]\n",
    "len(epochs)"
   ]
  },
  {
   "cell_type": "code",
   "execution_count": 10,
   "id": "junior-workshop",
   "metadata": {},
   "outputs": [
    {
     "name": "stdout",
     "output_type": "stream",
     "text": [
      "20484\n",
      "1308\n",
      "456\n"
     ]
    }
   ],
   "source": [
    "print(len(epochs['10001']))\n",
    "print(len(epochs['10002']))\n",
    "print(len(epochs['10003']))"
   ]
  },
  {
   "cell_type": "code",
   "execution_count": 11,
   "id": "forbidden-warrant",
   "metadata": {},
   "outputs": [
    {
     "data": {
      "image/png": "[encoded data removed]",
      "text/plain": [
       "<Figure size 460.8x216 with 1 Axes>"
      ]
     },
     "metadata": {
      "needs_background": "light"
     },
     "output_type": "display_data"
    },
    {
     "data": {
      "image/png": "[encoded data removed]",
      "text/plain": [
       "<Figure size 460.8x216 with 1 Axes>"
      ]
     },
     "execution_count": 11,
     "metadata": {},
     "output_type": "execute_result"
    }
   ],
   "source": [
    "epochs['10002'].average(picks=[15,17,16,45,46,48,47]).plot()"
   ]
  },
  {
   "cell_type": "code",
   "execution_count": 12,
   "id": "intensive-order",
   "metadata": {},
   "outputs": [
    {
     "data": {
      "image/png": "[encoded data removed]",
      "text/plain": [
       "<Figure size 460.8x216 with 1 Axes>"
      ]
     },
     "metadata": {
      "needs_background": "light"
     },
     "output_type": "display_data"
    },
    {
     "data": {
      "image/png": "[encoded data removed]",
      "text/plain": [
       "<Figure size 460.8x216 with 1 Axes>"
      ]
     },
     "execution_count": 12,
     "metadata": {},
     "output_type": "execute_result"
    }
   ],
   "source": [
    "epochs['10003'].average(picks=[15,17,16,45,46,48,47]).plot()"
   ]
  },
  {
   "cell_type": "code",
   "execution_count": 13,
   "id": "removable-knight",
   "metadata": {},
   "outputs": [
    {
     "name": "stdout",
     "output_type": "stream",
     "text": [
      "(1308, 7, 151)\n",
      "(456, 7, 151)\n"
     ]
    }
   ],
   "source": [
    "#10002 e 10004 --> 0.74% acc \n",
    "epochs_a=epochs['10002'].get_data(picks=[15,17,16,45,46,48,47])\n",
    "epochs_u=epochs['10003'].get_data(picks=[15,17,16,45,46,48,47])\n",
    "\n",
    "\n",
    "print(epochs_a.shape)\n",
    "print(epochs_u.shape)"
   ]
  },
  {
   "cell_type": "code",
   "execution_count": 14,
   "id": "accompanied-afghanistan",
   "metadata": {},
   "outputs": [
    {
     "ename": "AttributeError",
     "evalue": "'numpy.ndarray' object has no attribute 'average'",
     "output_type": "error",
     "traceback": [
      "\u001b[1;31m---------------------------------------------------------------------------\u001b[0m",
      "\u001b[1;31mAttributeError\u001b[0m                            Traceback (most recent call last)",
      "\u001b[1;32m<ipython-input-14-4425f791a18f>\u001b[0m in \u001b[0;36m<module>\u001b[1;34m\u001b[0m\n\u001b[1;32m----> 1\u001b[1;33m \u001b[0mev\u001b[0m\u001b[1;33m=\u001b[0m\u001b[0mepochs_a\u001b[0m\u001b[1;33m.\u001b[0m\u001b[0maverage\u001b[0m\u001b[1;33m(\u001b[0m\u001b[1;33m)\u001b[0m\u001b[1;33m\u001b[0m\u001b[1;33m\u001b[0m\u001b[0m\n\u001b[0m",
      "\u001b[1;31mAttributeError\u001b[0m: 'numpy.ndarray' object has no attribute 'average'"
     ]
    }
   ],
   "source": [
    "ev=epochs_a.average()"
   ]
  },
  {
   "cell_type": "code",
   "execution_count": null,
   "id": "pediatric-string",
   "metadata": {},
   "outputs": [],
   "source": []
  },
  {
   "cell_type": "code",
   "execution_count": null,
   "id": "interesting-pipeline",
   "metadata": {},
   "outputs": [],
   "source": [
    "EV_a=np.mean(epochs_a, axis=1)\n",
    "EV_u=np.mean(epochs_u, axis=1)\n",
    "\n",
    "##############################\n",
    "print(EV_a.shape)\n",
    "print(EV_u.shape)\n"
   ]
  },
  {
   "cell_type": "code",
   "execution_count": null,
   "id": "stretch-charles",
   "metadata": {},
   "outputs": [],
   "source": [
    "x=np.linspace(-100,500,151)"
   ]
  },
  {
   "cell_type": "code",
   "execution_count": null,
   "id": "korean-smith",
   "metadata": {},
   "outputs": [],
   "source": [
    "x[110]"
   ]
  },
  {
   "cell_type": "code",
   "execution_count": null,
   "id": "strong-mechanics",
   "metadata": {},
   "outputs": [],
   "source": [
    "#crop\n",
    "EV_a= [np.delete(EV_a[i,:],np.concatenate((np.arange(0,25,1),np.arange(110,151,1)))) for i in range(456)]\n",
    "EV_u= [np.delete(EV_u[i,:],np.concatenate((np.arange(0,25,1),np.arange(110,151,1)))) for i in range(len(EV_u))]\n",
    "\n",
    "EV_a[0].shape"
   ]
  },
  {
   "cell_type": "code",
   "execution_count": null,
   "id": "lightweight-interstate",
   "metadata": {},
   "outputs": [],
   "source": [
    "x=np.linspace(0,x[110],85)\n",
    "figure, axes = plt.subplots(nrows=5, ncols=2, figsize=(10,10))\n",
    "\n",
    "axes[0, 0].set_title('Amali')\n",
    "axes[0, 1].set_title('Uomini')\n",
    "for  i in range(5):\n",
    "    axes[i, 0].plot(x,EV_a[i])\n",
    "    axes[i, 1].plot(x,EV_u[i]) "
   ]
  },
  {
   "cell_type": "code",
   "execution_count": null,
   "id": "emerging-messaging",
   "metadata": {},
   "outputs": [],
   "source": []
  },
  {
   "cell_type": "code",
   "execution_count": null,
   "id": "congressional-processor",
   "metadata": {},
   "outputs": [],
   "source": []
  },
  {
   "cell_type": "code",
   "execution_count": null,
   "id": "acquired-vector",
   "metadata": {},
   "outputs": [],
   "source": []
  },
  {
   "cell_type": "code",
   "execution_count": null,
   "id": "labeled-tours",
   "metadata": {
    "scrolled": true
   },
   "outputs": [],
   "source": [
    "#PROVO LA CWT \n",
    "import pywt\n",
    "\n",
    "cwt_animali_vector=[pywt.cwt(i,np.arange(1,15),'morl')for i in EV_a]\n",
    "cwt_uomini_vector =[pywt.cwt(i,np.arange(1,15),'morl')for i in EV_u]"
   ]
  },
  {
   "cell_type": "code",
   "execution_count": null,
   "id": "valuable-maldives",
   "metadata": {},
   "outputs": [],
   "source": [
    "cwt_animali_vector[0][0].shape"
   ]
  },
  {
   "cell_type": "code",
   "execution_count": null,
   "id": "crucial-convert",
   "metadata": {},
   "outputs": [],
   "source": [
    "Features_a=[cwt_animali_vector[i][0].flatten() for  i in range(len(EV_a))]\n",
    "Features_u=[cwt_uomini_vector[i][0].flatten() for  i in range(len(EV_u)) ]"
   ]
  },
  {
   "cell_type": "code",
   "execution_count": null,
   "id": "hired-venice",
   "metadata": {},
   "outputs": [],
   "source": [
    "df1 = pd.DataFrame (Features_a)\n",
    "df2 = pd.DataFrame (Features_u)\n",
    "frames = [df1, df2]\n",
    "features = pd.concat(frames)"
   ]
  },
  {
   "cell_type": "code",
   "execution_count": null,
   "id": "supposed-facing",
   "metadata": {},
   "outputs": [],
   "source": [
    "#LABELS \n",
    "a_type=np.zeros(456, dtype=int)\n",
    "b_type=np.ones(456, dtype=int)\n",
    "labels=np.concatenate((a_type,b_type))"
   ]
  },
  {
   "cell_type": "code",
   "execution_count": null,
   "id": "undefined-escape",
   "metadata": {},
   "outputs": [],
   "source": [
    "#applico PCA\n",
    "from sklearn.preprocessing import StandardScaler\n",
    "df=StandardScaler().fit_transform(features) \n",
    "\n",
    "from sklearn.decomposition import PCA\n",
    "pca = PCA(n_components=2)\n",
    "principalComponents = pca.fit_transform(df)\n",
    "principalDf = pd.DataFrame(data = principalComponents, columns = ['pc 1','pc 2'])"
   ]
  },
  {
   "cell_type": "code",
   "execution_count": null,
   "id": "reported-founder",
   "metadata": {},
   "outputs": [],
   "source": [
    "#CON PCA\n",
    "from sklearn import svm\n",
    "from sklearn.model_selection import cross_val_score\n",
    "from sklearn.model_selection import KFold\n",
    "clf = svm.SVC(kernel='rbf', C=1)\n",
    "splitter=KFold(n_splits=10, shuffle=True)\n",
    "scores = cross_val_score(clf, principalDf, labels, cv=splitter)\n",
    "print(\"%0.2f accuracy with a standard deviation of %0.2f\" % (scores.mean(),scores.std()))"
   ]
  },
  {
   "cell_type": "code",
   "execution_count": null,
   "id": "proud-nicholas",
   "metadata": {},
   "outputs": [],
   "source": [
    "#SENZA PCA \n",
    "from sklearn import svm\n",
    "from sklearn.model_selection import cross_val_score\n",
    "from sklearn.model_selection import KFold\n",
    "clf = svm.SVC(kernel='rbf', C=1)\n",
    "splitter=KFold(n_splits=10, shuffle=True)\n",
    "scores = cross_val_score(clf, features, labels, cv=splitter)\n",
    "print(\"%0.2f accuracy with a standard deviation of %0.2f\" % (scores.mean(),scores.std()))"
   ]
  },
  {
   "cell_type": "code",
   "execution_count": null,
   "id": "historic-howard",
   "metadata": {},
   "outputs": [],
   "source": [
    "def SVM_traintest(labels, features,combinazioni):\n",
    "    features_train, features_test, labels_train, labels_test = train_test_split(features,labels, test_size=0.3)\n",
    "    sc_X = StandardScaler()\n",
    "    features_train = sc_X.fit_transform(features_train)\n",
    "    features_test = sc_X.fit_transform(features_test)\n",
    "    clf=OneVsRestClassifier(svm.SVC(kernel='rbf'))\n",
    "    clf.fit(features_train, labels_train)\n",
    "    labels_pred=clf.predict(features_test)\n",
    "    print('ACCURATEZZA', combinazioni) \n",
    "    print(accuracy_score(labels_test, labels_pred))\n",
    "    cm = confusion_matrix(labels_test, labels_pred, labels=clf.classes_)\n",
    "    sns.heatmap(cm, annot=True)\n",
    "    plt.savefig('confusion.png')\n",
    "    print(classification_report(labels_test, labels_pred))\n",
    "    return [accuracy_score(labels_test, labels_pred),cm]"
   ]
  },
  {
   "cell_type": "code",
   "execution_count": null,
   "id": "involved-strategy",
   "metadata": {},
   "outputs": [],
   "source": [
    "combinazioni=['Animali-Uomini, intertrial']\n",
    "from sklearn import svm\n",
    "from sklearn.model_selection import cross_val_score\n",
    "from sklearn.metrics import confusion_matrix\n",
    "from sklearn.model_selection import train_test_split\n",
    "from sklearn.multiclass import OneVsRestClassifier\n",
    "from sklearn.svm import SVC\n",
    "from sklearn.metrics import accuracy_score\n",
    "from sklearn.metrics import classification_report\n",
    "import seaborn as sns\n",
    "SVM_traintest(labels,features,combinazioni)"
   ]
  },
  {
   "cell_type": "code",
   "execution_count": null,
   "id": "spectacular-policy",
   "metadata": {},
   "outputs": [],
   "source": [
    "from sklearn import svm\n",
    "from sklearn.model_selection import cross_val_score\n",
    "from sklearn.model_selection import KFold\n",
    "clf = svm.SVC(kernel='rbf', C=1)\n",
    "splitter=KFold(n_splits=10, shuffle=True)\n",
    "scores = cross_val_score(clf, features, labels, cv=splitter)\n",
    "print(\"%0.2f accuracy with a standard deviation of %0.2f\" % (scores.mean(),scores.std()))"
   ]
  },
  {
   "cell_type": "code",
   "execution_count": null,
   "id": "funded-andrew",
   "metadata": {},
   "outputs": [],
   "source": []
  },
  {
   "cell_type": "code",
   "execution_count": null,
   "id": "substantial-three",
   "metadata": {},
   "outputs": [],
   "source": []
  },
  {
   "cell_type": "code",
   "execution_count": null,
   "id": "informal-beach",
   "metadata": {},
   "outputs": [],
   "source": []
  },
  {
   "cell_type": "code",
   "execution_count": null,
   "id": "deadly-alias",
   "metadata": {},
   "outputs": [],
   "source": []
  },
  {
   "cell_type": "code",
   "execution_count": null,
   "id": "eligible-warrant",
   "metadata": {},
   "outputs": [],
   "source": []
  },
  {
   "cell_type": "code",
   "execution_count": null,
   "id": "mighty-summary",
   "metadata": {},
   "outputs": [],
   "source": []
  },
  {
   "cell_type": "code",
   "execution_count": null,
   "id": "accepting-tactics",
   "metadata": {},
   "outputs": [],
   "source": []
  },
  {
   "cell_type": "code",
   "execution_count": null,
   "id": "chinese-germany",
   "metadata": {},
   "outputs": [],
   "source": []
  },
  {
   "cell_type": "code",
   "execution_count": null,
   "id": "rolled-locking",
   "metadata": {},
   "outputs": [],
   "source": []
  },
  {
   "cell_type": "code",
   "execution_count": null,
   "id": "trying-opening",
   "metadata": {},
   "outputs": [],
   "source": []
  },
  {
   "cell_type": "code",
   "execution_count": null,
   "id": "blind-dance",
   "metadata": {},
   "outputs": [],
   "source": []
  },
  {
   "cell_type": "code",
   "execution_count": null,
   "id": "random-change",
   "metadata": {},
   "outputs": [],
   "source": []
  },
  {
   "cell_type": "code",
   "execution_count": null,
   "id": "colonial-seven",
   "metadata": {},
   "outputs": [],
   "source": []
  },
  {
   "cell_type": "code",
   "execution_count": null,
   "id": "stylish-warren",
   "metadata": {},
   "outputs": [],
   "source": []
  }
 ],
 "metadata": {
  "kernelspec": {
   "display_name": "Python 3",
   "language": "python",
   "name": "python3"
  },
  "language_info": {
   "codemirror_mode": {
    "name": "ipython",
    "version": 3
   },
   "file_extension": ".py",
   "mimetype": "text/x-python",
   "name": "python",
   "nbconvert_exporter": "python",
   "pygments_lexer": "ipython3",
   "version": "3.7.1"
  }
 },
 "nbformat": 4,
 "nbformat_minor": 5
}
