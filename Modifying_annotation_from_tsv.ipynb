{
 "cells": [
  {
   "cell_type": "code",
   "execution_count": 11,
   "id": "attached-community",
   "metadata": {},
   "outputs": [],
   "source": [
    "from openpyxl import load_workbook\n",
    "from glob import glob \n",
    "import os"
   ]
  },
  {
   "cell_type": "code",
   "execution_count": 12,
   "id": "three-remains",
   "metadata": {},
   "outputs": [],
   "source": [
    "animal=['aardvark','alligator','alpaca','anteater','antelope','badger','bat1','bear','beaver','beehive','bird','birdcage',\n",
    "'bison','boar','bull','calf1','camel','cat','cheetah','chick','chicken1','chinchilla','chipmunk','coral','cougar','coyote','deer','dog',\n",
    "'doghouse','dolphin','duck','eel','elephant','ferret','fish','fox','gazelle','giraffe','goat','gopher','gorilla',\n",
    "'groundhog','guinea_pig','hamster','hedgehog','hippopotamus','horse','hyena','jellyfish','kangaroo','kitten','koala',\n",
    "'lamb','leech','leopard','lion','llama','manatee','meerkat','mole','mongoose','monkey','moose','mouse1','octopus',\n",
    "'orangutan','ostrich','otter','panda','panther','penguin','piglet','platypus','polar_bear','pony','porcupine','possum',\n",
    "'puppy','rabbit','raccoon','racehorse','ram','reindeer','rhinoceros','scorpion','sea_urchin','seahorse'\n",
    ",'seal','shark','skunk','sloth','slug','snail','squirrel','starfish','duckling',\n",
    "'stingray','teddy_bear','tiger','turtle','walrus','warthog','weasel','wolf','yak','yoke','zebra','cow','donkey']\n",
    "\n",
    "human=['ankle','arm','baby','beard','bone','boy','calf2','chest1','chin','ear','elbow','eye','face','finger','foot','girl',\n",
    "       'hair','hand','hip' ,'knee' ,'leg' ,'man','mouth','mustache','navel','neck','nose','shoulder','skin','skull','stomach',\n",
    "       'thumb','toe','tongue','tooth','torso','woman','wrist']\n"
   ]
  },
  {
   "cell_type": "code",
   "execution_count": 13,
   "id": "0ce26a87",
   "metadata": {},
   "outputs": [],
   "source": [
    "food=['appetizer', 'apple','applesauce','avocado','bacon','bagel','baklava','banana','banana_split','batter','bean','berry',\n",
    "       'birthday_cake','biscuit','blackberry','blueberry','bologna','bread','breadstick','breakfast','brownie','buffet',\n",
    "       'bun','burrito','butter','cake','calamari','calzone','candy','cantaloupe','caramel','casserole','caviar','cereal',\n",
    "       'cheese','cheeseburger','cheesecake','cherry','chickpea','chili','chips','chive','chocolate','coconut','coffee',\n",
    "       'coffee_bean','coleslaw','cookie','cordon_bleu','cornbread','cornmeal','cotton_candy','cracker','cranberry',\n",
    "       'cream_cheese','creme_brulee','crepe','croissant','crouton','crumb','cupcake','curry','dessert','dip','donut','dough',\n",
    "       'dumpling','eclair','egg','egg_roll','eggnog','eggshell','enchilada','espresso','fast_food','fig','flan','fondue',\n",
    "       'french_fries','fruit','fruitcake','fudge','garlic','gingerbread_man','grain','granola','grape','grapefruit','gravy',\n",
    "       'grits','guacamole','gum','gumball','gumdrop','gyro','ham','hamburger','hash','honey','hot-air_balloon','hotdog',\n",
    "       'hummus','ice','ice_cube','jalapeno','jelly_bean','juice','kebab','kiwi','lamb_chop','lasagna','latte','lemon','lemonade',\n",
    "       'licorice','lime','lollipop','macaroni','mango','marmalade','marshmallow','mashed_potato','meat','meatball','meatloaf',\n",
    "       'melon','milk','milkshake','mousse','muffin','mulberry','nacho','noodle','nut','oatmeal','olive','omelet','onion','orange',\n",
    "       'pancake','papaya','parfait','pasta','pastry','patty','peach','peanut','peanut_butter','pear','peppermint','pepperoni',\n",
    "       'pesto','pickle','pie','piecrust','pineapple','pita','pizza','plum','pomegranate','popsicle','potpie','pretzel','prune',\n",
    "       'pudding','quesadilla','quiche','raisin','raspberry','ravioli','ready_meal','rice','roll','salad','salami','sandwich',\n",
    "       'sauerkraut','sausage','scone','scrambled_egg','seafood','seed','shortbread','smoothie','snack','soda','sorbet','souffle',\n",
    "       'soup','spaghetti','spam','spareribs','spring_roll','sprouts','star_fruit','steak','stew','stir_fry','strawberry',\n",
    "       'string_cheese','stuffing','sundae','sushi','taco','taffy','tamale','tea','tiramisu','toast','tomato','tomato_sauce',\n",
    "       'tortellini','tortilla','tostada','vegetable','wafer','waffle','watermelon','wedding_cake','wheat','whipped_cream',\n",
    "       'wrap','yogurt']\n",
    "tools=['anvil','axe','backscratcher','blower','blowtorch','bottle_opener','bungee','can_opener','chain','chainsaw','chisel',\n",
    "       'cleaver','coil','corkscrew','crank','crowbar','cutting_board','drill','eggbeater','file1','flyswatter','funnel',\n",
    "       'grater','grinder','hammer','hatchet','hook2','icepick','jack','juicer1','kettle','knife','ladder','ladle',\n",
    "       'letter_opener','magnet','mallet','measuring_cup','nutcracker','peeler','pepper2','pickax','pliers','plunger',\n",
    "       'pocketknife','polisher','pulley','ratchet','rolling_pin','rope','sandpaper','saw','sawhorse','scoop','scraper',\n",
    "       'screw','screwdriver','shoehorn','shovel','sifter','skewer','sledgehammer','soldering_iron','spatula','staple_gun',\n",
    "       'strainer','tape_measure','timer','tongs','trident','tuning_fork','vise','wedge','whisk','wire_cutters','wrench','broom',\n",
    "       'brush','chalk','clipper1','clipper2','comb','compass','cookie_cutter','cookie_sheet','curling_iron','duct_tape','duster',\n",
    "       'dustpan','eyedropper','flatiron','fountain_pen','hairbrush','hairdryer','handle','highlighter','hoe','hose','inkwell',\n",
    "       'jackhammer','lighter','magnifier','map','mold1','mop','nail_clippers','pen','pencil','pitchfork','poker','polygraph',\n",
    "       'pump','quill','radar','rake','razor','roller','ruler','scale','scissors','shears','sickle','squeegee','step_stool',\n",
    "       'sweeper','toolbox','tray','trowel','tweezers','vacuum','wand','watering_can','weather_vane','wind_chimes']\n",
    "vehicles=['airplane','bike','buggy','bus','camper','car','carriage','cart','chariot','dirt_bike','garbage_truck','golf_cart',\n",
    "          'hearse','hot_chocolate','humvee','jeep','limousine','minivan','motorcycle','police_car','quad','rickshaw',\n",
    "          'roadsweeper','school_bus','snowmobile','snowplow','station_wagon','subway','taxi','train','train_car','trolley',\n",
    "          'truck','unicycle','van','wagon','aircraft_carrier','ambulance','blimp','boat','bobsled','bulldozer','canoe',\n",
    "          'cruise_ship','ferry','firetruck','forklift','go-kart','gondola','helicopter','hot-air_balloon','hovercraft','jet',\n",
    "          'kayak','missile','sailboat','scooter','seaplane','ship','shopping_cart','skateboard','sled','space_shuttle',\n",
    "          'speedboat','steamroller','stroller','submarine','tank1','tractor','trailer','tricycle','tugboat','wheelbarrow',\n",
    "          'wreck','yacht','license_plate','odometer','sunroof']"
   ]
  },
  {
   "cell_type": "code",
   "execution_count": 14,
   "id": "typical-holocaust",
   "metadata": {},
   "outputs": [
    {
     "name": "stdout",
     "output_type": "stream",
     "text": [
      "35\n"
     ]
    }
   ],
   "source": [
    "xls_files=glob(\"..\\..\\DATASET PRINCIPALE\\Cartellaexcel/*.xlsx\")\n",
    "print(len(xls_files))"
   ]
  },
  {
   "cell_type": "code",
   "execution_count": 19,
   "id": "handled-shoot",
   "metadata": {},
   "outputs": [],
   "source": [
    "def modify_create_xls(data_path):\n",
    "    book=load_workbook(data_path)\n",
    "    sheet=book.active\n",
    "    for row in sheet ['e2':'e22249']:\n",
    "        for cel in row:  \n",
    "            if (cel.value in animal):\n",
    "                cel.value='animal'  \n",
    "            if (cel.value in human):\n",
    "                cel.value='human'\n",
    "            if (cel.value in food):\n",
    "                cel.value='food'\n",
    "            if (cel.value in tools):\n",
    "                cel.value='tools'\n",
    "            if (cel.value in vehicles):\n",
    "                cel.value='vehicles'\n",
    "                \n",
    "    book.save(data_path)            \n"
   ]
  },
  {
   "cell_type": "code",
   "execution_count": 20,
   "id": "geological-effects",
   "metadata": {},
   "outputs": [],
   "source": [
    "for i in xls_files:\n",
    "    modify_create_xls(i)"
   ]
  },
  {
   "cell_type": "code",
   "execution_count": null,
   "id": "sacred-merchandise",
   "metadata": {},
   "outputs": [],
   "source": []
  },
  {
   "cell_type": "code",
   "execution_count": 93,
   "id": "everyday-strike",
   "metadata": {},
   "outputs": [],
   "source": []
  },
  {
   "cell_type": "code",
   "execution_count": 105,
   "id": "adolescent-deadline",
   "metadata": {},
   "outputs": [],
   "source": []
  },
  {
   "cell_type": "code",
   "execution_count": 108,
   "id": "pretty-consumption",
   "metadata": {},
   "outputs": [],
   "source": []
  },
  {
   "cell_type": "code",
   "execution_count": null,
   "id": "rural-miller",
   "metadata": {},
   "outputs": [],
   "source": []
  },
  {
   "cell_type": "code",
   "execution_count": null,
   "id": "infrared-chick",
   "metadata": {},
   "outputs": [],
   "source": []
  },
  {
   "cell_type": "code",
   "execution_count": null,
   "id": "experienced-medicare",
   "metadata": {},
   "outputs": [],
   "source": []
  }
 ],
 "metadata": {
  "kernelspec": {
   "display_name": "Python 3 (ipykernel)",
   "language": "python",
   "name": "python3"
  },
  "language_info": {
   "codemirror_mode": {
    "name": "ipython",
    "version": 3
   },
   "file_extension": ".py",
   "mimetype": "text/x-python",
   "name": "python",
   "nbconvert_exporter": "python",
   "pygments_lexer": "ipython3",
   "version": "3.8.12"
  }
 },
 "nbformat": 4,
 "nbformat_minor": 5
}
