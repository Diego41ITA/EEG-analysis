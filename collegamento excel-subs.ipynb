{
 "cells": [
  {
   "cell_type": "code",
   "execution_count": 32,
   "id": "alleged-animal",
   "metadata": {},
   "outputs": [],
   "source": [
    "import mne \n",
    "import numpy as np\n",
    "from openpyxl import load_workbook\n",
    "from glob import glob"
   ]
  },
  {
   "cell_type": "code",
   "execution_count": 33,
   "id": "satellite-bacon",
   "metadata": {},
   "outputs": [
    {
     "name": "stdout",
     "output_type": "stream",
     "text": [
      "Extracting parameters from D:\\DATASET PRINCIPALE\\sub-01\\eeg\\sub-01_task-rsvp_eeg.vhdr...\n",
      "Setting channel info structure...\n",
      "Reading 0 ... 3035739  =      0.000 ...  3035.739 secs...\n"
     ]
    }
   ],
   "source": [
    "#Load raw data subject1\n",
    "bids_fname = \"D:\\DATASET PRINCIPALE\\sub-01\\eeg\\sub-01_task-rsvp_eeg.vhdr\"\n",
    "raw= mne.io.read_raw_brainvision(bids_fname, preload=True)"
   ]
  },
  {
   "cell_type": "code",
   "execution_count": 35,
   "id": "superb-contributor",
   "metadata": {},
   "outputs": [
    {
     "name": "stdout",
     "output_type": "stream",
     "text": [
      "2\n"
     ]
    }
   ],
   "source": [
    "subs_file_path=glob(\"..\\..\\DATASET PRINCIPALE\\CartellaEEG/*.vhdr\")\n",
    "print(len(subs_file_path))"
   ]
  },
  {
   "cell_type": "code",
   "execution_count": 65,
   "id": "threaded-usage",
   "metadata": {},
   "outputs": [
    {
     "name": "stdout",
     "output_type": "stream",
     "text": [
      "2\n"
     ]
    }
   ],
   "source": [
    "xls_files=glob(\"..\\..\\DATASET PRINCIPALE\\Cartellaexcel/*.xlsx\")\n",
    "print(len(xls_files))\n",
    "\n",
    "\n",
    "\n",
    "def prep_data(file_path):\n",
    "    data= mne.io.read_raw_brainvision(file_path, preload=True)\n",
    "    return data"
   ]
  },
  {
   "cell_type": "code",
   "execution_count": 66,
   "id": "matched-dress",
   "metadata": {},
   "outputs": [
    {
     "name": "stdout",
     "output_type": "stream",
     "text": [
      "Extracting parameters from ..\\..\\DATASET PRINCIPALE\\CartellaEEG\\sub-01_task-rsvp_eeg.vhdr...\n",
      "Setting channel info structure...\n",
      "Reading 0 ... 3035739  =      0.000 ...  3035.739 secs...\n",
      "Extracting parameters from ..\\..\\DATASET PRINCIPALE\\CartellaEEG\\sub-02_task-rsvp_eeg.vhdr...\n",
      "Setting channel info structure...\n",
      "Reading 0 ... 3227279  =      0.000 ...  3227.279 secs...\n"
     ]
    }
   ],
   "source": [
    "data_sub_vector= [prep_data(i)for i in subs_file_path]"
   ]
  },
  {
   "cell_type": "code",
   "execution_count": 36,
   "id": "specified-opposition",
   "metadata": {},
   "outputs": [],
   "source": [
    "def get_vectors(data_path):\n",
    "\n",
    "    book=load_workbook(data_path)\n",
    "    sheet=book.active\n",
    "    \n",
    "    #onset\n",
    "    onset=[]\n",
    "    for row in sheet['a2':'a22249']:\n",
    "        for cel in row:\n",
    "               onset.append(cel.value)\n",
    "                \n",
    "    onset=np.array(onset)\n",
    "    onset=onset*0.001\n",
    "    \n",
    "    #duration \n",
    "    duration=np.ones((22248,), dtype=int)*0.01\n",
    "    \n",
    "    #description \n",
    "    animal=['animal']\n",
    "    description=[]\n",
    "    for row in sheet ['e2':'e22249']:\n",
    "        for cel in row:\n",
    "            if(cel.value in animal):\n",
    "                description.append(cel.value)\n",
    "            else: \n",
    "                description.append('E 1')\n",
    "    return [onset, duration, description] "
   ]
  },
  {
   "cell_type": "code",
   "execution_count": null,
   "id": "exact-conference",
   "metadata": {},
   "outputs": [],
   "source": []
  },
  {
   "cell_type": "code",
   "execution_count": 37,
   "id": "magnetic-surface",
   "metadata": {},
   "outputs": [],
   "source": [
    "matrix=[]"
   ]
  },
  {
   "cell_type": "code",
   "execution_count": 38,
   "id": "educational-procedure",
   "metadata": {},
   "outputs": [],
   "source": [
    "for i in range(len(xls_files)):\n",
    "    matrix=[get_vectors(i)for i in xls_files]"
   ]
  },
  {
   "cell_type": "code",
   "execution_count": 74,
   "id": "legendary-mauritius",
   "metadata": {},
   "outputs": [
    {
     "name": "stdout",
     "output_type": "stream",
     "text": [
      "22248\n",
      "22248\n"
     ]
    }
   ],
   "source": [
    "print(len(matrix[0][2]))\n",
    "print(len(matrix[1][2]))"
   ]
  },
  {
   "cell_type": "code",
   "execution_count": 75,
   "id": "usual-calculation",
   "metadata": {},
   "outputs": [],
   "source": [
    "def fix_events(data_vector, matrix):\n",
    "    myannot=[]\n",
    "    for i in range(len(xls_files)):\n",
    "            myannot[i]=mne.Annotations(onset=matrix[i][0], duration=matrix[i][1],description=matrix[i][2])\n",
    "            data_vector[i].set_annotations(myannot[i])\n",
    "            \n",
    "    return data_vector"
   ]
  },
  {
   "cell_type": "code",
   "execution_count": 76,
   "id": "possible-appliance",
   "metadata": {},
   "outputs": [
    {
     "ename": "TypeError",
     "evalue": "annotations must be an instance of Annotations, got <class 'collections.OrderedDict'> instead",
     "output_type": "error",
     "traceback": [
      "\u001b[1;31m---------------------------------------------------------------------------\u001b[0m",
      "\u001b[1;31mTypeError\u001b[0m                                 Traceback (most recent call last)",
      "\u001b[1;32m<ipython-input-76-ec94e2f940bb>\u001b[0m in \u001b[0;36m<module>\u001b[1;34m\u001b[0m\n\u001b[1;32m----> 1\u001b[1;33m \u001b[0mdata_vector_note_okay\u001b[0m\u001b[1;33m=\u001b[0m \u001b[0mfix_events\u001b[0m\u001b[1;33m(\u001b[0m\u001b[0mdata_sub_vector\u001b[0m\u001b[1;33m,\u001b[0m \u001b[0mmatrix\u001b[0m\u001b[1;33m)\u001b[0m\u001b[1;33m\u001b[0m\u001b[1;33m\u001b[0m\u001b[0m\n\u001b[0m",
      "\u001b[1;32m<ipython-input-75-8f4c37565798>\u001b[0m in \u001b[0;36mfix_events\u001b[1;34m(data_vector, matrix)\u001b[0m\n\u001b[0;32m      3\u001b[0m     \u001b[1;32mfor\u001b[0m \u001b[0mi\u001b[0m \u001b[1;32min\u001b[0m \u001b[0mrange\u001b[0m\u001b[1;33m(\u001b[0m\u001b[0mlen\u001b[0m\u001b[1;33m(\u001b[0m\u001b[0mxls_files\u001b[0m\u001b[1;33m)\u001b[0m\u001b[1;33m)\u001b[0m\u001b[1;33m:\u001b[0m\u001b[1;33m\u001b[0m\u001b[1;33m\u001b[0m\u001b[0m\n\u001b[0;32m      4\u001b[0m             \u001b[0mmyannot\u001b[0m\u001b[1;33m=\u001b[0m\u001b[0mmne\u001b[0m\u001b[1;33m.\u001b[0m\u001b[0mAnnotations\u001b[0m\u001b[1;33m(\u001b[0m\u001b[0monset\u001b[0m\u001b[1;33m=\u001b[0m\u001b[0mmatrix\u001b[0m\u001b[1;33m[\u001b[0m\u001b[0mi\u001b[0m\u001b[1;33m]\u001b[0m\u001b[1;33m[\u001b[0m\u001b[1;36m0\u001b[0m\u001b[1;33m]\u001b[0m\u001b[1;33m,\u001b[0m \u001b[0mduration\u001b[0m\u001b[1;33m=\u001b[0m\u001b[0mmatrix\u001b[0m\u001b[1;33m[\u001b[0m\u001b[0mi\u001b[0m\u001b[1;33m]\u001b[0m\u001b[1;33m[\u001b[0m\u001b[1;36m1\u001b[0m\u001b[1;33m]\u001b[0m\u001b[1;33m,\u001b[0m\u001b[0mdescription\u001b[0m\u001b[1;33m=\u001b[0m\u001b[0mmatrix\u001b[0m\u001b[1;33m[\u001b[0m\u001b[0mi\u001b[0m\u001b[1;33m]\u001b[0m\u001b[1;33m[\u001b[0m\u001b[1;36m2\u001b[0m\u001b[1;33m]\u001b[0m\u001b[1;33m)\u001b[0m\u001b[1;33m\u001b[0m\u001b[1;33m\u001b[0m\u001b[0m\n\u001b[1;32m----> 5\u001b[1;33m             \u001b[0mdata_vector\u001b[0m\u001b[1;33m[\u001b[0m\u001b[0mi\u001b[0m\u001b[1;33m]\u001b[0m\u001b[1;33m.\u001b[0m\u001b[0mset_annotations\u001b[0m\u001b[1;33m(\u001b[0m\u001b[0mmyannot\u001b[0m\u001b[1;33m[\u001b[0m\u001b[0mi\u001b[0m\u001b[1;33m]\u001b[0m\u001b[1;33m)\u001b[0m\u001b[1;33m\u001b[0m\u001b[1;33m\u001b[0m\u001b[0m\n\u001b[0m\u001b[0;32m      6\u001b[0m \u001b[1;33m\u001b[0m\u001b[0m\n\u001b[0;32m      7\u001b[0m     \u001b[1;32mreturn\u001b[0m \u001b[0mdata_vector\u001b[0m\u001b[1;33m\u001b[0m\u001b[1;33m\u001b[0m\u001b[0m\n",
      "\u001b[1;32m<decorator-gen-183>\u001b[0m in \u001b[0;36mset_annotations\u001b[1;34m(self, annotations, emit_warning, on_missing, verbose)\u001b[0m\n",
      "\u001b[1;32mC:\\Users\\scrpa\\miniconda3\\envs\\myenv\\lib\\site-packages\\mne\\io\\base.py\u001b[0m in \u001b[0;36mset_annotations\u001b[1;34m(self, annotations, emit_warning, on_missing, verbose)\u001b[0m\n\u001b[0;32m    642\u001b[0m             \u001b[0mself\u001b[0m\u001b[1;33m.\u001b[0m\u001b[0m_annotations\u001b[0m \u001b[1;33m=\u001b[0m \u001b[0mAnnotations\u001b[0m\u001b[1;33m(\u001b[0m\u001b[1;33m[\u001b[0m\u001b[1;33m]\u001b[0m\u001b[1;33m,\u001b[0m \u001b[1;33m[\u001b[0m\u001b[1;33m]\u001b[0m\u001b[1;33m,\u001b[0m \u001b[1;33m[\u001b[0m\u001b[1;33m]\u001b[0m\u001b[1;33m,\u001b[0m \u001b[0mmeas_date\u001b[0m\u001b[1;33m)\u001b[0m\u001b[1;33m\u001b[0m\u001b[1;33m\u001b[0m\u001b[0m\n\u001b[0;32m    643\u001b[0m         \u001b[1;32melse\u001b[0m\u001b[1;33m:\u001b[0m\u001b[1;33m\u001b[0m\u001b[1;33m\u001b[0m\u001b[0m\n\u001b[1;32m--> 644\u001b[1;33m             \u001b[0m_validate_type\u001b[0m\u001b[1;33m(\u001b[0m\u001b[0mannotations\u001b[0m\u001b[1;33m,\u001b[0m \u001b[0mAnnotations\u001b[0m\u001b[1;33m,\u001b[0m \u001b[1;34m'annotations'\u001b[0m\u001b[1;33m)\u001b[0m\u001b[1;33m\u001b[0m\u001b[1;33m\u001b[0m\u001b[0m\n\u001b[0m\u001b[0;32m    645\u001b[0m \u001b[1;33m\u001b[0m\u001b[0m\n\u001b[0;32m    646\u001b[0m             \u001b[1;32mif\u001b[0m \u001b[0mmeas_date\u001b[0m \u001b[1;32mis\u001b[0m \u001b[1;32mNone\u001b[0m \u001b[1;32mand\u001b[0m \u001b[0mannotations\u001b[0m\u001b[1;33m.\u001b[0m\u001b[0morig_time\u001b[0m \u001b[1;32mis\u001b[0m \u001b[1;32mnot\u001b[0m \u001b[1;32mNone\u001b[0m\u001b[1;33m:\u001b[0m\u001b[1;33m\u001b[0m\u001b[1;33m\u001b[0m\u001b[0m\n",
      "\u001b[1;32mC:\\Users\\scrpa\\miniconda3\\envs\\myenv\\lib\\site-packages\\mne\\utils\\check.py\u001b[0m in \u001b[0;36m_validate_type\u001b[1;34m(item, types, item_name, type_name)\u001b[0m\n\u001b[0;32m    423\u001b[0m                 \u001b[0mtype_name\u001b[0m \u001b[1;33m=\u001b[0m \u001b[1;34m', '\u001b[0m\u001b[1;33m.\u001b[0m\u001b[0mjoin\u001b[0m\u001b[1;33m(\u001b[0m\u001b[0mtype_name\u001b[0m\u001b[1;33m)\u001b[0m\u001b[1;33m\u001b[0m\u001b[1;33m\u001b[0m\u001b[0m\n\u001b[0;32m    424\u001b[0m         \u001b[0m_item_name\u001b[0m \u001b[1;33m=\u001b[0m \u001b[1;34m'Item'\u001b[0m \u001b[1;32mif\u001b[0m \u001b[0mitem_name\u001b[0m \u001b[1;32mis\u001b[0m \u001b[1;32mNone\u001b[0m \u001b[1;32melse\u001b[0m \u001b[0mitem_name\u001b[0m\u001b[1;33m\u001b[0m\u001b[1;33m\u001b[0m\u001b[0m\n\u001b[1;32m--> 425\u001b[1;33m         raise TypeError(f\"{_item_name} must be an instance of {type_name}, \"\n\u001b[0m\u001b[0;32m    426\u001b[0m                         f\"got {type(item)} instead\")\n\u001b[0;32m    427\u001b[0m \u001b[1;33m\u001b[0m\u001b[0m\n",
      "\u001b[1;31mTypeError\u001b[0m: annotations must be an instance of Annotations, got <class 'collections.OrderedDict'> instead"
     ]
    }
   ],
   "source": [
    "data_vector_note_okay= fix_events(data_sub_vector, matrix)"
   ]
  },
  {
   "cell_type": "code",
   "execution_count": 59,
   "id": "promising-sense",
   "metadata": {},
   "outputs": [
    {
     "name": "stdout",
     "output_type": "stream",
     "text": [
      "0\n",
      "1\n"
     ]
    }
   ],
   "source": [
    "for  i in range(len(xls_files)):\n",
    "    print(i)"
   ]
  },
  {
   "cell_type": "code",
   "execution_count": 63,
   "id": "august-individual",
   "metadata": {},
   "outputs": [
    {
     "data": {
      "text/html": [
       "\n",
       "\n",
       "<table class=\"table table-hover\">\n",
       "    <tr>\n",
       "        <th>Measurement date</th>\n",
       "        <td>February 22, 2019  14:39:19 GMT</td>\n",
       "        \n",
       "    </tr>\n",
       "    <tr>\n",
       "        <th>Experimenter</th>\n",
       "<td>Unknown</td>\n",
       "    </tr>\n",
       "        <th>Participant</th>\n",
       "<td>Unknown</td>\n",
       "    </tr>\n",
       "    <tr>\n",
       "        <th>Digitized points</th>\n",
       "        <td>63 points</td>\n",
       "    </tr>\n",
       "    <tr>\n",
       "        <th>Good channels</th>\n",
       "        <td>0 magnetometer, 0 gradiometer,\n",
       "            and 63 EEG channels</td>\n",
       "    </tr>\n",
       "    <tr>\n",
       "        <th>Bad channels</th>\n",
       "        <td></td>\n",
       "        \n",
       "    </tr>\n",
       "    <tr>\n",
       "        <th>EOG channels</th>\n",
       "        <td>Not available</td>\n",
       "    </tr>\n",
       "    <tr>\n",
       "        <th>ECG channels</th>\n",
       "        <td>Not available</td>\n",
       "    <tr>\n",
       "        <th>Sampling frequency</th>\n",
       "        <td>1000.00 Hz</td>\n",
       "    </tr>\n",
       "    <tr>\n",
       "        <th>Highpass</th>\n",
       "        <td>0.00 Hz</td>\n",
       "    </tr>\n",
       "     <tr>\n",
       "        <th>Lowpass</th>\n",
       "        <td>280.00 Hz</td>\n",
       "    </tr>\n",
       "\n",
       "    <tr>\n",
       "        <th>Filenames</th>\n",
       "        <td>sub-01_task-rsvp_eeg.eeg</td>\n",
       "    </tr>\n",
       "    <tr>\n",
       "        <th>Duration</th>\n",
       "        <td>00:50:35 (HH:MM:SS)</td>\n",
       "    </tr>\n",
       "</table>\n"
      ],
      "text/plain": [
       "<RawBrainVision | sub-01_task-rsvp_eeg.eeg, 63 x 3035740 (3035.7 s), ~1.43 GB, data loaded>"
      ]
     },
     "execution_count": 63,
     "metadata": {},
     "output_type": "execute_result"
    }
   ],
   "source": [
    "raw.set_annotations(myaanot)\n"
   ]
  },
  {
   "cell_type": "code",
   "execution_count": 64,
   "id": "demanding-survival",
   "metadata": {},
   "outputs": [
    {
     "name": "stdout",
     "output_type": "stream",
     "text": [
      "Used Annotations descriptions: ['E 1', 'animal']\n"
     ]
    },
    {
     "data": {
      "text/plain": [
       "(array([[  10724,       0,   10001],\n",
       "        [  10824,       0,   10001],\n",
       "        [  10924,       0,   10001],\n",
       "        ...,\n",
       "        [3022927,       0,   10001],\n",
       "        [3023027,       0,   10001],\n",
       "        [3023127,       0,   10001]]),\n",
       " {'E 1': 10001, 'animal': 10002})"
      ]
     },
     "execution_count": 64,
     "metadata": {},
     "output_type": "execute_result"
    }
   ],
   "source": [
    "#GUARDO GLI EVENTI CHE CI SONO NEL DATASET\n",
    "events=mne.events_from_annotations(raw)\n",
    "events"
   ]
  },
  {
   "cell_type": "code",
   "execution_count": 68,
   "id": "modified-explosion",
   "metadata": {},
   "outputs": [
    {
     "name": "stdout",
     "output_type": "stream",
     "text": [
      "Used Annotations descriptions: ['E 1', 'animal']\n",
      "Numero di altro: 20952\n",
      "Numero di animali: 1296\n",
      "Numero totale di eventi: 22248\n"
     ]
    }
   ],
   "source": [
    "events=mne.events_from_annotations(raw)\n",
    "events\n",
    "#prima colonna --> sample number \n",
    "#terxa colonna--> event number \n",
    "\n",
    "#QUANTI SONO\n",
    "b=len(events[0][events[0][:,2]==10002])\n",
    "a=len(events[0][events[0][:,2]==10001])\n",
    "\n",
    "\n",
    "\n",
    "print(\"Numero di altro:\",a)\n",
    "print(\"Numero di animali:\",b)\n",
    "\n",
    "e=len(events[0])\n",
    "print(\"Numero totale di eventi:\",e)\n"
   ]
  },
  {
   "cell_type": "markdown",
   "id": "trained-abortion",
   "metadata": {},
   "source": []
  }
 ],
 "metadata": {
  "kernelspec": {
   "display_name": "Python 3",
   "language": "python",
   "name": "python3"
  },
  "language_info": {
   "codemirror_mode": {
    "name": "ipython",
    "version": 3
   },
   "file_extension": ".py",
   "mimetype": "text/x-python",
   "name": "python",
   "nbconvert_exporter": "python",
   "pygments_lexer": "ipython3",
   "version": "3.7.1"
  }
 },
 "nbformat": 4,
 "nbformat_minor": 5
}
