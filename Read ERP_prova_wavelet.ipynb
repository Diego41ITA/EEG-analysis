{
 "cells": [
  {
   "cell_type": "code",
   "execution_count": 39,
   "id": "adolescent-freeware",
   "metadata": {},
   "outputs": [],
   "source": [
    "import pandas as pd\n",
    "import matplotlib.pyplot as plt \n",
    "import numpy as np"
   ]
  },
  {
   "cell_type": "code",
   "execution_count": 22,
   "id": "advisory-phoenix",
   "metadata": {},
   "outputs": [],
   "source": [
    "data=pd.read_csv('D:\\REPO_progetto\\TesiBiomedica\\ERP_SUB',header=None)"
   ]
  },
  {
   "cell_type": "code",
   "execution_count": 23,
   "id": "restricted-leave",
   "metadata": {},
   "outputs": [
    {
     "data": {
      "text/html": [
       "<div>\n",
       "<style scoped>\n",
       "    .dataframe tbody tr th:only-of-type {\n",
       "        vertical-align: middle;\n",
       "    }\n",
       "\n",
       "    .dataframe tbody tr th {\n",
       "        vertical-align: top;\n",
       "    }\n",
       "\n",
       "    .dataframe thead th {\n",
       "        text-align: right;\n",
       "    }\n",
       "</style>\n",
       "<table border=\"1\" class=\"dataframe\">\n",
       "  <thead>\n",
       "    <tr style=\"text-align: right;\">\n",
       "      <th></th>\n",
       "      <th>0</th>\n",
       "      <th>1</th>\n",
       "      <th>2</th>\n",
       "      <th>3</th>\n",
       "      <th>4</th>\n",
       "      <th>5</th>\n",
       "      <th>6</th>\n",
       "      <th>7</th>\n",
       "      <th>8</th>\n",
       "      <th>9</th>\n",
       "      <th>...</th>\n",
       "      <th>261</th>\n",
       "      <th>262</th>\n",
       "      <th>263</th>\n",
       "      <th>264</th>\n",
       "      <th>265</th>\n",
       "      <th>266</th>\n",
       "      <th>267</th>\n",
       "      <th>268</th>\n",
       "      <th>269</th>\n",
       "      <th>270</th>\n",
       "    </tr>\n",
       "  </thead>\n",
       "  <tbody>\n",
       "    <tr>\n",
       "      <th>0</th>\n",
       "      <td>..\\..\\DATASET PRINCIPALE\\CartellaEEG\\sub-01_ta...</td>\n",
       "      <td>Animali</td>\n",
       "      <td>-6.660858e-08</td>\n",
       "      <td>-5.155620e-08</td>\n",
       "      <td>-4.237336e-08</td>\n",
       "      <td>-4.035125e-08</td>\n",
       "      <td>-4.474567e-08</td>\n",
       "      <td>-5.637720e-08</td>\n",
       "      <td>-7.731901e-08</td>\n",
       "      <td>-1.061579e-07</td>\n",
       "      <td>...</td>\n",
       "      <td>1.845305e-07</td>\n",
       "      <td>1.725919e-07</td>\n",
       "      <td>1.739991e-07</td>\n",
       "      <td>1.889034e-07</td>\n",
       "      <td>2.094311e-07</td>\n",
       "      <td>2.245963e-07</td>\n",
       "      <td>2.262306e-07</td>\n",
       "      <td>2.122618e-07</td>\n",
       "      <td>1.860856e-07</td>\n",
       "      <td>1.535641e-07</td>\n",
       "    </tr>\n",
       "    <tr>\n",
       "      <th>1</th>\n",
       "      <td>..\\..\\DATASET PRINCIPALE\\CartellaEEG\\sub-01_ta...</td>\n",
       "      <td>Uomini</td>\n",
       "      <td>1.610181e-07</td>\n",
       "      <td>1.232446e-07</td>\n",
       "      <td>9.278014e-08</td>\n",
       "      <td>6.771518e-08</td>\n",
       "      <td>3.889963e-08</td>\n",
       "      <td>-3.367170e-09</td>\n",
       "      <td>-6.007381e-08</td>\n",
       "      <td>-1.191855e-07</td>\n",
       "      <td>...</td>\n",
       "      <td>4.399361e-07</td>\n",
       "      <td>4.294440e-07</td>\n",
       "      <td>4.110978e-07</td>\n",
       "      <td>3.809572e-07</td>\n",
       "      <td>3.347137e-07</td>\n",
       "      <td>2.777871e-07</td>\n",
       "      <td>2.275463e-07</td>\n",
       "      <td>2.048102e-07</td>\n",
       "      <td>2.212922e-07</td>\n",
       "      <td>2.730908e-07</td>\n",
       "    </tr>\n",
       "    <tr>\n",
       "      <th>2</th>\n",
       "      <td>..\\..\\DATASET PRINCIPALE\\CartellaEEG\\sub-02_ta...</td>\n",
       "      <td>Animali</td>\n",
       "      <td>-2.222016e-08</td>\n",
       "      <td>-2.514167e-08</td>\n",
       "      <td>-2.426353e-08</td>\n",
       "      <td>-2.224770e-08</td>\n",
       "      <td>-2.272578e-08</td>\n",
       "      <td>-2.725221e-08</td>\n",
       "      <td>-3.384430e-08</td>\n",
       "      <td>-3.829172e-08</td>\n",
       "      <td>...</td>\n",
       "      <td>-4.671695e-08</td>\n",
       "      <td>-3.928043e-08</td>\n",
       "      <td>-3.094038e-08</td>\n",
       "      <td>-2.270236e-08</td>\n",
       "      <td>-1.653103e-08</td>\n",
       "      <td>-1.451728e-08</td>\n",
       "      <td>-1.766019e-08</td>\n",
       "      <td>-2.498508e-08</td>\n",
       "      <td>-3.370162e-08</td>\n",
       "      <td>-4.042730e-08</td>\n",
       "    </tr>\n",
       "    <tr>\n",
       "      <th>3</th>\n",
       "      <td>..\\..\\DATASET PRINCIPALE\\CartellaEEG\\sub-02_ta...</td>\n",
       "      <td>Uomini</td>\n",
       "      <td>-2.710765e-08</td>\n",
       "      <td>-4.650129e-08</td>\n",
       "      <td>-5.548661e-08</td>\n",
       "      <td>-4.996725e-08</td>\n",
       "      <td>-3.260530e-08</td>\n",
       "      <td>-9.715556e-09</td>\n",
       "      <td>1.295755e-08</td>\n",
       "      <td>3.269942e-08</td>\n",
       "      <td>...</td>\n",
       "      <td>9.819252e-08</td>\n",
       "      <td>9.480905e-08</td>\n",
       "      <td>9.939563e-08</td>\n",
       "      <td>1.099937e-07</td>\n",
       "      <td>1.230121e-07</td>\n",
       "      <td>1.339760e-07</td>\n",
       "      <td>1.382614e-07</td>\n",
       "      <td>1.321887e-07</td>\n",
       "      <td>1.145940e-07</td>\n",
       "      <td>8.807074e-08</td>\n",
       "    </tr>\n",
       "  </tbody>\n",
       "</table>\n",
       "<p>4 rows × 271 columns</p>\n",
       "</div>"
      ],
      "text/plain": [
       "                                                 0        1             2    \\\n",
       "0  ..\\..\\DATASET PRINCIPALE\\CartellaEEG\\sub-01_ta...  Animali -6.660858e-08   \n",
       "1  ..\\..\\DATASET PRINCIPALE\\CartellaEEG\\sub-01_ta...   Uomini  1.610181e-07   \n",
       "2  ..\\..\\DATASET PRINCIPALE\\CartellaEEG\\sub-02_ta...  Animali -2.222016e-08   \n",
       "3  ..\\..\\DATASET PRINCIPALE\\CartellaEEG\\sub-02_ta...   Uomini -2.710765e-08   \n",
       "\n",
       "            3             4             5             6             7    \\\n",
       "0 -5.155620e-08 -4.237336e-08 -4.035125e-08 -4.474567e-08 -5.637720e-08   \n",
       "1  1.232446e-07  9.278014e-08  6.771518e-08  3.889963e-08 -3.367170e-09   \n",
       "2 -2.514167e-08 -2.426353e-08 -2.224770e-08 -2.272578e-08 -2.725221e-08   \n",
       "3 -4.650129e-08 -5.548661e-08 -4.996725e-08 -3.260530e-08 -9.715556e-09   \n",
       "\n",
       "            8             9    ...           261           262           263  \\\n",
       "0 -7.731901e-08 -1.061579e-07  ...  1.845305e-07  1.725919e-07  1.739991e-07   \n",
       "1 -6.007381e-08 -1.191855e-07  ...  4.399361e-07  4.294440e-07  4.110978e-07   \n",
       "2 -3.384430e-08 -3.829172e-08  ... -4.671695e-08 -3.928043e-08 -3.094038e-08   \n",
       "3  1.295755e-08  3.269942e-08  ...  9.819252e-08  9.480905e-08  9.939563e-08   \n",
       "\n",
       "            264           265           266           267           268  \\\n",
       "0  1.889034e-07  2.094311e-07  2.245963e-07  2.262306e-07  2.122618e-07   \n",
       "1  3.809572e-07  3.347137e-07  2.777871e-07  2.275463e-07  2.048102e-07   \n",
       "2 -2.270236e-08 -1.653103e-08 -1.451728e-08 -1.766019e-08 -2.498508e-08   \n",
       "3  1.099937e-07  1.230121e-07  1.339760e-07  1.382614e-07  1.321887e-07   \n",
       "\n",
       "            269           270  \n",
       "0  1.860856e-07  1.535641e-07  \n",
       "1  2.212922e-07  2.730908e-07  \n",
       "2 -3.370162e-08 -4.042730e-08  \n",
       "3  1.145940e-07  8.807074e-08  \n",
       "\n",
       "[4 rows x 271 columns]"
      ]
     },
     "execution_count": 23,
     "metadata": {},
     "output_type": "execute_result"
    }
   ],
   "source": [
    "data.head(4)"
   ]
  },
  {
   "cell_type": "code",
   "execution_count": 24,
   "id": "opened-dominican",
   "metadata": {},
   "outputs": [],
   "source": [
    "data.drop(columns=data.columns[0], axis=1, inplace=True)"
   ]
  },
  {
   "cell_type": "code",
   "execution_count": 25,
   "id": "approved-patrick",
   "metadata": {},
   "outputs": [
    {
     "data": {
      "text/html": [
       "<div>\n",
       "<style scoped>\n",
       "    .dataframe tbody tr th:only-of-type {\n",
       "        vertical-align: middle;\n",
       "    }\n",
       "\n",
       "    .dataframe tbody tr th {\n",
       "        vertical-align: top;\n",
       "    }\n",
       "\n",
       "    .dataframe thead th {\n",
       "        text-align: right;\n",
       "    }\n",
       "</style>\n",
       "<table border=\"1\" class=\"dataframe\">\n",
       "  <thead>\n",
       "    <tr style=\"text-align: right;\">\n",
       "      <th></th>\n",
       "      <th>1</th>\n",
       "      <th>2</th>\n",
       "      <th>3</th>\n",
       "      <th>4</th>\n",
       "      <th>5</th>\n",
       "      <th>6</th>\n",
       "      <th>7</th>\n",
       "      <th>8</th>\n",
       "      <th>9</th>\n",
       "      <th>10</th>\n",
       "      <th>...</th>\n",
       "      <th>261</th>\n",
       "      <th>262</th>\n",
       "      <th>263</th>\n",
       "      <th>264</th>\n",
       "      <th>265</th>\n",
       "      <th>266</th>\n",
       "      <th>267</th>\n",
       "      <th>268</th>\n",
       "      <th>269</th>\n",
       "      <th>270</th>\n",
       "    </tr>\n",
       "  </thead>\n",
       "  <tbody>\n",
       "    <tr>\n",
       "      <th>0</th>\n",
       "      <td>Animali</td>\n",
       "      <td>-6.660858e-08</td>\n",
       "      <td>-5.155620e-08</td>\n",
       "      <td>-4.237336e-08</td>\n",
       "      <td>-4.035125e-08</td>\n",
       "      <td>-4.474567e-08</td>\n",
       "      <td>-5.637720e-08</td>\n",
       "      <td>-7.731901e-08</td>\n",
       "      <td>-1.061579e-07</td>\n",
       "      <td>-1.335405e-07</td>\n",
       "      <td>...</td>\n",
       "      <td>1.845305e-07</td>\n",
       "      <td>1.725919e-07</td>\n",
       "      <td>1.739991e-07</td>\n",
       "      <td>1.889034e-07</td>\n",
       "      <td>2.094311e-07</td>\n",
       "      <td>2.245963e-07</td>\n",
       "      <td>2.262306e-07</td>\n",
       "      <td>2.122618e-07</td>\n",
       "      <td>1.860856e-07</td>\n",
       "      <td>1.535641e-07</td>\n",
       "    </tr>\n",
       "    <tr>\n",
       "      <th>1</th>\n",
       "      <td>Uomini</td>\n",
       "      <td>1.610181e-07</td>\n",
       "      <td>1.232446e-07</td>\n",
       "      <td>9.278014e-08</td>\n",
       "      <td>6.771518e-08</td>\n",
       "      <td>3.889963e-08</td>\n",
       "      <td>-3.367170e-09</td>\n",
       "      <td>-6.007381e-08</td>\n",
       "      <td>-1.191855e-07</td>\n",
       "      <td>-1.609989e-07</td>\n",
       "      <td>...</td>\n",
       "      <td>4.399361e-07</td>\n",
       "      <td>4.294440e-07</td>\n",
       "      <td>4.110978e-07</td>\n",
       "      <td>3.809572e-07</td>\n",
       "      <td>3.347137e-07</td>\n",
       "      <td>2.777871e-07</td>\n",
       "      <td>2.275463e-07</td>\n",
       "      <td>2.048102e-07</td>\n",
       "      <td>2.212922e-07</td>\n",
       "      <td>2.730908e-07</td>\n",
       "    </tr>\n",
       "    <tr>\n",
       "      <th>2</th>\n",
       "      <td>Animali</td>\n",
       "      <td>-2.222016e-08</td>\n",
       "      <td>-2.514167e-08</td>\n",
       "      <td>-2.426353e-08</td>\n",
       "      <td>-2.224770e-08</td>\n",
       "      <td>-2.272578e-08</td>\n",
       "      <td>-2.725221e-08</td>\n",
       "      <td>-3.384430e-08</td>\n",
       "      <td>-3.829172e-08</td>\n",
       "      <td>-3.705279e-08</td>\n",
       "      <td>...</td>\n",
       "      <td>-4.671695e-08</td>\n",
       "      <td>-3.928043e-08</td>\n",
       "      <td>-3.094038e-08</td>\n",
       "      <td>-2.270236e-08</td>\n",
       "      <td>-1.653103e-08</td>\n",
       "      <td>-1.451728e-08</td>\n",
       "      <td>-1.766019e-08</td>\n",
       "      <td>-2.498508e-08</td>\n",
       "      <td>-3.370162e-08</td>\n",
       "      <td>-4.042730e-08</td>\n",
       "    </tr>\n",
       "    <tr>\n",
       "      <th>3</th>\n",
       "      <td>Uomini</td>\n",
       "      <td>-2.710765e-08</td>\n",
       "      <td>-4.650129e-08</td>\n",
       "      <td>-5.548661e-08</td>\n",
       "      <td>-4.996725e-08</td>\n",
       "      <td>-3.260530e-08</td>\n",
       "      <td>-9.715556e-09</td>\n",
       "      <td>1.295755e-08</td>\n",
       "      <td>3.269942e-08</td>\n",
       "      <td>4.954632e-08</td>\n",
       "      <td>...</td>\n",
       "      <td>9.819252e-08</td>\n",
       "      <td>9.480905e-08</td>\n",
       "      <td>9.939563e-08</td>\n",
       "      <td>1.099937e-07</td>\n",
       "      <td>1.230121e-07</td>\n",
       "      <td>1.339760e-07</td>\n",
       "      <td>1.382614e-07</td>\n",
       "      <td>1.321887e-07</td>\n",
       "      <td>1.145940e-07</td>\n",
       "      <td>8.807074e-08</td>\n",
       "    </tr>\n",
       "  </tbody>\n",
       "</table>\n",
       "<p>4 rows × 270 columns</p>\n",
       "</div>"
      ],
      "text/plain": [
       "       1             2             3             4             5    \\\n",
       "0  Animali -6.660858e-08 -5.155620e-08 -4.237336e-08 -4.035125e-08   \n",
       "1   Uomini  1.610181e-07  1.232446e-07  9.278014e-08  6.771518e-08   \n",
       "2  Animali -2.222016e-08 -2.514167e-08 -2.426353e-08 -2.224770e-08   \n",
       "3   Uomini -2.710765e-08 -4.650129e-08 -5.548661e-08 -4.996725e-08   \n",
       "\n",
       "            6             7             8             9             10   ...  \\\n",
       "0 -4.474567e-08 -5.637720e-08 -7.731901e-08 -1.061579e-07 -1.335405e-07  ...   \n",
       "1  3.889963e-08 -3.367170e-09 -6.007381e-08 -1.191855e-07 -1.609989e-07  ...   \n",
       "2 -2.272578e-08 -2.725221e-08 -3.384430e-08 -3.829172e-08 -3.705279e-08  ...   \n",
       "3 -3.260530e-08 -9.715556e-09  1.295755e-08  3.269942e-08  4.954632e-08  ...   \n",
       "\n",
       "            261           262           263           264           265  \\\n",
       "0  1.845305e-07  1.725919e-07  1.739991e-07  1.889034e-07  2.094311e-07   \n",
       "1  4.399361e-07  4.294440e-07  4.110978e-07  3.809572e-07  3.347137e-07   \n",
       "2 -4.671695e-08 -3.928043e-08 -3.094038e-08 -2.270236e-08 -1.653103e-08   \n",
       "3  9.819252e-08  9.480905e-08  9.939563e-08  1.099937e-07  1.230121e-07   \n",
       "\n",
       "            266           267           268           269           270  \n",
       "0  2.245963e-07  2.262306e-07  2.122618e-07  1.860856e-07  1.535641e-07  \n",
       "1  2.777871e-07  2.275463e-07  2.048102e-07  2.212922e-07  2.730908e-07  \n",
       "2 -1.451728e-08 -1.766019e-08 -2.498508e-08 -3.370162e-08 -4.042730e-08  \n",
       "3  1.339760e-07  1.382614e-07  1.321887e-07  1.145940e-07  8.807074e-08  \n",
       "\n",
       "[4 rows x 270 columns]"
      ]
     },
     "execution_count": 25,
     "metadata": {},
     "output_type": "execute_result"
    }
   ],
   "source": [
    "data.head(4)"
   ]
  },
  {
   "cell_type": "code",
   "execution_count": 26,
   "id": "sublime-carter",
   "metadata": {},
   "outputs": [],
   "source": [
    "data.drop(columns=data.columns[0], axis=1, inplace=True)"
   ]
  },
  {
   "cell_type": "code",
   "execution_count": 27,
   "id": "empty-cowboy",
   "metadata": {},
   "outputs": [
    {
     "data": {
      "text/html": [
       "<div>\n",
       "<style scoped>\n",
       "    .dataframe tbody tr th:only-of-type {\n",
       "        vertical-align: middle;\n",
       "    }\n",
       "\n",
       "    .dataframe tbody tr th {\n",
       "        vertical-align: top;\n",
       "    }\n",
       "\n",
       "    .dataframe thead th {\n",
       "        text-align: right;\n",
       "    }\n",
       "</style>\n",
       "<table border=\"1\" class=\"dataframe\">\n",
       "  <thead>\n",
       "    <tr style=\"text-align: right;\">\n",
       "      <th></th>\n",
       "      <th>2</th>\n",
       "      <th>3</th>\n",
       "      <th>4</th>\n",
       "      <th>5</th>\n",
       "      <th>6</th>\n",
       "      <th>7</th>\n",
       "      <th>8</th>\n",
       "      <th>9</th>\n",
       "      <th>10</th>\n",
       "      <th>11</th>\n",
       "      <th>...</th>\n",
       "      <th>261</th>\n",
       "      <th>262</th>\n",
       "      <th>263</th>\n",
       "      <th>264</th>\n",
       "      <th>265</th>\n",
       "      <th>266</th>\n",
       "      <th>267</th>\n",
       "      <th>268</th>\n",
       "      <th>269</th>\n",
       "      <th>270</th>\n",
       "    </tr>\n",
       "  </thead>\n",
       "  <tbody>\n",
       "    <tr>\n",
       "      <th>0</th>\n",
       "      <td>-6.660858e-08</td>\n",
       "      <td>-5.155620e-08</td>\n",
       "      <td>-4.237336e-08</td>\n",
       "      <td>-4.035125e-08</td>\n",
       "      <td>-4.474567e-08</td>\n",
       "      <td>-5.637720e-08</td>\n",
       "      <td>-7.731901e-08</td>\n",
       "      <td>-1.061579e-07</td>\n",
       "      <td>-1.335405e-07</td>\n",
       "      <td>-1.436685e-07</td>\n",
       "      <td>...</td>\n",
       "      <td>1.845305e-07</td>\n",
       "      <td>1.725919e-07</td>\n",
       "      <td>1.739991e-07</td>\n",
       "      <td>1.889034e-07</td>\n",
       "      <td>2.094311e-07</td>\n",
       "      <td>2.245963e-07</td>\n",
       "      <td>2.262306e-07</td>\n",
       "      <td>2.122618e-07</td>\n",
       "      <td>1.860856e-07</td>\n",
       "      <td>1.535641e-07</td>\n",
       "    </tr>\n",
       "    <tr>\n",
       "      <th>1</th>\n",
       "      <td>1.610181e-07</td>\n",
       "      <td>1.232446e-07</td>\n",
       "      <td>9.278014e-08</td>\n",
       "      <td>6.771518e-08</td>\n",
       "      <td>3.889963e-08</td>\n",
       "      <td>-3.367170e-09</td>\n",
       "      <td>-6.007381e-08</td>\n",
       "      <td>-1.191855e-07</td>\n",
       "      <td>-1.609989e-07</td>\n",
       "      <td>-1.700428e-07</td>\n",
       "      <td>...</td>\n",
       "      <td>4.399361e-07</td>\n",
       "      <td>4.294440e-07</td>\n",
       "      <td>4.110978e-07</td>\n",
       "      <td>3.809572e-07</td>\n",
       "      <td>3.347137e-07</td>\n",
       "      <td>2.777871e-07</td>\n",
       "      <td>2.275463e-07</td>\n",
       "      <td>2.048102e-07</td>\n",
       "      <td>2.212922e-07</td>\n",
       "      <td>2.730908e-07</td>\n",
       "    </tr>\n",
       "    <tr>\n",
       "      <th>2</th>\n",
       "      <td>-2.222016e-08</td>\n",
       "      <td>-2.514167e-08</td>\n",
       "      <td>-2.426353e-08</td>\n",
       "      <td>-2.224770e-08</td>\n",
       "      <td>-2.272578e-08</td>\n",
       "      <td>-2.725221e-08</td>\n",
       "      <td>-3.384430e-08</td>\n",
       "      <td>-3.829172e-08</td>\n",
       "      <td>-3.705279e-08</td>\n",
       "      <td>-2.942049e-08</td>\n",
       "      <td>...</td>\n",
       "      <td>-4.671695e-08</td>\n",
       "      <td>-3.928043e-08</td>\n",
       "      <td>-3.094038e-08</td>\n",
       "      <td>-2.270236e-08</td>\n",
       "      <td>-1.653103e-08</td>\n",
       "      <td>-1.451728e-08</td>\n",
       "      <td>-1.766019e-08</td>\n",
       "      <td>-2.498508e-08</td>\n",
       "      <td>-3.370162e-08</td>\n",
       "      <td>-4.042730e-08</td>\n",
       "    </tr>\n",
       "    <tr>\n",
       "      <th>3</th>\n",
       "      <td>-2.710765e-08</td>\n",
       "      <td>-4.650129e-08</td>\n",
       "      <td>-5.548661e-08</td>\n",
       "      <td>-4.996725e-08</td>\n",
       "      <td>-3.260530e-08</td>\n",
       "      <td>-9.715556e-09</td>\n",
       "      <td>1.295755e-08</td>\n",
       "      <td>3.269942e-08</td>\n",
       "      <td>4.954632e-08</td>\n",
       "      <td>6.419363e-08</td>\n",
       "      <td>...</td>\n",
       "      <td>9.819252e-08</td>\n",
       "      <td>9.480905e-08</td>\n",
       "      <td>9.939563e-08</td>\n",
       "      <td>1.099937e-07</td>\n",
       "      <td>1.230121e-07</td>\n",
       "      <td>1.339760e-07</td>\n",
       "      <td>1.382614e-07</td>\n",
       "      <td>1.321887e-07</td>\n",
       "      <td>1.145940e-07</td>\n",
       "      <td>8.807074e-08</td>\n",
       "    </tr>\n",
       "  </tbody>\n",
       "</table>\n",
       "<p>4 rows × 269 columns</p>\n",
       "</div>"
      ],
      "text/plain": [
       "            2             3             4             5             6    \\\n",
       "0 -6.660858e-08 -5.155620e-08 -4.237336e-08 -4.035125e-08 -4.474567e-08   \n",
       "1  1.610181e-07  1.232446e-07  9.278014e-08  6.771518e-08  3.889963e-08   \n",
       "2 -2.222016e-08 -2.514167e-08 -2.426353e-08 -2.224770e-08 -2.272578e-08   \n",
       "3 -2.710765e-08 -4.650129e-08 -5.548661e-08 -4.996725e-08 -3.260530e-08   \n",
       "\n",
       "            7             8             9             10            11   ...  \\\n",
       "0 -5.637720e-08 -7.731901e-08 -1.061579e-07 -1.335405e-07 -1.436685e-07  ...   \n",
       "1 -3.367170e-09 -6.007381e-08 -1.191855e-07 -1.609989e-07 -1.700428e-07  ...   \n",
       "2 -2.725221e-08 -3.384430e-08 -3.829172e-08 -3.705279e-08 -2.942049e-08  ...   \n",
       "3 -9.715556e-09  1.295755e-08  3.269942e-08  4.954632e-08  6.419363e-08  ...   \n",
       "\n",
       "            261           262           263           264           265  \\\n",
       "0  1.845305e-07  1.725919e-07  1.739991e-07  1.889034e-07  2.094311e-07   \n",
       "1  4.399361e-07  4.294440e-07  4.110978e-07  3.809572e-07  3.347137e-07   \n",
       "2 -4.671695e-08 -3.928043e-08 -3.094038e-08 -2.270236e-08 -1.653103e-08   \n",
       "3  9.819252e-08  9.480905e-08  9.939563e-08  1.099937e-07  1.230121e-07   \n",
       "\n",
       "            266           267           268           269           270  \n",
       "0  2.245963e-07  2.262306e-07  2.122618e-07  1.860856e-07  1.535641e-07  \n",
       "1  2.777871e-07  2.275463e-07  2.048102e-07  2.212922e-07  2.730908e-07  \n",
       "2 -1.451728e-08 -1.766019e-08 -2.498508e-08 -3.370162e-08 -4.042730e-08  \n",
       "3  1.339760e-07  1.382614e-07  1.321887e-07  1.145940e-07  8.807074e-08  \n",
       "\n",
       "[4 rows x 269 columns]"
      ]
     },
     "execution_count": 27,
     "metadata": {},
     "output_type": "execute_result"
    }
   ],
   "source": [
    "data.head(4)"
   ]
  },
  {
   "cell_type": "code",
   "execution_count": 28,
   "id": "formal-crack",
   "metadata": {},
   "outputs": [
    {
     "name": "stdout",
     "output_type": "stream",
     "text": [
      "269\n"
     ]
    }
   ],
   "source": [
    "data= data.to_numpy()\n"
   ]
  },
  {
   "cell_type": "code",
   "execution_count": 106,
   "id": "satellite-group",
   "metadata": {},
   "outputs": [],
   "source": [
    "Animali=[data[i,:] for  i in [0,2]]\n",
    "Uomini =[data[i,:] for  i in [1,3]]"
   ]
  },
  {
   "cell_type": "code",
   "execution_count": 107,
   "id": "unknown-muslim",
   "metadata": {},
   "outputs": [
    {
     "name": "stdout",
     "output_type": "stream",
     "text": [
      "269\n"
     ]
    }
   ],
   "source": [
    "print(len(Animali[0]))"
   ]
  },
  {
   "cell_type": "code",
   "execution_count": 40,
   "id": "pending-musical",
   "metadata": {},
   "outputs": [],
   "source": [
    "#normalizziamo \n",
    "for i in range(2):\n",
    "    Animali[i] = Animali[i] / np.max(np.abs(Animali[i]))\n",
    "    Uomini[i] = Uomini[i] / np.max(np.abs(Uomini[i]))"
   ]
  },
  {
   "cell_type": "code",
   "execution_count": 108,
   "id": "vocal-productivity",
   "metadata": {},
   "outputs": [
    {
     "name": "stdout",
     "output_type": "stream",
     "text": [
      "269 6 16\n"
     ]
    }
   ],
   "source": [
    "T = Animali[i].shape[-1]\n",
    "J = 6\n",
    "Q = 16\n",
    "print(T,J,Q)"
   ]
  },
  {
   "cell_type": "code",
   "execution_count": 109,
   "id": "rental-aaron",
   "metadata": {},
   "outputs": [],
   "source": [
    "from kymatio.numpy import Scattering1D\n",
    "scattering = Scattering1D(J, T, Q)"
   ]
  },
  {
   "cell_type": "code",
   "execution_count": 110,
   "id": "bacterial-patch",
   "metadata": {},
   "outputs": [],
   "source": [
    "S_Animali =[scattering(Animali[i]) for  i in range(2)]\n",
    "S_Uomini=[scattering(Uomini[i]) for  i in range(2)]"
   ]
  },
  {
   "cell_type": "code",
   "execution_count": 111,
   "id": "german-freedom",
   "metadata": {},
   "outputs": [],
   "source": [
    "meta = scattering.meta()\n",
    "order0 = np.where(meta['order'] == 0)\n",
    "order1 = np.where(meta['order'] == 1)\n",
    "order2 = np.where(meta['order'] == 2)"
   ]
  },
  {
   "cell_type": "code",
   "execution_count": 112,
   "id": "clean-turkey",
   "metadata": {},
   "outputs": [
    {
     "data": {
      "text/plain": [
       "[<matplotlib.lines.Line2D at 0x2177be55828>]"
      ]
     },
     "execution_count": 112,
     "metadata": {},
     "output_type": "execute_result"
    },
    {
     "data": {
      "image/png": "[encoded data removed]",
      "text/plain": [
       "<Figure size 576x144 with 1 Axes>"
      ]
     },
     "metadata": {
      "needs_background": "light"
     },
     "output_type": "display_data"
    }
   ],
   "source": [
    "plt.figure(figsize=(8, 2))\n",
    "plt.plot(Animali[0])\n",
    "plt.title('Animali Sub 1 e 0 ')\n",
    "plt.plot(Animali[1])\n"
   ]
  },
  {
   "cell_type": "code",
   "execution_count": 113,
   "id": "enormous-treasurer",
   "metadata": {},
   "outputs": [
    {
     "data": {
      "text/plain": [
       "[<matplotlib.lines.Line2D at 0x2177bf17940>]"
      ]
     },
     "execution_count": 113,
     "metadata": {},
     "output_type": "execute_result"
    },
    {
     "data": {
      "image/png": "[encoded data removed]",
      "text/plain": [
       "<Figure size 576x144 with 1 Axes>"
      ]
     },
     "metadata": {
      "needs_background": "light"
     },
     "output_type": "display_data"
    }
   ],
   "source": [
    "plt.figure(figsize=(8, 2))\n",
    "plt.plot(Uomini[0])\n",
    "plt.title('Animali Sub 1 e 0 ')\n",
    "plt.plot(Uomini[1])"
   ]
  },
  {
   "cell_type": "code",
   "execution_count": 114,
   "id": "clinical-waterproof",
   "metadata": {},
   "outputs": [
    {
     "data": {
      "image/png": "[encoded data removed]",
      "text/plain": [
       "<Figure size 432x288 with 6 Axes>"
      ]
     },
     "metadata": {
      "needs_background": "light"
     },
     "output_type": "display_data"
    }
   ],
   "source": [
    "fig, axs = plt.subplots(3, 2)\n",
    "axs[0, 0].imshow(S_Uomini[0][order0], aspect='auto')\n",
    "axs[0,0].set_title('sub_0 Zero-order scattering')\n",
    "axs[0,1].imshow(S_Uomini[1][order0], aspect='auto')\n",
    "axs[0,1].set_title('sub_1 Zero-order scattering')\n",
    "\n",
    "axs[1,0].imshow(S_Uomini[1][order1], aspect='auto')\n",
    "\n",
    "axs[1,1].imshow(S_Uomini[0][order1], aspect='auto')\n",
    "\n",
    "\n",
    "axs[2,0].imshow(S_Uomini[1][order2], aspect='auto')\n",
    "\n",
    "axs[2,1].imshow(S_Uomini[0][order2], aspect='auto')\n",
    "\n",
    "\n",
    "for ax in axs.flat:\n",
    "    ax.set(xlabel='time', ylabel='freq')\n",
    "\n",
    "# Hide x labels and tick labels for top plots and y ticks for right plots.\n",
    "for ax in axs.flat:\n",
    "    ax.label_outer()"
   ]
  },
  {
   "cell_type": "code",
   "execution_count": 115,
   "id": "smoking-trainer",
   "metadata": {},
   "outputs": [
    {
     "data": {
      "image/png": "[encoded data removed]",
      "text/plain": [
       "<Figure size 432x288 with 6 Axes>"
      ]
     },
     "metadata": {
      "needs_background": "light"
     },
     "output_type": "display_data"
    }
   ],
   "source": [
    "fig, axs = plt.subplots(3, 2)\n",
    "axs[0, 0].imshow(S_Animali[0][order0], aspect='auto')\n",
    "axs[0,0].set_title('sub_0 Zero-order scattering')\n",
    "axs[0,1].imshow(S_Animali[1][order0], aspect='auto')\n",
    "axs[0,1].set_title('sub_1 Zero-order scattering')\n",
    "\n",
    "axs[1,0].imshow(S_Animali[1][order1], aspect='auto')\n",
    "\n",
    "axs[1,1].imshow(S_Animali[0][order1], aspect='auto')\n",
    "\n",
    "\n",
    "axs[2,0].imshow(S_Animali[1][order2], aspect='auto')\n",
    "\n",
    "axs[2,1].imshow(S_Animali[0][order2], aspect='auto')\n",
    "\n",
    "\n",
    "for ax in axs.flat:\n",
    "    ax.set(xlabel='time', ylabel='freq')\n",
    "\n",
    "# Hide x labels and tick labels for top plots and y ticks for right plots.\n",
    "for ax in axs.flat:\n",
    "    ax.label_outer()"
   ]
  },
  {
   "cell_type": "code",
   "execution_count": null,
   "id": "standard-solomon",
   "metadata": {},
   "outputs": [],
   "source": []
  }
 ],
 "metadata": {
  "kernelspec": {
   "display_name": "Python 3",
   "language": "python",
   "name": "python3"
  },
  "language_info": {
   "codemirror_mode": {
    "name": "ipython",
    "version": 3
   },
   "file_extension": ".py",
   "mimetype": "text/x-python",
   "name": "python",
   "nbconvert_exporter": "python",
   "pygments_lexer": "ipython3",
   "version": "3.7.1"
  }
 },
 "nbformat": 4,
 "nbformat_minor": 5
}
