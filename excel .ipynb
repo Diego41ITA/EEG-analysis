{
 "cells": [
  {
   "cell_type": "code",
   "execution_count": 2,
   "id": "attached-community",
   "metadata": {},
   "outputs": [],
   "source": [
    "from openpyxl import load_workbook\n",
    "from glob import glob \n",
    "import os"
   ]
  },
  {
   "cell_type": "code",
   "execution_count": 3,
   "id": "three-remains",
   "metadata": {},
   "outputs": [],
   "source": [
    "animal=['aardvark','alligator','alpaca','anteater','antelope','badger','bat1','bear','beaver','beehive','bird','birdcage',\n",
    "'bison','boar','bull','calf1','camel','cat','cheetah','chick','chicken1','chinchilla','chipmunk','coral','cougar','coyote','deer','dog',\n",
    "'doghouse','dolphin','duck','eel','elephant','ferret','fish','fox','gazelle','giraffe','goat','gopher','gorilla',\n",
    "'groundhog','guinea_pig','hamster','hedgehog','hippopotamus','horse','hyena','jellyfish','kangaroo','kitten','koala',\n",
    "'lamb','leech','leopard','lion','llama','manatee','meerkat','mole','mongoose','monkey','moose','mouse1','octopus',\n",
    "'orangutan','ostrich','otter','panda','panther','penguin','piglet','platypus','polar_bear','pony','porcupine','possum',\n",
    "'puppy','rabbit','raccoon','racehorse','ram','reindeer','rhinoceros','scorpion','sea_urchin','seahorse'\n",
    ",'seal','shark','skunk','sloth','slug','snail','squirrel','starfish'\n",
    ",'stingray','teddy_bear','tiger','turtle','walrus','warthog','weasel','wolf','yak','yoke','zebra','cow','donkey']"
   ]
  },
  {
   "cell_type": "code",
   "execution_count": 11,
   "id": "typical-holocaust",
   "metadata": {},
   "outputs": [
    {
     "name": "stdout",
     "output_type": "stream",
     "text": [
      "2\n"
     ]
    }
   ],
   "source": [
    "xls_files=glob(\"..\\..\\DATASET PRINCIPALE\\Cartellaexcel/*.xlsx\")\n",
    "print(len(xls_files))"
   ]
  },
  {
   "cell_type": "code",
   "execution_count": 12,
   "id": "handled-shoot",
   "metadata": {},
   "outputs": [],
   "source": [
    "def modify_create_xls(data_path):\n",
    "    book=load_workbook(data_path)\n",
    "    sheet=book.active\n",
    "    for row in sheet ['e2':'e22249']:\n",
    "        for cel in row:  \n",
    "            if (cel.value in animal):\n",
    "                cel.value='animal'             \n",
    "    book.save(data_path)            \n"
   ]
  },
  {
   "cell_type": "code",
   "execution_count": 13,
   "id": "geological-effects",
   "metadata": {},
   "outputs": [],
   "source": [
    "for i in xls_files:\n",
    "    modify_create_xls(i)"
   ]
  },
  {
   "cell_type": "code",
   "execution_count": 138,
   "id": "sacred-merchandise",
   "metadata": {},
   "outputs": [],
   "source": []
  },
  {
   "cell_type": "code",
   "execution_count": 93,
   "id": "everyday-strike",
   "metadata": {},
   "outputs": [],
   "source": []
  },
  {
   "cell_type": "code",
   "execution_count": 105,
   "id": "adolescent-deadline",
   "metadata": {},
   "outputs": [],
   "source": []
  },
  {
   "cell_type": "code",
   "execution_count": 108,
   "id": "pretty-consumption",
   "metadata": {},
   "outputs": [],
   "source": []
  },
  {
   "cell_type": "code",
   "execution_count": null,
   "id": "rural-miller",
   "metadata": {},
   "outputs": [],
   "source": []
  },
  {
   "cell_type": "code",
   "execution_count": null,
   "id": "infrared-chick",
   "metadata": {},
   "outputs": [],
   "source": []
  },
  {
   "cell_type": "code",
   "execution_count": null,
   "id": "experienced-medicare",
   "metadata": {},
   "outputs": [],
   "source": []
  }
 ],
 "metadata": {
  "kernelspec": {
   "display_name": "Python 3",
   "language": "python",
   "name": "python3"
  },
  "language_info": {
   "codemirror_mode": {
    "name": "ipython",
    "version": 3
   },
   "file_extension": ".py",
   "mimetype": "text/x-python",
   "name": "python",
   "nbconvert_exporter": "python",
   "pygments_lexer": "ipython3",
   "version": "3.7.1"
  }
 },
 "nbformat": 4,
 "nbformat_minor": 5
}
