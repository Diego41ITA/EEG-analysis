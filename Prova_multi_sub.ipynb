{
 "cells": [
  {
   "cell_type": "code",
   "execution_count": 2,
   "id": "portuguese-texture",
   "metadata": {},
   "outputs": [],
   "source": [
    "import mne \n",
    "from glob import glob \n",
    "import os"
   ]
  },
  {
   "cell_type": "code",
   "execution_count": 3,
   "id": "antique-alexander",
   "metadata": {},
   "outputs": [],
   "source": [
    "matplotlib.use('Qt5Agg') "
   ]
  },
  {
   "cell_type": "code",
   "execution_count": 4,
   "id": "surgical-wallpaper",
   "metadata": {},
   "outputs": [
    {
     "name": "stdout",
     "output_type": "stream",
     "text": [
      "2\n"
     ]
    }
   ],
   "source": [
    "#quanti soggetti ho nella mia cartella?\n",
    "subs_file_path=glob(\"D:\\DATASET PRINCIPALE\\Cartella con file EEG primi 2 subjects/*.vhdr\")\n",
    "print(len(subs_file_path))"
   ]
  },
  {
   "cell_type": "code",
   "execution_count": 6,
   "id": "amber-cause",
   "metadata": {},
   "outputs": [],
   "source": [
    "#Creo la funzione che legge e processa i dati \n",
    "def prep_data(file_path):\n",
    "    data= mne.io.read_raw_brainvision(file_path, preload=True)\n",
    "    data.set_eeg_reference();\n",
    "    data.filter(l_freq=0.1,h_freq=100)\n",
    "    data.resample(250)\n",
    "    return data"
   ]
  },
  {
   "cell_type": "code",
   "execution_count": 7,
   "id": "statewide-quebec",
   "metadata": {},
   "outputs": [
    {
     "name": "stdout",
     "output_type": "stream",
     "text": [
      "Extracting parameters from D:\\DATASET PRINCIPALE\\Cartella con file EEG primi 2 subjects\\sub-01_task-rsvp_eeg.vhdr...\n",
      "Setting channel info structure...\n",
      "Reading 0 ... 3035739  =      0.000 ...  3035.739 secs...\n",
      "EEG channel type selected for re-referencing\n",
      "Applying average reference.\n",
      "Applying a custom EEG reference.\n",
      "Filtering raw data in 1 contiguous segment\n",
      "Setting up band-pass filter from 0.1 - 1e+02 Hz\n",
      "\n",
      "FIR filter parameters\n",
      "---------------------\n",
      "Designing a one-pass, zero-phase, non-causal bandpass filter:\n",
      "- Windowed time-domain design (firwin) method\n",
      "- Hamming window with 0.0194 passband ripple and 53 dB stopband attenuation\n",
      "- Lower passband edge: 0.10\n",
      "- Lower transition bandwidth: 0.10 Hz (-6 dB cutoff frequency: 0.05 Hz)\n",
      "- Upper passband edge: 100.00 Hz\n",
      "- Upper transition bandwidth: 25.00 Hz (-6 dB cutoff frequency: 112.50 Hz)\n",
      "- Filter length: 33001 samples (33.001 sec)\n",
      "\n",
      "Extracting parameters from D:\\DATASET PRINCIPALE\\Cartella con file EEG primi 2 subjects\\sub-02_task-rsvp_eeg.vhdr...\n",
      "Setting channel info structure...\n",
      "Reading 0 ... 3227279  =      0.000 ...  3227.279 secs...\n",
      "EEG channel type selected for re-referencing\n",
      "Applying average reference.\n",
      "Applying a custom EEG reference.\n",
      "Filtering raw data in 1 contiguous segment\n",
      "Setting up band-pass filter from 0.1 - 1e+02 Hz\n",
      "\n",
      "FIR filter parameters\n",
      "---------------------\n",
      "Designing a one-pass, zero-phase, non-causal bandpass filter:\n",
      "- Windowed time-domain design (firwin) method\n",
      "- Hamming window with 0.0194 passband ripple and 53 dB stopband attenuation\n",
      "- Lower passband edge: 0.10\n",
      "- Lower transition bandwidth: 0.10 Hz (-6 dB cutoff frequency: 0.05 Hz)\n",
      "- Upper passband edge: 100.00 Hz\n",
      "- Upper transition bandwidth: 25.00 Hz (-6 dB cutoff frequency: 112.50 Hz)\n",
      "- Filter length: 33001 samples (33.001 sec)\n",
      "\n"
     ]
    }
   ],
   "source": [
    "#eseguo il preprocessing di tutti i soggetti\n",
    "prep_data_sub_vector=[prep_data(i)for i in subs_file_path]"
   ]
  },
  {
   "cell_type": "code",
   "execution_count": null,
   "id": "initial-stevens",
   "metadata": {},
   "outputs": [],
   "source": [
    "\n"
   ]
  },
  {
   "cell_type": "code",
   "execution_count": null,
   "id": "smaller-coach",
   "metadata": {},
   "outputs": [],
   "source": []
  },
  {
   "cell_type": "code",
   "execution_count": null,
   "id": "sporting-stack",
   "metadata": {},
   "outputs": [],
   "source": []
  },
  {
   "cell_type": "code",
   "execution_count": null,
   "id": "speaking-factor",
   "metadata": {},
   "outputs": [],
   "source": []
  },
  {
   "cell_type": "code",
   "execution_count": null,
   "id": "endless-berlin",
   "metadata": {},
   "outputs": [],
   "source": []
  },
  {
   "cell_type": "code",
   "execution_count": null,
   "id": "incoming-photographer",
   "metadata": {},
   "outputs": [],
   "source": []
  },
  {
   "cell_type": "raw",
   "id": "ranking-interest",
   "metadata": {},
   "source": []
  },
  {
   "cell_type": "code",
   "execution_count": 9,
   "id": "wicked-booking",
   "metadata": {},
   "outputs": [
    {
     "name": "stderr",
     "output_type": "stream",
     "text": [
      "<ipython-input-9-1783480f1922>:1: DeprecationWarning: Version 0.23 introduced max_iter=\"auto\", setting max_iter=1000 for `fastica` and max_iter=500 for `infomax` and `picard`. The current default of max_iter=200 will be changed to \"auto\" in version 0.24.\n",
      "  ica=mne.preprocessing.ICA(n_components=30,random_state=0, method='fastica')\n"
     ]
    }
   ],
   "source": [
    "ica=mne.preprocessing.ICA(n_components=30,random_state=0, method='fastica')"
   ]
  },
  {
   "cell_type": "code",
   "execution_count": null,
   "id": "legendary-nurse",
   "metadata": {},
   "outputs": [],
   "source": []
  },
  {
   "cell_type": "code",
   "execution_count": 11,
   "id": "young-florist",
   "metadata": {},
   "outputs": [
    {
     "name": "stdout",
     "output_type": "stream",
     "text": [
      "Channels marked as bad: none\n"
     ]
    },
    {
     "data": {
      "text/plain": [
       "[<MNEFigure size 1950x1784 with 20 Axes>,\n",
       " <MNEFigure size 1950x992 with 10 Axes>]"
      ]
     },
     "execution_count": 11,
     "metadata": {},
     "output_type": "execute_result"
    }
   ],
   "source": [
    "ica.plot_components(outlines=\"skirt\")"
   ]
  },
  {
   "cell_type": "code",
   "execution_count": null,
   "id": "spectacular-child",
   "metadata": {},
   "outputs": [],
   "source": []
  },
  {
   "cell_type": "code",
   "execution_count": null,
   "id": "backed-emperor",
   "metadata": {},
   "outputs": [],
   "source": []
  },
  {
   "cell_type": "code",
   "execution_count": null,
   "id": "advisory-focus",
   "metadata": {},
   "outputs": [],
   "source": []
  },
  {
   "cell_type": "raw",
   "id": "refined-sound",
   "metadata": {},
   "source": []
  },
  {
   "cell_type": "code",
   "execution_count": null,
   "id": "informational-tunisia",
   "metadata": {},
   "outputs": [],
   "source": []
  },
  {
   "cell_type": "code",
   "execution_count": null,
   "id": "paperback-height",
   "metadata": {},
   "outputs": [],
   "source": []
  },
  {
   "cell_type": "code",
   "execution_count": null,
   "id": "wicked-canal",
   "metadata": {},
   "outputs": [],
   "source": []
  },
  {
   "cell_type": "code",
   "execution_count": null,
   "id": "classical-found",
   "metadata": {},
   "outputs": [],
   "source": []
  },
  {
   "cell_type": "code",
   "execution_count": null,
   "id": "concrete-mandate",
   "metadata": {},
   "outputs": [],
   "source": []
  },
  {
   "cell_type": "code",
   "execution_count": 10,
   "id": "studied-weight",
   "metadata": {},
   "outputs": [
    {
     "data": {
      "text/plain": [
       "(283, 63, 1011)"
      ]
     },
     "execution_count": 10,
     "metadata": {},
     "output_type": "execute_result"
    }
   ],
   "source": [
    "array.shape #nepochs,nchannel, n_time_points"
   ]
  },
  {
   "cell_type": "code",
   "execution_count": 11,
   "id": "handled-adobe",
   "metadata": {},
   "outputs": [],
   "source": [
    "from kymatio.numpy import Scattering1D\n",
    "from kymatio.datasets import fetch_fsdd"
   ]
  },
  {
   "cell_type": "code",
   "execution_count": 12,
   "id": "continued-benchmark",
   "metadata": {},
   "outputs": [],
   "source": [
    "x=array[1,1,:]"
   ]
  },
  {
   "cell_type": "code",
   "execution_count": 14,
   "id": "remarkable-galaxy",
   "metadata": {},
   "outputs": [],
   "source": [
    "# Once the recording is in memory, we normalize it.\n",
    "import numpy as np\n",
    "x = x / np.max(np.abs(x))"
   ]
  },
  {
   "cell_type": "code",
   "execution_count": 15,
   "id": "induced-animation",
   "metadata": {},
   "outputs": [],
   "source": [
    "T = x.shape[-1]\n",
    "J = 6\n",
    "Q = 16"
   ]
  },
  {
   "cell_type": "code",
   "execution_count": 16,
   "id": "right-conservation",
   "metadata": {},
   "outputs": [],
   "source": [
    "scattering = Scattering1D(J, T, Q)"
   ]
  },
  {
   "cell_type": "code",
   "execution_count": 17,
   "id": "differential-client",
   "metadata": {},
   "outputs": [],
   "source": [
    "Sx = scattering(x)"
   ]
  },
  {
   "cell_type": "code",
   "execution_count": 18,
   "id": "coordinated-adelaide",
   "metadata": {},
   "outputs": [],
   "source": [
    "meta = scattering.meta()\n",
    "order0 = np.where(meta['order'] == 0)\n",
    "order1 = np.where(meta['order'] == 1)\n",
    "order2 = np.where(meta['order'] == 2)"
   ]
  },
  {
   "cell_type": "code",
   "execution_count": 26,
   "id": "promotional-fleece",
   "metadata": {},
   "outputs": [],
   "source": [
    "import matplotlib.pyplot as plt\n"
   ]
  },
  {
   "cell_type": "code",
   "execution_count": 24,
   "id": "extraordinary-measure",
   "metadata": {},
   "outputs": [],
   "source": []
  },
  {
   "cell_type": "code",
   "execution_count": 27,
   "id": "nervous-thought",
   "metadata": {},
   "outputs": [],
   "source": [
    "plt.figure(figsize=(8, 2))\n",
    "plt.plot(x)\n",
    "plt.title('Original signal')\n",
    "\n",
    "plt.figure(figsize=(8, 8))\n",
    "plt.subplot(3, 1, 1)\n",
    "plt.plot(Sx[order0][0])\n",
    "plt.title('Zeroth-order scattering')\n",
    "\n",
    "\n",
    "plt.subplot(3, 1, 2)\n",
    "plt.imshow(Sx[order1], aspect='auto')\n",
    "plt.title('First-order scattering')\n",
    "\n",
    "\n",
    "plt.subplot(3, 1, 3)\n",
    "plt.imshow(Sx[order2], aspect='auto')\n",
    "plt.title('Second-order scattering')\n",
    "\n",
    "plt.show()"
   ]
  },
  {
   "cell_type": "raw",
   "id": "hawaiian-owner",
   "metadata": {},
   "source": []
  }
 ],
 "metadata": {
  "kernelspec": {
   "display_name": "Python 3",
   "language": "python",
   "name": "python3"
  },
  "language_info": {
   "codemirror_mode": {
    "name": "ipython",
    "version": 3
   },
   "file_extension": ".py",
   "mimetype": "text/x-python",
   "name": "python",
   "nbconvert_exporter": "python",
   "pygments_lexer": "ipython3",
   "version": "3.7.1"
  }
 },
 "nbformat": 4,
 "nbformat_minor": 5
}
