{
 "cells": [
  {
   "cell_type": "code",
   "execution_count": 35,
   "id": "portuguese-texture",
   "metadata": {},
   "outputs": [],
   "source": [
    "import mne \n",
    "from glob import glob \n",
    "import os\n",
    "import matplotlib\n",
    "from openpyxl import load_workbook\n",
    "import numpy as np"
   ]
  },
  {
   "cell_type": "code",
   "execution_count": 36,
   "id": "antique-alexander",
   "metadata": {},
   "outputs": [],
   "source": [
    "matplotlib.use('Qt5Agg') "
   ]
  },
  {
   "cell_type": "code",
   "execution_count": 37,
   "id": "surgical-wallpaper",
   "metadata": {},
   "outputs": [
    {
     "name": "stdout",
     "output_type": "stream",
     "text": [
      "2\n"
     ]
    }
   ],
   "source": [
    "#quanti soggetti ho nella mia cartella?\n",
    "subs_file_path=glob(\"..\\..\\DATASET PRINCIPALE\\CartellaEEG/*.vhdr\")\n",
    "print(len(subs_file_path))"
   ]
  },
  {
   "cell_type": "code",
   "execution_count": 38,
   "id": "laughing-luther",
   "metadata": {},
   "outputs": [
    {
     "name": "stdout",
     "output_type": "stream",
     "text": [
      "2\n"
     ]
    }
   ],
   "source": [
    "#creo vettore file excel---- !ATTENZIONE FAR RUNNARE IL FILE EXCEL.YPTR per aggiustare gli excel\n",
    "excel_file_path=glob(\"..\\..\\DATASET PRINCIPALE\\Cartellaexcel/*.xlsx\")\n",
    "print(len(excel_file_path))"
   ]
  },
  {
   "cell_type": "code",
   "execution_count": 39,
   "id": "amber-cause",
   "metadata": {},
   "outputs": [],
   "source": [
    "#Creo la funzione che legge e processa i dati \n",
    "def prep_data(file_path):\n",
    "    data= mne.io.read_raw_brainvision(file_path, preload=True)\n",
    "    data.set_eeg_reference();\n",
    "    data.notch_filter(np.arange(50,100,50), filter_length='auto',phase='zero')\n",
    "    data.notch_filter(np.arange(20,40,20), filter_length='auto',phase='zero')\n",
    "    data.notch_filter(np.arange(10,20,10), filter_length='auto',phase='zero')\n",
    "    data.filter(l_freq=0.1,h_freq=100)\n",
    "    data.resample(250)\n",
    "    return data\n",
    "\n",
    "#Creo la funzione che estrae la matrice delle annotazioni dai file excel \n",
    "def get_vectors(data_path):\n",
    "\n",
    "    book=load_workbook(data_path)\n",
    "    sheet=book.active\n",
    "    \n",
    "    #onset\n",
    "    onset=[]\n",
    "    for row in sheet['a2':'a22249']:\n",
    "        for cel in row:\n",
    "               onset.append(cel.value)\n",
    "                \n",
    "    onset=np.array(onset)\n",
    "    onset=onset*0.001\n",
    "    \n",
    "    #duration \n",
    "    duration=np.ones((22248,), dtype=int)*0.01\n",
    "    \n",
    "    #description \n",
    "    animal=['animal']\n",
    "    description=[]\n",
    "    for row in sheet ['e2':'e22249']:\n",
    "        for cel in row:\n",
    "            if(cel.value in animal):\n",
    "                description.append(cel.value)\n",
    "            else: \n",
    "                description.append('E 1')\n",
    "    return [onset, duration, description] \n",
    "\n",
    "#creo la funzione che applica le annotazioni \n",
    "def fix_events(data_vector, matrix):\n",
    "    myannot=[mne.Annotations(onset=matrix[0][0], duration=matrix[0][1],description=matrix[0][2])for i in range(len(excel_file_path))]\n",
    "    for i in range(len(excel_file_path)):\n",
    "        data_vector[i].set_annotations(myannot[i])\n",
    "    \n",
    "    return data_vector"
   ]
  },
  {
   "cell_type": "code",
   "execution_count": 40,
   "id": "4ccd08c3",
   "metadata": {},
   "outputs": [
    {
     "name": "stdout",
     "output_type": "stream",
     "text": [
      "Extracting parameters from ..\\..\\DATASET PRINCIPALE\\CartellaEEG\\sub-01_task-rsvp_eeg.vhdr...\n",
      "Setting channel info structure...\n",
      "Reading 0 ... 3035739  =      0.000 ...  3035.739 secs...\n",
      "EEG channel type selected for re-referencing\n",
      "Applying average reference.\n",
      "Applying a custom EEG reference.\n",
      "Setting up band-stop filter from 49 - 51 Hz\n",
      "\n",
      "FIR filter parameters\n",
      "---------------------\n",
      "Designing a one-pass, zero-phase, non-causal bandstop filter:\n",
      "- Windowed time-domain design (firwin) method\n",
      "- Hamming window with 0.0194 passband ripple and 53 dB stopband attenuation\n",
      "- Lower passband edge: 49.38\n",
      "- Lower transition bandwidth: 0.50 Hz (-6 dB cutoff frequency: 49.12 Hz)\n",
      "- Upper passband edge: 50.62 Hz\n",
      "- Upper transition bandwidth: 0.50 Hz (-6 dB cutoff frequency: 50.88 Hz)\n",
      "- Filter length: 6601 samples (6.601 sec)\n",
      "\n",
      "Setting up band-stop filter from 19 - 21 Hz\n",
      "\n",
      "FIR filter parameters\n",
      "---------------------\n",
      "Designing a one-pass, zero-phase, non-causal bandstop filter:\n",
      "- Windowed time-domain design (firwin) method\n",
      "- Hamming window with 0.0194 passband ripple and 53 dB stopband attenuation\n",
      "- Lower passband edge: 19.45\n",
      "- Lower transition bandwidth: 0.50 Hz (-6 dB cutoff frequency: 19.20 Hz)\n",
      "- Upper passband edge: 20.55 Hz\n",
      "- Upper transition bandwidth: 0.50 Hz (-6 dB cutoff frequency: 20.80 Hz)\n",
      "- Filter length: 6601 samples (6.601 sec)\n",
      "\n",
      "Setting up band-stop filter from 9.5 - 11 Hz\n",
      "\n",
      "FIR filter parameters\n",
      "---------------------\n",
      "Designing a one-pass, zero-phase, non-causal bandstop filter:\n",
      "- Windowed time-domain design (firwin) method\n",
      "- Hamming window with 0.0194 passband ripple and 53 dB stopband attenuation\n",
      "- Lower passband edge: 9.47\n",
      "- Lower transition bandwidth: 0.50 Hz (-6 dB cutoff frequency: 9.22 Hz)\n",
      "- Upper passband edge: 10.53 Hz\n",
      "- Upper transition bandwidth: 0.50 Hz (-6 dB cutoff frequency: 10.78 Hz)\n",
      "- Filter length: 6601 samples (6.601 sec)\n",
      "\n",
      "Filtering raw data in 1 contiguous segment\n",
      "Setting up band-pass filter from 0.1 - 1e+02 Hz\n",
      "\n",
      "FIR filter parameters\n",
      "---------------------\n",
      "Designing a one-pass, zero-phase, non-causal bandpass filter:\n",
      "- Windowed time-domain design (firwin) method\n",
      "- Hamming window with 0.0194 passband ripple and 53 dB stopband attenuation\n",
      "- Lower passband edge: 0.10\n",
      "- Lower transition bandwidth: 0.10 Hz (-6 dB cutoff frequency: 0.05 Hz)\n",
      "- Upper passband edge: 100.00 Hz\n",
      "- Upper transition bandwidth: 25.00 Hz (-6 dB cutoff frequency: 112.50 Hz)\n",
      "- Filter length: 33001 samples (33.001 sec)\n",
      "\n",
      "Extracting parameters from ..\\..\\DATASET PRINCIPALE\\CartellaEEG\\sub-02_task-rsvp_eeg.vhdr...\n",
      "Setting channel info structure...\n",
      "Reading 0 ... 3227279  =      0.000 ...  3227.279 secs...\n",
      "EEG channel type selected for re-referencing\n",
      "Applying average reference.\n",
      "Applying a custom EEG reference.\n",
      "Setting up band-stop filter from 49 - 51 Hz\n",
      "\n",
      "FIR filter parameters\n",
      "---------------------\n",
      "Designing a one-pass, zero-phase, non-causal bandstop filter:\n",
      "- Windowed time-domain design (firwin) method\n",
      "- Hamming window with 0.0194 passband ripple and 53 dB stopband attenuation\n",
      "- Lower passband edge: 49.38\n",
      "- Lower transition bandwidth: 0.50 Hz (-6 dB cutoff frequency: 49.12 Hz)\n",
      "- Upper passband edge: 50.62 Hz\n",
      "- Upper transition bandwidth: 0.50 Hz (-6 dB cutoff frequency: 50.88 Hz)\n",
      "- Filter length: 6601 samples (6.601 sec)\n",
      "\n",
      "Setting up band-stop filter from 19 - 21 Hz\n",
      "\n",
      "FIR filter parameters\n",
      "---------------------\n",
      "Designing a one-pass, zero-phase, non-causal bandstop filter:\n",
      "- Windowed time-domain design (firwin) method\n",
      "- Hamming window with 0.0194 passband ripple and 53 dB stopband attenuation\n",
      "- Lower passband edge: 19.45\n",
      "- Lower transition bandwidth: 0.50 Hz (-6 dB cutoff frequency: 19.20 Hz)\n",
      "- Upper passband edge: 20.55 Hz\n",
      "- Upper transition bandwidth: 0.50 Hz (-6 dB cutoff frequency: 20.80 Hz)\n",
      "- Filter length: 6601 samples (6.601 sec)\n",
      "\n",
      "Setting up band-stop filter from 9.5 - 11 Hz\n",
      "\n",
      "FIR filter parameters\n",
      "---------------------\n",
      "Designing a one-pass, zero-phase, non-causal bandstop filter:\n",
      "- Windowed time-domain design (firwin) method\n",
      "- Hamming window with 0.0194 passband ripple and 53 dB stopband attenuation\n",
      "- Lower passband edge: 9.47\n",
      "- Lower transition bandwidth: 0.50 Hz (-6 dB cutoff frequency: 9.22 Hz)\n",
      "- Upper passband edge: 10.53 Hz\n",
      "- Upper transition bandwidth: 0.50 Hz (-6 dB cutoff frequency: 10.78 Hz)\n",
      "- Filter length: 6601 samples (6.601 sec)\n",
      "\n",
      "Filtering raw data in 1 contiguous segment\n",
      "Setting up band-pass filter from 0.1 - 1e+02 Hz\n",
      "\n",
      "FIR filter parameters\n",
      "---------------------\n",
      "Designing a one-pass, zero-phase, non-causal bandpass filter:\n",
      "- Windowed time-domain design (firwin) method\n",
      "- Hamming window with 0.0194 passband ripple and 53 dB stopband attenuation\n",
      "- Lower passband edge: 0.10\n",
      "- Lower transition bandwidth: 0.10 Hz (-6 dB cutoff frequency: 0.05 Hz)\n",
      "- Upper passband edge: 100.00 Hz\n",
      "- Upper transition bandwidth: 25.00 Hz (-6 dB cutoff frequency: 112.50 Hz)\n",
      "- Filter length: 33001 samples (33.001 sec)\n",
      "\n"
     ]
    }
   ],
   "source": [
    "#funzione preprocessing\n",
    "prep_data_sub_vector= [prep_data(i)for i in subs_file_path]"
   ]
  },
  {
   "cell_type": "code",
   "execution_count": 41,
   "id": "similar-rover",
   "metadata": {},
   "outputs": [],
   "source": [
    "#estraggo la matrice delle annotazioni \n",
    "matrix=[]\n",
    "for i in range(len(excel_file_path)):\n",
    "    matrix=[get_vectors(i)for i in excel_file_path]"
   ]
  },
  {
   "cell_type": "code",
   "execution_count": 42,
   "id": "f441a9b2",
   "metadata": {},
   "outputs": [],
   "source": [
    "data_vector_ok= fix_events(prep_data_sub_vector, matrix)"
   ]
  },
  {
   "cell_type": "code",
   "execution_count": 43,
   "id": "average-gossip",
   "metadata": {},
   "outputs": [
    {
     "name": "stdout",
     "output_type": "stream",
     "text": [
      "Filtering raw data in 1 contiguous segment\n",
      "Setting up band-pass filter from 0.1 - 35 Hz\n",
      "\n",
      "FIR filter parameters\n",
      "---------------------\n",
      "Designing a one-pass, zero-phase, non-causal bandpass filter:\n",
      "- Windowed time-domain design (firwin) method\n",
      "- Hamming window with 0.0194 passband ripple and 53 dB stopband attenuation\n",
      "- Lower passband edge: 0.10\n",
      "- Lower transition bandwidth: 0.10 Hz (-6 dB cutoff frequency: 0.05 Hz)\n",
      "- Upper passband edge: 35.00 Hz\n",
      "- Upper transition bandwidth: 8.75 Hz (-6 dB cutoff frequency: 39.38 Hz)\n",
      "- Filter length: 8251 samples (33.004 sec)\n",
      "\n",
      "Fitting ICA to data using 63 channels (please be patient, this may take a while)\n",
      "Selecting by number: 30 components\n",
      "Fitting ICA took 141.5s.\n",
      "Using EOG channels: Fp1, Fp2\n",
      "... filtering ICA sources\n",
      "Setting up band-pass filter from 1 - 10 Hz\n",
      "\n",
      "FIR filter parameters\n",
      "---------------------\n",
      "Designing a two-pass forward and reverse, zero-phase, non-causal bandpass filter:\n",
      "- Windowed frequency-domain design (firwin2) method\n",
      "- Hann window\n",
      "- Lower passband edge: 1.00\n",
      "- Lower transition bandwidth: 0.50 Hz (-12 dB cutoff frequency: 0.75 Hz)\n",
      "- Upper passband edge: 10.00 Hz\n",
      "- Upper transition bandwidth: 0.50 Hz (-12 dB cutoff frequency: 10.25 Hz)\n",
      "- Filter length: 2500 samples (10.000 sec)\n",
      "\n",
      "... filtering target\n",
      "Setting up band-pass filter from 1 - 10 Hz\n",
      "\n",
      "FIR filter parameters\n",
      "---------------------\n",
      "Designing a two-pass forward and reverse, zero-phase, non-causal bandpass filter:\n",
      "- Windowed frequency-domain design (firwin2) method\n",
      "- Hann window\n",
      "- Lower passband edge: 1.00\n",
      "- Lower transition bandwidth: 0.50 Hz (-12 dB cutoff frequency: 0.75 Hz)\n",
      "- Upper passband edge: 10.00 Hz\n",
      "- Upper transition bandwidth: 0.50 Hz (-12 dB cutoff frequency: 10.25 Hz)\n",
      "- Filter length: 2500 samples (10.000 sec)\n",
      "\n",
      "... filtering ICA sources\n",
      "Setting up band-pass filter from 1 - 10 Hz\n",
      "\n",
      "FIR filter parameters\n",
      "---------------------\n",
      "Designing a two-pass forward and reverse, zero-phase, non-causal bandpass filter:\n",
      "- Windowed frequency-domain design (firwin2) method\n",
      "- Hann window\n",
      "- Lower passband edge: 1.00\n",
      "- Lower transition bandwidth: 0.50 Hz (-12 dB cutoff frequency: 0.75 Hz)\n",
      "- Upper passband edge: 10.00 Hz\n",
      "- Upper transition bandwidth: 0.50 Hz (-12 dB cutoff frequency: 10.25 Hz)\n",
      "- Filter length: 2500 samples (10.000 sec)\n",
      "\n",
      "... filtering target\n",
      "Setting up band-pass filter from 1 - 10 Hz\n",
      "\n",
      "FIR filter parameters\n",
      "---------------------\n",
      "Designing a two-pass forward and reverse, zero-phase, non-causal bandpass filter:\n",
      "- Windowed frequency-domain design (firwin2) method\n",
      "- Hann window\n",
      "- Lower passband edge: 1.00\n",
      "- Lower transition bandwidth: 0.50 Hz (-12 dB cutoff frequency: 0.75 Hz)\n",
      "- Upper passband edge: 10.00 Hz\n",
      "- Upper transition bandwidth: 0.50 Hz (-12 dB cutoff frequency: 10.25 Hz)\n",
      "- Filter length: 2500 samples (10.000 sec)\n",
      "\n",
      "Applying ICA to Raw instance\n",
      "    Transforming to ICA space (30 components)\n",
      "    Zeroing out 4 ICA components\n",
      "    Projecting back using 63 PCA components\n"
     ]
    }
   ],
   "source": [
    "#ICA\n",
    "#applico la ica per visualizzare i picchi di potenza da rimuovere\n",
    "ica = mne.preprocessing.ICA(n_components=30, max_iter=1000,random_state=0)\n",
    "ica.fit(data_vector_ok[0].filter(0.1, 35))\n",
    "#ica.plot_components(outlines=\"skirt\")\n",
    "bad_idx, scores=ica.find_bads_eog(data_vector_ok[0],ch_name=['Fp1','Fp2'],threshold=1)\n",
    "ica.exclude=bad_idx\n",
    "data_vector_ok[0]=ica.apply(data_vector_ok[0], exclude=ica.exclude)"
   ]
  },
  {
   "cell_type": "code",
   "execution_count": null,
   "id": "increasing-utilization",
   "metadata": {},
   "outputs": [],
   "source": [
    "###################################################################################################################"
   ]
  },
  {
   "cell_type": "code",
   "execution_count": 93,
   "id": "editorial-dynamics",
   "metadata": {},
   "outputs": [
    {
     "data": {
      "text/plain": [
       "<MNEBrowseFigure size 1364x1668 with 4 Axes>"
      ]
     },
     "execution_count": 93,
     "metadata": {},
     "output_type": "execute_result"
    },
    {
     "name": "stdout",
     "output_type": "stream",
     "text": [
      "Channels marked as bad: ['Fp1', 'Fz', 'TP9', 'AF3', 'AF7', 'AFz', 'Fp2', 'F4', 'F8', 'FC2', 'FC6', 'FT10', 'F5', 'F1', 'FT7', 'FC3', 'FT8', 'F6', 'AF8', 'F2', 'FCz']\n"
     ]
    }
   ],
   "source": [
    "#TOLGO A MANO DEI CANALI CHE POSSONO ESSERE DISTURBANTI \n",
    "data_vector_ok[0].plot_sensors()\n",
    "((data_vector_ok[0].copy()).crop(tmax=10)).plot()"
   ]
  },
  {
   "cell_type": "code",
   "execution_count": 89,
   "id": "surprised-breakdown",
   "metadata": {},
   "outputs": [],
   "source": [
    "data_vector_ok[0].info['bads']=['Fp1', 'Fz', 'TP9', 'AF3', 'AF7', 'AFz', 'Fp2', 'F4', 'F8', 'FC2', 'FC6', 'FT10', 'F5', 'F1', 'FT7', 'FC3', 'FT8', 'F6', 'AF8', 'F2', 'FCz']"
   ]
  },
  {
   "cell_type": "code",
   "execution_count": 90,
   "id": "beginning-constant",
   "metadata": {},
   "outputs": [
    {
     "name": "stdout",
     "output_type": "stream",
     "text": [
      "Used Annotations descriptions: ['E 1', 'animal']\n",
      "Not setting metadata\n",
      "Not setting metadata\n",
      "22248 matching events found\n",
      "Setting baseline interval to [-0.1, 0.0] sec\n",
      "Applying baseline correction (mode: mean)\n",
      "0 projection items activated\n",
      "Loading data for 22248 events and 276 original time points ...\n",
      "0 bad epochs dropped\n",
      "    Rejecting  epoch based on EEG : ['F7']\n",
      "    Rejecting  epoch based on EEG : ['F7', 'P8']\n",
      "    Rejecting  epoch based on EEG : ['F3', 'F7', 'P8', 'TP10']\n",
      "    Rejecting  epoch based on EEG : ['F3', 'F7', 'TP10', 'AF4']\n",
      "    Rejecting  epoch based on EEG : ['F7', 'TP10', 'AF4']\n",
      "    Rejecting  epoch based on EEG : ['F7', 'TP10', 'AF4']\n",
      "    Rejecting  epoch based on EEG : ['F7', 'TP10', 'AF4']\n",
      "    Rejecting  epoch based on EEG : ['TP10']\n",
      "    Rejecting  epoch based on EEG : ['TP10']\n",
      "    Rejecting  epoch based on EEG : ['F7']\n",
      "    Rejecting  epoch based on EEG : ['F7']\n",
      "    Rejecting  epoch based on EEG : ['F7']\n",
      "    Rejecting  epoch based on EEG : ['F7']\n",
      "    Rejecting  epoch based on EEG : ['F7']\n",
      "    Rejecting  epoch based on EEG : ['F3', 'F7']\n",
      "    Rejecting  epoch based on EEG : ['F3', 'F7', 'P8', 'TP10', 'T8', 'TP8']\n",
      "    Rejecting  epoch based on EEG : ['F7', 'TP10']\n",
      "    Rejecting  epoch based on EEG : ['F3', 'F7', 'TP10']\n",
      "    Rejecting  epoch based on EEG : ['F3', 'F7', 'TP10']\n",
      "    Rejecting  epoch based on EEG : ['F7', 'TP10']\n",
      "    Rejecting  epoch based on EEG : ['F7', 'TP10']\n",
      "    Rejecting  epoch based on EEG : ['F7', 'TP10']\n",
      "    Rejecting  epoch based on EEG : ['TP10']\n",
      "    Rejecting  epoch based on EEG : ['TP10']\n",
      "    Rejecting  epoch based on EEG : ['AF4']\n",
      "    Rejecting  epoch based on EEG : ['AF4']\n",
      "    Rejecting  epoch based on EEG : ['AF4']\n",
      "    Rejecting  epoch based on EEG : ['AF4']\n",
      "    Rejecting  epoch based on EEG : ['AF4']\n",
      "    Rejecting  epoch based on EEG : ['AF4']\n",
      "    Rejecting  epoch based on EEG : ['AF4']\n",
      "    Rejecting  epoch based on EEG : ['F7']\n",
      "    Rejecting  epoch based on EEG : ['F7']\n",
      "    Rejecting  epoch based on EEG : ['F7', 'TP10']\n",
      "    Rejecting  epoch based on EEG : ['F7', 'TP10']\n",
      "    Rejecting  epoch based on EEG : ['F7', 'TP10']\n",
      "    Rejecting  epoch based on EEG : ['P8']\n",
      "    Rejecting  epoch based on EEG : ['AF4']\n",
      "    Rejecting  epoch based on EEG : ['AF4']\n",
      "    Rejecting  epoch based on EEG : ['AF4']\n",
      "    Rejecting  epoch based on EEG : ['AF4']\n",
      "    Rejecting  epoch based on EEG : ['AF4']\n",
      "    Rejecting  epoch based on EEG : ['AF4']\n",
      "    Rejecting  epoch based on EEG : ['TP10']\n",
      "    Rejecting  epoch based on EEG : ['F7', 'TP10']\n",
      "45 bad epochs dropped\n"
     ]
    },
    {
     "data": {
      "text/html": [
       "\n",
       "<table class=\"table table-hover\">\n",
       "    <tr>\n",
       "        <th>Number of events</th>\n",
       "        <td>22203</td>\n",
       "    </tr>\n",
       "    <tr>\n",
       "        <th>Events</th>\n",
       "        <td>10001: 20909<br>10002: 1294<br></td>\n",
       "    </tr>\n",
       "    <tr>\n",
       "        <th>Time range</th>\n",
       "        <td>-0.100 – 1.000 sec</td>\n",
       "    </tr>\n",
       "    <tr>\n",
       "        <th>Baseline</th>\n",
       "        <td>-0.100 – 0.000 sec</td>\n",
       "    </tr>\n",
       "</table>\n"
      ],
      "text/plain": [
       "<Epochs |  22203 events (all good), -0.1 - 1 sec, baseline -0.1 – 0 sec, ~2.88 GB, data loaded,\n",
       " '10001': 20909\n",
       " '10002': 1294>"
      ]
     },
     "execution_count": 90,
     "metadata": {},
     "output_type": "execute_result"
    }
   ],
   "source": [
    "events=mne.events_from_annotations(data_vector_ok[0])\n",
    "#EPOCHS \n",
    "tmin=-0.100 #partono 100 millisecondi prima di un evento \n",
    "tmax=1 #finiscon 1000 milli secondo dopo \n",
    "baseline=(None,0)\n",
    "epochs=mne.Epochs(data_vector_ok[0],events=events[0],tmin=tmin,tmax=tmax,baseline=baseline, preload=True,)\n",
    "\n",
    "#reject  bad epochs\n",
    "reject_criteria = dict(eeg=150e-6)\n",
    "flat_criteria = dict(eeg=1e-6)\n",
    "epochs.drop_bad(reject=reject_criteria, flat=flat_criteria)"
   ]
  },
  {
   "cell_type": "code",
   "execution_count": 92,
   "id": "quality-miami",
   "metadata": {},
   "outputs": [
    {
     "data": {
      "text/plain": [
       "<Figure size 1280x600 with 2 Axes>"
      ]
     },
     "execution_count": 92,
     "metadata": {},
     "output_type": "execute_result"
    }
   ],
   "source": [
    "animali=epochs['10002'].average()\n",
    "animali.plot(spatial_colors=True)"
   ]
  },
  {
   "cell_type": "code",
   "execution_count": 96,
   "id": "familiar-fishing",
   "metadata": {},
   "outputs": [
    {
     "name": "stdout",
     "output_type": "stream",
     "text": [
      "['left_ROI']\n",
      "Need more than one channel to make topography for eeg. Disabling interactivity.\n"
     ]
    },
    {
     "data": {
      "text/plain": [
       "<Figure size 1280x600 with 1 Axes>"
      ]
     },
     "execution_count": 96,
     "metadata": {},
     "output_type": "execute_result"
    }
   ],
   "source": [
    "roi_dict = dict(left_ROI=[46,45,16,17,48,49,18,47])\n",
    "roi_evoked = mne.channels.combine_channels(animali, roi_dict, method='mean')\n",
    "print(roi_evoked.info['ch_names'])\n",
    "roi_evoked.plot()"
   ]
  },
  {
   "cell_type": "code",
   "execution_count": null,
   "id": "retained-picture",
   "metadata": {},
   "outputs": [],
   "source": []
  },
  {
   "cell_type": "code",
   "execution_count": null,
   "id": "opponent-unknown",
   "metadata": {},
   "outputs": [],
   "source": []
  }
 ],
 "metadata": {
  "kernelspec": {
   "display_name": "Python 3",
   "language": "python",
   "name": "python3"
  },
  "language_info": {
   "codemirror_mode": {
    "name": "ipython",
    "version": 3
   },
   "file_extension": ".py",
   "mimetype": "text/x-python",
   "name": "python",
   "nbconvert_exporter": "python",
   "pygments_lexer": "ipython3",
   "version": "3.7.1"
  }
 },
 "nbformat": 4,
 "nbformat_minor": 5
}
