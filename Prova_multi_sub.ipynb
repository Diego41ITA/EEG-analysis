{
 "cells": [
  {
   "cell_type": "code",
   "execution_count": 80,
   "id": "portuguese-texture",
   "metadata": {},
   "outputs": [],
   "source": [
    "import mne \n",
    "from glob import glob \n",
    "import os\n",
    "import matplotlib\n",
    "from openpyxl import load_workbook\n",
    "import numpy as np"
   ]
  },
  {
   "cell_type": "code",
   "execution_count": 81,
   "id": "antique-alexander",
   "metadata": {},
   "outputs": [],
   "source": [
    "matplotlib.use('Qt5Agg') "
   ]
  },
  {
   "cell_type": "code",
   "execution_count": 82,
   "id": "surgical-wallpaper",
   "metadata": {},
   "outputs": [
    {
     "name": "stdout",
     "output_type": "stream",
     "text": [
      "2\n"
     ]
    }
   ],
   "source": [
    "#quanti soggetti ho nella mia cartella?\n",
    "subs_file_path=glob(\"..\\..\\DATASET PRINCIPALE\\CartellaEEG/*.vhdr\")\n",
    "print(len(subs_file_path))"
   ]
  },
  {
   "cell_type": "code",
   "execution_count": 83,
   "id": "laughing-luther",
   "metadata": {},
   "outputs": [
    {
     "name": "stdout",
     "output_type": "stream",
     "text": [
      "2\n"
     ]
    }
   ],
   "source": [
    "#creo vettore file excel---- !ATTENZIONE FAR RUNNARE IL FILE EXCEL.YPTR per aggiustare gli excel\n",
    "excel_file_path=glob(\"..\\..\\DATASET PRINCIPALE\\Cartellaexcel/*.xlsx\")\n",
    "print(len(excel_file_path))"
   ]
  },
  {
   "cell_type": "code",
   "execution_count": 96,
   "id": "amber-cause",
   "metadata": {},
   "outputs": [],
   "source": [
    "#Creo la funzione che legge e processa i dati \n",
    "def prep_data(file_path):\n",
    "    data= mne.io.read_raw_brainvision(file_path, preload=True)\n",
    "    data.set_eeg_reference();\n",
    "    data.notch_filter(np.arange(50,100,50), filter_length='auto',phase='zero')\n",
    "    data.notch_filter(np.arange(20,40,20), filter_length='auto',phase='zero')\n",
    "    data.notch_filter(np.arange(10,20,10), filter_length='auto',phase='zero')\n",
    "    data.filter(l_freq=0.1,h_freq=100)\n",
    "    data.resample(250)\n",
    "    return data\n",
    "\n",
    "#Creo la funzione che estrae la matrice delle annotazioni dai file excel \n",
    "def get_vectors(data_path):\n",
    "\n",
    "    book=load_workbook(data_path)\n",
    "    sheet=book.active\n",
    "    \n",
    "    #onset\n",
    "    onset=[]\n",
    "    for row in sheet['a2':'a22249']:\n",
    "        for cel in row:\n",
    "               onset.append(cel.value)\n",
    "                \n",
    "    onset=np.array(onset)\n",
    "    onset=onset*0.001\n",
    "    \n",
    "    #duration \n",
    "    duration=np.ones((22248,), dtype=int)*0.01\n",
    "    \n",
    "    #description \n",
    "    animal=['animal']\n",
    "    description=[]\n",
    "    for row in sheet ['e2':'e22249']:\n",
    "        for cel in row:\n",
    "            if(cel.value in animal):\n",
    "                description.append(cel.value)\n",
    "            else: \n",
    "                description.append('E 1')\n",
    "    return [onset, duration, description] \n",
    "\n",
    "#creo la funzione che applica le annotazioni \n",
    "def fix_events(data_vector, matrix):\n",
    "    myannot=[mne.Annotations(onset=matrix[0][0], duration=matrix[0][1],description=matrix[0][2])for i in range(len(excel_file_path))]\n",
    "    for i in range(len(excel_file_path)):\n",
    "        data_vector[i].set_annotations(myannot[i])\n",
    "    \n",
    "    return data_vector"
   ]
  },
  {
   "cell_type": "code",
   "execution_count": 97,
   "id": "4ccd08c3",
   "metadata": {},
   "outputs": [
    {
     "name": "stdout",
     "output_type": "stream",
     "text": [
      "Extracting parameters from ..\\..\\DATASET PRINCIPALE\\CartellaEEG\\sub-01_task-rsvp_eeg.vhdr...\n",
      "Setting channel info structure...\n",
      "Reading 0 ... 3035739  =      0.000 ...  3035.739 secs...\n",
      "EEG channel type selected for re-referencing\n",
      "Applying average reference.\n",
      "Applying a custom EEG reference.\n",
      "Setting up band-stop filter from 19 - 21 Hz\n",
      "\n",
      "FIR filter parameters\n",
      "---------------------\n",
      "Designing a one-pass, zero-phase, non-causal bandstop filter:\n",
      "- Windowed time-domain design (firwin) method\n",
      "- Hamming window with 0.0194 passband ripple and 53 dB stopband attenuation\n",
      "- Lower passband edge: 19.45\n",
      "- Lower transition bandwidth: 0.50 Hz (-6 dB cutoff frequency: 19.20 Hz)\n",
      "- Upper passband edge: 20.55 Hz\n",
      "- Upper transition bandwidth: 0.50 Hz (-6 dB cutoff frequency: 20.80 Hz)\n",
      "- Filter length: 6601 samples (6.601 sec)\n",
      "\n",
      "Setting up band-stop filter from 9.5 - 11 Hz\n",
      "\n",
      "FIR filter parameters\n",
      "---------------------\n",
      "Designing a one-pass, zero-phase, non-causal bandstop filter:\n",
      "- Windowed time-domain design (firwin) method\n",
      "- Hamming window with 0.0194 passband ripple and 53 dB stopband attenuation\n",
      "- Lower passband edge: 9.47\n",
      "- Lower transition bandwidth: 0.50 Hz (-6 dB cutoff frequency: 9.22 Hz)\n",
      "- Upper passband edge: 10.53 Hz\n",
      "- Upper transition bandwidth: 0.50 Hz (-6 dB cutoff frequency: 10.78 Hz)\n",
      "- Filter length: 6601 samples (6.601 sec)\n",
      "\n",
      "Filtering raw data in 1 contiguous segment\n",
      "Setting up band-pass filter from 0.1 - 50 Hz\n",
      "\n",
      "FIR filter parameters\n",
      "---------------------\n",
      "Designing a one-pass, zero-phase, non-causal bandpass filter:\n",
      "- Windowed time-domain design (firwin) method\n",
      "- Hamming window with 0.0194 passband ripple and 53 dB stopband attenuation\n",
      "- Lower passband edge: 0.10\n",
      "- Lower transition bandwidth: 0.10 Hz (-6 dB cutoff frequency: 0.05 Hz)\n",
      "- Upper passband edge: 50.00 Hz\n",
      "- Upper transition bandwidth: 12.50 Hz (-6 dB cutoff frequency: 56.25 Hz)\n",
      "- Filter length: 33001 samples (33.001 sec)\n",
      "\n",
      "Extracting parameters from ..\\..\\DATASET PRINCIPALE\\CartellaEEG\\sub-02_task-rsvp_eeg.vhdr...\n",
      "Setting channel info structure...\n",
      "Reading 0 ... 3227279  =      0.000 ...  3227.279 secs...\n",
      "EEG channel type selected for re-referencing\n",
      "Applying average reference.\n",
      "Applying a custom EEG reference.\n",
      "Setting up band-stop filter from 19 - 21 Hz\n",
      "\n",
      "FIR filter parameters\n",
      "---------------------\n",
      "Designing a one-pass, zero-phase, non-causal bandstop filter:\n",
      "- Windowed time-domain design (firwin) method\n",
      "- Hamming window with 0.0194 passband ripple and 53 dB stopband attenuation\n",
      "- Lower passband edge: 19.45\n",
      "- Lower transition bandwidth: 0.50 Hz (-6 dB cutoff frequency: 19.20 Hz)\n",
      "- Upper passband edge: 20.55 Hz\n",
      "- Upper transition bandwidth: 0.50 Hz (-6 dB cutoff frequency: 20.80 Hz)\n",
      "- Filter length: 6601 samples (6.601 sec)\n",
      "\n",
      "Setting up band-stop filter from 9.5 - 11 Hz\n",
      "\n",
      "FIR filter parameters\n",
      "---------------------\n",
      "Designing a one-pass, zero-phase, non-causal bandstop filter:\n",
      "- Windowed time-domain design (firwin) method\n",
      "- Hamming window with 0.0194 passband ripple and 53 dB stopband attenuation\n",
      "- Lower passband edge: 9.47\n",
      "- Lower transition bandwidth: 0.50 Hz (-6 dB cutoff frequency: 9.22 Hz)\n",
      "- Upper passband edge: 10.53 Hz\n",
      "- Upper transition bandwidth: 0.50 Hz (-6 dB cutoff frequency: 10.78 Hz)\n",
      "- Filter length: 6601 samples (6.601 sec)\n",
      "\n",
      "Filtering raw data in 1 contiguous segment\n",
      "Setting up band-pass filter from 0.1 - 50 Hz\n",
      "\n",
      "FIR filter parameters\n",
      "---------------------\n",
      "Designing a one-pass, zero-phase, non-causal bandpass filter:\n",
      "- Windowed time-domain design (firwin) method\n",
      "- Hamming window with 0.0194 passband ripple and 53 dB stopband attenuation\n",
      "- Lower passband edge: 0.10\n",
      "- Lower transition bandwidth: 0.10 Hz (-6 dB cutoff frequency: 0.05 Hz)\n",
      "- Upper passband edge: 50.00 Hz\n",
      "- Upper transition bandwidth: 12.50 Hz (-6 dB cutoff frequency: 56.25 Hz)\n",
      "- Filter length: 33001 samples (33.001 sec)\n",
      "\n"
     ]
    }
   ],
   "source": [
    "#funzione preprocessing\n",
    "prep_data_sub_vector= [prep_data(i)for i in subs_file_path]"
   ]
  },
  {
   "cell_type": "code",
   "execution_count": 98,
   "id": "similar-rover",
   "metadata": {},
   "outputs": [],
   "source": [
    "#estraggo la matrice delle annotazioni \n",
    "matrix=[]\n",
    "for i in range(len(excel_file_path)):\n",
    "    matrix=[get_vectors(i)for i in excel_file_path]"
   ]
  },
  {
   "cell_type": "code",
   "execution_count": 99,
   "id": "f441a9b2",
   "metadata": {},
   "outputs": [],
   "source": [
    "data_vector_ok= fix_events(prep_data_sub_vector, matrix)"
   ]
  },
  {
   "cell_type": "code",
   "execution_count": 100,
   "id": "average-gossip",
   "metadata": {},
   "outputs": [
    {
     "name": "stdout",
     "output_type": "stream",
     "text": [
      "Filtering raw data in 1 contiguous segment\n",
      "Setting up band-pass filter from 8 - 35 Hz\n",
      "\n",
      "FIR filter parameters\n",
      "---------------------\n",
      "Designing a one-pass, zero-phase, non-causal bandpass filter:\n",
      "- Windowed time-domain design (firwin) method\n",
      "- Hamming window with 0.0194 passband ripple and 53 dB stopband attenuation\n",
      "- Lower passband edge: 8.00\n",
      "- Lower transition bandwidth: 2.00 Hz (-6 dB cutoff frequency: 7.00 Hz)\n",
      "- Upper passband edge: 35.00 Hz\n",
      "- Upper transition bandwidth: 8.75 Hz (-6 dB cutoff frequency: 39.38 Hz)\n",
      "- Filter length: 413 samples (1.652 sec)\n",
      "\n"
     ]
    },
    {
     "name": "stderr",
     "output_type": "stream",
     "text": [
      "<ipython-input-100-9c9b70f80a6e>:4: DeprecationWarning: Version 0.23 introduced max_iter=\"auto\", setting max_iter=1000 for `fastica` and max_iter=500 for `infomax` and `picard`. The current default of max_iter=200 will be changed to \"auto\" in version 0.24.\n",
      "  ica = mne.preprocessing.ICA(n_components=20, random_state=0)\n"
     ]
    },
    {
     "name": "stdout",
     "output_type": "stream",
     "text": [
      "Fitting ICA to data using 63 channels (please be patient, this may take a while)\n",
      "Selecting by number: 20 components\n",
      "Fitting ICA took 15.3s.\n"
     ]
    },
    {
     "data": {
      "text/plain": [
       "[<MNEFigure size 1950x1784 with 20 Axes>]"
      ]
     },
     "execution_count": 100,
     "metadata": {},
     "output_type": "execute_result"
    }
   ],
   "source": [
    "#ICA\n",
    "\n",
    "#applico la ica per visualizzare i picchi di potenza da rimuovere\n",
    "ica = mne.preprocessing.ICA(n_components=20, random_state=0)\n",
    "ica.fit(data_vector_ok[0].filter(8, 35))\n",
    "ica.plot_components(outlines=\"skirt\")"
   ]
  },
  {
   "cell_type": "code",
   "execution_count": 101,
   "id": "experimental-evening",
   "metadata": {},
   "outputs": [],
   "source": [
    "#escludo le componenti di rumore (viste dal grafico plottato)!!!!CONTROLLARLE OGNI VOLTA \n",
    "ica.exclude = [0,2,3,4,5,7,8,9,10,11,14,16,18,19]\n"
   ]
  },
  {
   "cell_type": "code",
   "execution_count": 102,
   "id": "beginning-constant",
   "metadata": {},
   "outputs": [
    {
     "name": "stdout",
     "output_type": "stream",
     "text": [
      "Used Annotations descriptions: ['E 1', 'animal']\n",
      "Not setting metadata\n",
      "Not setting metadata\n",
      "22248 matching events found\n",
      "Setting baseline interval to [-0.1, 0.0] sec\n",
      "Applying baseline correction (mode: mean)\n",
      "0 projection items activated\n"
     ]
    }
   ],
   "source": [
    "events=mne.events_from_annotations(data_vector_ok[0])\n",
    "#EPOCHS \n",
    "tmin=-0.100 #partono 100 millisecondi prima di un evento \n",
    "tmax=1 #finiscon 1000 milli secondo dopo \n",
    "baseline=(None,0)\n",
    "epochs=mne.Epochs(data_vector_ok[0],events=events[0],tmin=tmin,tmax=tmax,baseline=baseline)"
   ]
  },
  {
   "cell_type": "code",
   "execution_count": 103,
   "id": "backed-toyota",
   "metadata": {},
   "outputs": [],
   "source": [
    "evoked_animali=epochs['10002'].average()\n",
    "evoked_altro=epochs['10001'].average()"
   ]
  },
  {
   "cell_type": "code",
   "execution_count": 104,
   "id": "interim-creation",
   "metadata": {},
   "outputs": [
    {
     "data": {
      "text/plain": [
       "<Figure size 2736x1616 with 2 Axes>"
      ]
     },
     "execution_count": 104,
     "metadata": {},
     "output_type": "execute_result"
    }
   ],
   "source": [
    "evoked_animali.plot(spatial_colors=True)\n",
    "evoked_altro.plot(spatial_colors=True)"
   ]
  },
  {
   "cell_type": "code",
   "execution_count": null,
   "id": "surprising-norwegian",
   "metadata": {},
   "outputs": [],
   "source": []
  }
 ],
 "metadata": {
  "kernelspec": {
   "display_name": "Python 3",
   "language": "python",
   "name": "python3"
  },
  "language_info": {
   "codemirror_mode": {
    "name": "ipython",
    "version": 3
   },
   "file_extension": ".py",
   "mimetype": "text/x-python",
   "name": "python",
   "nbconvert_exporter": "python",
   "pygments_lexer": "ipython3",
   "version": "3.7.1"
  }
 },
 "nbformat": 4,
 "nbformat_minor": 5
}
