{
 "cells": [
  {
   "cell_type": "code",
   "execution_count": 5,
   "id": "portuguese-texture",
   "metadata": {},
   "outputs": [],
   "source": [
    "import mne \n",
    "from glob import glob \n",
    "import os\n",
    "import matplotlib"
   ]
  },
  {
   "cell_type": "code",
   "execution_count": 6,
   "id": "antique-alexander",
   "metadata": {},
   "outputs": [],
   "source": [
    "matplotlib.use('Qt5Agg') "
   ]
  },
  {
   "cell_type": "code",
   "execution_count": 8,
   "id": "surgical-wallpaper",
   "metadata": {},
   "outputs": [
    {
     "name": "stdout",
     "output_type": "stream",
     "text": [
      "2\n"
     ]
    }
   ],
   "source": [
    "#quanti soggetti ho nella mia cartella?\n",
    "subs_file_path=glob(\"..\\..\\DATASET PRINCIPALE\\CartellaEEG/*.vhdr\")\n",
    "print(len(subs_file_path))"
   ]
  },
  {
   "cell_type": "code",
   "execution_count": 9,
   "id": "amber-cause",
   "metadata": {},
   "outputs": [],
   "source": [
    "#Creo la funzione che legge e processa i dati \n",
    "def prep_data(file_path):\n",
    "    data= mne.io.read_raw_brainvision(file_path, preload=True)\n",
    "    data.set_eeg_reference();\n",
    "    data.filter(l_freq=0.1,h_freq=100)\n",
    "    data.resample(250)\n",
    "    return data"
   ]
  },
  {
   "cell_type": "code",
   "execution_count": 11,
   "id": "4ccd08c3",
   "metadata": {},
   "outputs": [
    {
     "name": "stdout",
     "output_type": "stream",
     "text": [
      "Extracting parameters from ..\\..\\DATASET PRINCIPALE\\CartellaEEG\\sub-01_task-rsvp_eeg.vhdr...\n",
      "Setting channel info structure...\n",
      "Reading 0 ... 3035739  =      0.000 ...  3035.739 secs...\n",
      "EEG channel type selected for re-referencing\n",
      "Applying average reference.\n",
      "Applying a custom ('EEG',) reference.\n",
      "Filtering raw data in 1 contiguous segment\n",
      "Setting up band-pass filter from 0.1 - 1e+02 Hz\n",
      "\n",
      "FIR filter parameters\n",
      "---------------------\n",
      "Designing a one-pass, zero-phase, non-causal bandpass filter:\n",
      "- Windowed time-domain design (firwin) method\n",
      "- Hamming window with 0.0194 passband ripple and 53 dB stopband attenuation\n",
      "- Lower passband edge: 0.10\n",
      "- Lower transition bandwidth: 0.10 Hz (-6 dB cutoff frequency: 0.05 Hz)\n",
      "- Upper passband edge: 100.00 Hz\n",
      "- Upper transition bandwidth: 25.00 Hz (-6 dB cutoff frequency: 112.50 Hz)\n",
      "- Filter length: 33001 samples (33.001 sec)\n",
      "\n",
      "Extracting parameters from ..\\..\\DATASET PRINCIPALE\\CartellaEEG\\sub-02_task-rsvp_eeg.vhdr...\n",
      "Setting channel info structure...\n",
      "Reading 0 ... 3227279  =      0.000 ...  3227.279 secs...\n",
      "EEG channel type selected for re-referencing\n",
      "Applying average reference.\n",
      "Applying a custom ('EEG',) reference.\n",
      "Filtering raw data in 1 contiguous segment\n",
      "Setting up band-pass filter from 0.1 - 1e+02 Hz\n",
      "\n",
      "FIR filter parameters\n",
      "---------------------\n",
      "Designing a one-pass, zero-phase, non-causal bandpass filter:\n",
      "- Windowed time-domain design (firwin) method\n",
      "- Hamming window with 0.0194 passband ripple and 53 dB stopband attenuation\n",
      "- Lower passband edge: 0.10\n",
      "- Lower transition bandwidth: 0.10 Hz (-6 dB cutoff frequency: 0.05 Hz)\n",
      "- Upper passband edge: 100.00 Hz\n",
      "- Upper transition bandwidth: 25.00 Hz (-6 dB cutoff frequency: 112.50 Hz)\n",
      "- Filter length: 33001 samples (33.001 sec)\n",
      "\n"
     ]
    }
   ],
   "source": [
    "#funzione preprocessing\n",
    "prep_data_sub_vector= [prep_data(i)for i in subs_file_path]\n"
   ]
  },
  {
   "cell_type": "code",
   "execution_count": null,
   "id": "f441a9b2",
   "metadata": {},
   "outputs": [],
   "source": []
  }
 ],
 "metadata": {
  "kernelspec": {
   "display_name": "Python 3 (ipykernel)",
   "language": "python",
   "name": "python3"
  },
  "language_info": {
   "codemirror_mode": {
    "name": "ipython",
    "version": 3
   },
   "file_extension": ".py",
   "mimetype": "text/x-python",
   "name": "python",
   "nbconvert_exporter": "python",
   "pygments_lexer": "ipython3",
   "version": "3.8.12"
  }
 },
 "nbformat": 4,
 "nbformat_minor": 5
}
