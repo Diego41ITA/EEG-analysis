{
 "cells": [
  {
   "cell_type": "code",
   "execution_count": 20,
   "id": "portuguese-texture",
   "metadata": {},
   "outputs": [],
   "source": [
    "import mne \n",
    "from glob import glob \n",
    "import os\n",
    "import matplotlib\n",
    "from openpyxl import load_workbook\n",
    "import numpy as np"
   ]
  },
  {
   "cell_type": "code",
   "execution_count": 21,
   "id": "antique-alexander",
   "metadata": {},
   "outputs": [],
   "source": [
    "matplotlib.use('Qt5Agg') "
   ]
  },
  {
   "cell_type": "code",
   "execution_count": 22,
   "id": "surgical-wallpaper",
   "metadata": {},
   "outputs": [
    {
     "name": "stdout",
     "output_type": "stream",
     "text": [
      "2\n"
     ]
    }
   ],
   "source": [
    "#quanti soggetti ho nella mia cartella?\n",
    "subs_file_path=glob(\"..\\..\\DATASET PRINCIPALE\\CartellaEEG/*.vhdr\")\n",
    "print(len(subs_file_path))"
   ]
  },
  {
   "cell_type": "code",
   "execution_count": 23,
   "id": "laughing-luther",
   "metadata": {},
   "outputs": [
    {
     "name": "stdout",
     "output_type": "stream",
     "text": [
      "2\n"
     ]
    }
   ],
   "source": [
    "#creo vettore file excel---- !ATTENZIONE FAR RUNNARE IL FILE EXCEL.YPTR per aggiustare gli excel\n",
    "excel_file_path=glob(\"..\\..\\DATASET PRINCIPALE\\Cartellaexcel/*.xlsx\")\n",
    "print(len(excel_file_path))"
   ]
  },
  {
   "cell_type": "code",
   "execution_count": 24,
   "id": "amber-cause",
   "metadata": {},
   "outputs": [],
   "source": [
    "#Creo la funzione che legge e processa i dati \n",
    "def prep_data(file_path):\n",
    "    data= mne.io.read_raw_brainvision(file_path, preload=True)\n",
    "    data.set_eeg_reference();\n",
    "    data.filter(l_freq=0.1,h_freq=100)\n",
    "    data.resample(250)\n",
    "    return data\n",
    "\n",
    "#Creo la funzione che estrae la matrice delle annotazioni dai file excel \n",
    "def get_vectors(data_path):\n",
    "\n",
    "    book=load_workbook(data_path)\n",
    "    sheet=book.active\n",
    "    \n",
    "    #onset\n",
    "    onset=[]\n",
    "    for row in sheet['a2':'a22249']:\n",
    "        for cel in row:\n",
    "               onset.append(cel.value)\n",
    "                \n",
    "    onset=np.array(onset)\n",
    "    onset=onset*0.001\n",
    "    \n",
    "    #duration \n",
    "    duration=np.ones((22248,), dtype=int)*0.01\n",
    "    \n",
    "    #description \n",
    "    animal=['animal']\n",
    "    description=[]\n",
    "    for row in sheet ['e2':'e22249']:\n",
    "        for cel in row:\n",
    "            if(cel.value in animal):\n",
    "                description.append(cel.value)\n",
    "            else: \n",
    "                description.append('E 1')\n",
    "    return [onset, duration, description] \n",
    "\n",
    "#creo la funzione che applica le annotazioni \n",
    "def fix_events(data_vector, matrix):\n",
    "    myannot=[mne.Annotations(onset=matrix[0][0], duration=matrix[0][1],description=matrix[0][2])for i in range(len(excel_file_path))]\n",
    "    for i in range(len(excel_file_path)):\n",
    "        data_vector[i].set_annotations(myannot[i])\n",
    "    \n",
    "    return data_vector"
   ]
  },
  {
   "cell_type": "code",
   "execution_count": 25,
   "id": "4ccd08c3",
   "metadata": {},
   "outputs": [
    {
     "name": "stdout",
     "output_type": "stream",
     "text": [
      "Extracting parameters from ..\\..\\DATASET PRINCIPALE\\CartellaEEG\\sub-01_task-rsvp_eeg.vhdr...\n",
      "Setting channel info structure...\n",
      "Reading 0 ... 3035739  =      0.000 ...  3035.739 secs...\n",
      "EEG channel type selected for re-referencing\n",
      "Applying average reference.\n",
      "Applying a custom EEG reference.\n",
      "Filtering raw data in 1 contiguous segment\n",
      "Setting up band-pass filter from 0.1 - 1e+02 Hz\n",
      "\n",
      "FIR filter parameters\n",
      "---------------------\n",
      "Designing a one-pass, zero-phase, non-causal bandpass filter:\n",
      "- Windowed time-domain design (firwin) method\n",
      "- Hamming window with 0.0194 passband ripple and 53 dB stopband attenuation\n",
      "- Lower passband edge: 0.10\n",
      "- Lower transition bandwidth: 0.10 Hz (-6 dB cutoff frequency: 0.05 Hz)\n",
      "- Upper passband edge: 100.00 Hz\n",
      "- Upper transition bandwidth: 25.00 Hz (-6 dB cutoff frequency: 112.50 Hz)\n",
      "- Filter length: 33001 samples (33.001 sec)\n",
      "\n",
      "Extracting parameters from ..\\..\\DATASET PRINCIPALE\\CartellaEEG\\sub-02_task-rsvp_eeg.vhdr...\n",
      "Setting channel info structure...\n",
      "Reading 0 ... 3227279  =      0.000 ...  3227.279 secs...\n",
      "EEG channel type selected for re-referencing\n",
      "Applying average reference.\n",
      "Applying a custom EEG reference.\n",
      "Filtering raw data in 1 contiguous segment\n",
      "Setting up band-pass filter from 0.1 - 1e+02 Hz\n",
      "\n",
      "FIR filter parameters\n",
      "---------------------\n",
      "Designing a one-pass, zero-phase, non-causal bandpass filter:\n",
      "- Windowed time-domain design (firwin) method\n",
      "- Hamming window with 0.0194 passband ripple and 53 dB stopband attenuation\n",
      "- Lower passband edge: 0.10\n",
      "- Lower transition bandwidth: 0.10 Hz (-6 dB cutoff frequency: 0.05 Hz)\n",
      "- Upper passband edge: 100.00 Hz\n",
      "- Upper transition bandwidth: 25.00 Hz (-6 dB cutoff frequency: 112.50 Hz)\n",
      "- Filter length: 33001 samples (33.001 sec)\n",
      "\n"
     ]
    }
   ],
   "source": [
    "#funzione preprocessing\n",
    "prep_data_sub_vector= [prep_data(i)for i in subs_file_path]\n"
   ]
  },
  {
   "cell_type": "code",
   "execution_count": 26,
   "id": "similar-rover",
   "metadata": {},
   "outputs": [],
   "source": [
    "#estraggo la matrice delle annotazioni \n",
    "matrix=[]\n",
    "for i in range(len(excel_file_path)):\n",
    "    matrix=[get_vectors(i)for i in excel_file_path]"
   ]
  },
  {
   "cell_type": "code",
   "execution_count": 27,
   "id": "f441a9b2",
   "metadata": {},
   "outputs": [],
   "source": [
    "data_vector_ok= fix_events(prep_data_sub_vector, matrix)"
   ]
  },
  {
   "cell_type": "code",
   "execution_count": 28,
   "id": "municipal-badge",
   "metadata": {},
   "outputs": [
    {
     "name": "stdout",
     "output_type": "stream",
     "text": [
      "Used Annotations descriptions: ['E 1', 'animal']\n",
      "Numero di altro: 20952\n",
      "Numero di animali: 1296\n",
      "Numero totale di eventi: 22248\n"
     ]
    }
   ],
   "source": [
    "events=mne.events_from_annotations(data_vector_ok[0])\n",
    "events\n",
    "#prima colonna --> sample number \n",
    "#terxa colonna--> event number \n",
    "\n",
    "#QUANTI SONO\n",
    "b=len(events[0][events[0][:,2]==10002])\n",
    "a=len(events[0][events[0][:,2]==10001])\n",
    "\n",
    "\n",
    "\n",
    "print(\"Numero di altro:\",a)\n",
    "print(\"Numero di animali:\",b)\n",
    "\n",
    "e=len(events[0])\n",
    "print(\"Numero totale di eventi:\",e)"
   ]
  },
  {
   "cell_type": "code",
   "execution_count": 29,
   "id": "square-router",
   "metadata": {},
   "outputs": [
    {
     "data": {
      "text/plain": [
       "<Figure size 1280x960 with 1 Axes>"
      ]
     },
     "execution_count": 29,
     "metadata": {},
     "output_type": "execute_result"
    }
   ],
   "source": [
    "mne.viz.plot_events(events[0])"
   ]
  },
  {
   "cell_type": "code",
   "execution_count": null,
   "id": "expensive-spice",
   "metadata": {},
   "outputs": [],
   "source": []
  },
  {
   "cell_type": "code",
   "execution_count": null,
   "id": "automotive-booking",
   "metadata": {},
   "outputs": [],
   "source": []
  }
 ],
 "metadata": {
  "kernelspec": {
   "display_name": "Python 3",
   "language": "python",
   "name": "python3"
  },
  "language_info": {
   "codemirror_mode": {
    "name": "ipython",
    "version": 3
   },
   "file_extension": ".py",
   "mimetype": "text/x-python",
   "name": "python",
   "nbconvert_exporter": "python",
   "pygments_lexer": "ipython3",
   "version": "3.7.1"
  }
 },
 "nbformat": 4,
 "nbformat_minor": 5
}
